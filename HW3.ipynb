{
 "cells": [
  {
   "cell_type": "markdown",
   "metadata": {},
   "source": [
    "# Assignment 3\n",
    "## 1. Designing CFGs for NLP\n",
    "### 1.1: Extend a CFG to support Number agreement, Pronouns and Dative Constructions"
   ]
  },
  {
   "cell_type": "markdown",
   "metadata": {},
   "source": [
    "Import the needed libraries"
   ]
  },
  {
   "cell_type": "code",
   "execution_count": 1,
   "metadata": {},
   "outputs": [],
   "source": [
    "import numpy as np\n",
    "import nltk\n",
    "from nltk.grammar import toy_pcfg2\n",
    "from nltk import Tree\n",
    "from nltk.treetransforms import chomsky_normal_form\n",
    "from nltk.corpus import LazyCorpusLoader, BracketParseCorpusReader\n",
    "from nltk import Nonterminal\n",
    "from nltk.grammar import Production\n",
    "from copy import deepcopy\n",
    "from collections import Counter\n",
    "import matplotlib.pyplot as plt\n",
    "from sklearn.model_selection import train_test_split\n",
    "from nltk.probability import *\n",
    "import math\n",
    "from nltk.parse import ViterbiParser"
   ]
  },
  {
   "cell_type": "code",
   "execution_count": 2,
   "metadata": {},
   "outputs": [
    {
     "name": "stdout",
     "output_type": "stream",
     "text": [
      "Parsing 'John left'\n",
      "    [ * John left]\n",
      "  S [ 'John' * left]\n",
      "  R [ NP * left]\n",
      "  S [ NP 'left' * ]\n",
      "  R [ NP IV * ]\n",
      "  R [ NP VP * ]\n",
      "  R [ S * ]\n",
      "(S (NP John) (VP (IV left)))\n",
      "Parsing 'John eats bread'\n",
      "    [ * John eats bread]\n",
      "  S [ 'John' * eats bread]\n",
      "  R [ NP * eats bread]\n",
      "  S [ NP 'eats' * bread]\n",
      "  R [ NP TV * bread]\n",
      "  S [ NP TV 'bread' * ]\n",
      "  R [ NP TV NP * ]\n",
      "  R [ NP VP * ]\n",
      "  R [ S * ]\n",
      "(S (NP John) (VP (TV eats) (NP bread)))\n"
     ]
    }
   ],
   "source": [
    "sg = \"\"\"\n",
    "S -> NP VP\n",
    "VP -> IV | TV NP\n",
    "NP -> 'John' | \"bread\"\n",
    "IV -> 'left'\n",
    "TV -> 'eats'\n",
    "\"\"\"\n",
    "g = nltk.CFG.fromstring(sg)\n",
    "\n",
    "# Bottom-up  parser\n",
    "sr_parser = nltk.ShiftReduceParser(g, trace=2)\n",
    "\n",
    "# Parse sentences and observe the behavior of the parser\n",
    "def parse_sentence(sent):\n",
    "    tokens = sent.split()\n",
    "    trees = sr_parser.parse(tokens)\n",
    "    for tree in trees:\n",
    "        print(tree)\n",
    "\n",
    "parse_sentence(\"John left\")\n",
    "parse_sentence(\"John eats bread\")"
   ]
  },
  {
   "cell_type": "markdown",
   "metadata": {},
   "source": [
    "This is the starting point code, which parses the sentences 'John left' and 'John eats bread'. We now extand it to some other sentences."
   ]
  },
  {
   "cell_type": "code",
   "execution_count": 3,
   "metadata": {},
   "outputs": [
    {
     "name": "stdout",
     "output_type": "stream",
     "text": [
      "Parsing 'John left'\n",
      "    [ * John left]\n",
      "  S [ 'John' * left]\n",
      "  R [ NP * left]\n",
      "  S [ NP 'left' * ]\n",
      "  R [ NP IV * ]\n",
      "  R [ NP VP * ]\n",
      "  R [ S * ]\n",
      "(S (NP John) (VP (IV left)))\n",
      "Parsing 'John loves Mary'\n",
      "    [ * John loves Mary]\n",
      "  S [ 'John' * loves Mary]\n",
      "  R [ NP * loves Mary]\n",
      "  S [ NP 'loves' * Mary]\n",
      "  R [ NP TV * Mary]\n",
      "  S [ NP TV 'Mary' * ]\n",
      "  R [ NP TV NP * ]\n",
      "  R [ NP VP * ]\n",
      "  R [ S * ]\n",
      "(S (NP John) (VP (TV loves) (NP Mary)))\n",
      "Parsing 'They love Mary'\n",
      "    [ * They love Mary]\n",
      "  S [ 'They' * love Mary]\n",
      "  R [ PN * love Mary]\n",
      "  R [ NP * love Mary]\n",
      "  S [ NP 'love' * Mary]\n",
      "  R [ NP TV * Mary]\n",
      "  S [ NP TV 'Mary' * ]\n",
      "  R [ NP TV NP * ]\n",
      "  R [ NP VP * ]\n",
      "  R [ S * ]\n",
      "(S (NP (PN They)) (VP (TV love) (NP Mary)))\n",
      "Parsing 'They love her'\n",
      "    [ * They love her]\n",
      "  S [ 'They' * love her]\n",
      "  R [ PN * love her]\n",
      "  R [ NP * love her]\n",
      "  S [ NP 'love' * her]\n",
      "  R [ NP TV * her]\n",
      "  S [ NP TV 'her' * ]\n",
      "  R [ NP TV PN * ]\n",
      "  R [ NP TV NP * ]\n",
      "  R [ NP VP * ]\n",
      "  R [ S * ]\n",
      "(S (NP (PN They)) (VP (TV love) (NP (PN her))))\n",
      "Parsing 'She loves them'\n",
      "    [ * She loves them]\n",
      "  S [ 'She' * loves them]\n",
      "  R [ PN * loves them]\n",
      "  R [ NP * loves them]\n",
      "  S [ NP 'loves' * them]\n",
      "  R [ NP TV * them]\n",
      "  S [ NP TV 'them' * ]\n",
      "  R [ NP TV PN * ]\n",
      "  R [ NP TV NP * ]\n",
      "  R [ NP VP * ]\n",
      "  R [ S * ]\n",
      "(S (NP (PN She)) (VP (TV loves) (NP (PN them))))\n",
      "Parsing 'Everybody loves John'\n",
      "    [ * Everybody loves John]\n",
      "  S [ 'Everybody' * loves John]\n",
      "  R [ PN * loves John]\n",
      "  R [ NP * loves John]\n",
      "  S [ NP 'loves' * John]\n",
      "  R [ NP TV * John]\n",
      "  S [ NP TV 'John' * ]\n",
      "  R [ NP TV NP * ]\n",
      "  R [ NP VP * ]\n",
      "  R [ S * ]\n",
      "(S (NP (PN Everybody)) (VP (TV loves) (NP John)))\n",
      "Parsing 'A boy loves Mary'\n",
      "    [ * A boy loves Mary]\n",
      "  S [ 'A' * boy loves Mary]\n",
      "  R [ Det * boy loves Mary]\n",
      "  S [ Det 'boy' * loves Mary]\n",
      "  R [ Det NP * loves Mary]\n",
      "  R [ NP * loves Mary]\n",
      "  S [ NP 'loves' * Mary]\n",
      "  R [ NP TV * Mary]\n",
      "  S [ NP TV 'Mary' * ]\n",
      "  R [ NP TV NP * ]\n",
      "  R [ NP VP * ]\n",
      "  R [ S * ]\n",
      "(S (NP (Det A) (NP boy)) (VP (TV loves) (NP Mary)))\n",
      "Parsing 'John gave Mary a heavy book'\n",
      "    [ * John gave Mary a heavy book]\n",
      "  S [ 'John' * gave Mary a heavy book]\n",
      "  R [ NP * gave Mary a heavy book]\n",
      "  S [ NP 'gave' * Mary a heavy book]\n",
      "  R [ NP DatV * Mary a heavy book]\n",
      "  S [ NP DatV 'Mary' * a heavy book]\n",
      "  R [ NP DatV NP * a heavy book]\n",
      "  S [ NP DatV NP 'a' * heavy book]\n",
      "  R [ NP DatV NP Det * heavy book]\n",
      "  S [ NP DatV NP Det 'heavy' * book]\n",
      "  R [ NP DatV NP Det ADJ * book]\n",
      "  S [ NP DatV NP Det ADJ 'book' * ]\n",
      "  R [ NP DatV NP Det ADJ NP * ]\n",
      "  R [ NP DatV NP Det NP * ]\n",
      "  R [ NP DatV NP NP * ]\n",
      "  R [ NP VP * ]\n",
      "  R [ S * ]\n",
      "(S\n",
      "  (NP John)\n",
      "  (VP (DatV gave) (NP Mary) (NP (Det a) (NP (ADJ heavy) (NP book)))))\n",
      "Parsing 'John gave it to Mary'\n",
      "    [ * John gave it to Mary]\n",
      "  S [ 'John' * gave it to Mary]\n",
      "  R [ NP * gave it to Mary]\n",
      "  S [ NP 'gave' * it to Mary]\n",
      "  R [ NP DatV * it to Mary]\n",
      "  S [ NP DatV 'it' * to Mary]\n",
      "  R [ NP DatV PN * to Mary]\n",
      "  R [ NP DatV NP * to Mary]\n",
      "  S [ NP DatV NP 'to' * Mary]\n",
      "  R [ NP DatV NP P * Mary]\n",
      "  S [ NP DatV NP P 'Mary' * ]\n",
      "  R [ NP DatV NP P NP * ]\n",
      "  R [ NP DatV NP PP * ]\n",
      "  R [ NP VP * ]\n",
      "  R [ S * ]\n",
      "(S (NP John) (VP (DatV gave) (NP (PN it)) (PP (P to) (NP Mary))))\n"
     ]
    }
   ],
   "source": [
    "sg = \"\"\"\n",
    "S -> NP VP\n",
    "VP -> IV | TV NP | DatV NP NP | DatV NP PP\n",
    "NP -> 'John' | 'bread' | 'Mary' | PN | 'boy' | Det NP | ADJ NP | 'book'\n",
    "IV -> 'left'\n",
    "TV -> 'eats' | 'loves' | 'love'\n",
    "PN -> 'They' | 'her' | 'She' | 'them' | 'Everybody' | 'it'\n",
    "Det -> 'A' | 'a'\n",
    "DatV ->'gave'\n",
    "ADJ -> 'heavy'\n",
    "PP -> P NP\n",
    "P ->'to'\n",
    "\"\"\"\n",
    "\n",
    "g = nltk.CFG.fromstring(sg)\n",
    "\n",
    "# Bottom-up  parser\n",
    "sr_parser = nltk.ShiftReduceParser(g, trace=2)\n",
    "\n",
    "sents = ['John left',\n",
    "         'John loves Mary',\n",
    "         'They love Mary',\n",
    "         'They love her',\n",
    "         'She loves them',\n",
    "         'Everybody loves John',\n",
    "         'A boy loves Mary',\n",
    "         'John gave Mary a heavy book',\n",
    "         'John gave it to Mary']\n",
    "for s in sents:\n",
    "    parse_sentence(s)"
   ]
  },
  {
   "cell_type": "markdown",
   "metadata": {},
   "source": [
    "There is no need to encode gender in the grammer since the grammatical structure is not affected by the gender of the subject/object. "
   ]
  },
  {
   "cell_type": "code",
   "execution_count": 4,
   "metadata": {},
   "outputs": [
    {
     "name": "stdout",
     "output_type": "stream",
     "text": [
      "Parsing 'A book left'\n",
      "    [ * A book left]\n",
      "  S [ 'A' * book left]\n",
      "  R [ Det * book left]\n",
      "  S [ Det 'book' * left]\n",
      "  R [ Det NP * left]\n",
      "  R [ NP * left]\n",
      "  S [ NP 'left' * ]\n",
      "  R [ NP IV * ]\n",
      "  R [ NP VP * ]\n",
      "  R [ S * ]\n",
      "(S (NP (Det A) (NP book)) (VP (IV left)))\n"
     ]
    }
   ],
   "source": [
    "parse_sentence(\"A book left\")"
   ]
  },
  {
   "cell_type": "markdown",
   "metadata": {},
   "source": [
    "'A book left' is an example for an ungrammatical sentence that is recognized as grammatical by the above grammer."
   ]
  },
  {
   "cell_type": "markdown",
   "metadata": {},
   "source": [
    "### 1.2: Extend a CFG to support Coordination and Prepositional Phrases"
   ]
  },
  {
   "cell_type": "code",
   "execution_count": 5,
   "metadata": {},
   "outputs": [
    {
     "name": "stdout",
     "output_type": "stream",
     "text": [
      "Parsing 'John saw a man with a telescope end'\n",
      "    [ * John saw a man with a telescope end]\n",
      "  S [ 'John' * saw a man with a telescope end]\n",
      "  R [ NP * saw a man with a telescope end]\n",
      "  S [ NP 'saw' * a man with a telescope end]\n",
      "  R [ NP V * a man with a telescope end]\n",
      "  S [ NP V 'a' * man with a telescope end]\n",
      "  R [ NP V Det * man with a telescope end]\n",
      "  S [ NP V Det 'man' * with a telescope end]\n",
      "  R [ NP V Det N * with a telescope end]\n",
      "  R [ NP V NP * with a telescope end]\n",
      "  S [ NP V NP 'with' * a telescope end]\n",
      "  R [ NP V NP P * a telescope end]\n",
      "  S [ NP V NP P 'a' * telescope end]\n",
      "  R [ NP V NP P Det * telescope end]\n",
      "  S [ NP V NP P Det 'telescope' * end]\n",
      "  R [ NP V NP P Det N * end]\n",
      "  R [ NP V NP P NP * end]\n",
      "  R [ NP V NP PP * end]\n",
      "  R [ NP V NP * end]\n",
      "  S [ NP V NP 'end' * ]\n",
      "  R [ NP VP * ]\n",
      "  R [ S * ]\n",
      "(S\n",
      "  (NP John)\n",
      "  (VP\n",
      "    (V saw)\n",
      "    (NP\n",
      "      (NP (Det a) (N man))\n",
      "      (PP (P with) (NP (Det a) (N telescope))))\n",
      "    end))\n",
      "Parsing 'John saw a man on the hill with a telescope end'\n",
      "    [ * John saw a man on the hill with a telescope end]\n",
      "  S [ 'John' * saw a man on the hill with a telescope end]\n",
      "  R [ NP * saw a man on the hill with a telescope end]\n",
      "  S [ NP 'saw' * a man on the hill with a telescope end]\n",
      "  R [ NP V * a man on the hill with a telescope end]\n",
      "  S [ NP V 'a' * man on the hill with a telescope end]\n",
      "  R [ NP V Det * man on the hill with a telescope end]\n",
      "  S [ NP V Det 'man' * on the hill with a telescope end]\n",
      "  R [ NP V Det N * on the hill with a telescope end]\n",
      "  R [ NP V NP * on the hill with a telescope end]\n",
      "  S [ NP V NP 'on' * the hill with a telescope end]\n",
      "  R [ NP V NP P * the hill with a telescope end]\n",
      "  S [ NP V NP P 'the' * hill with a telescope end]\n",
      "  R [ NP V NP P Det * hill with a telescope end]\n",
      "  S [ NP V NP P Det 'hill' * with a telescope end]\n",
      "  R [ NP V NP P Det N * with a telescope end]\n",
      "  R [ NP V NP P NP * with a telescope end]\n",
      "  R [ NP V NP PP * with a telescope end]\n",
      "  R [ NP V NP * with a telescope end]\n",
      "  S [ NP V NP 'with' * a telescope end]\n",
      "  R [ NP V NP P * a telescope end]\n",
      "  S [ NP V NP P 'a' * telescope end]\n",
      "  R [ NP V NP P Det * telescope end]\n",
      "  S [ NP V NP P Det 'telescope' * end]\n",
      "  R [ NP V NP P Det N * end]\n",
      "  R [ NP V NP P NP * end]\n",
      "  R [ NP V NP PP * end]\n",
      "  R [ NP V NP * end]\n",
      "  S [ NP V NP 'end' * ]\n",
      "  R [ NP VP * ]\n",
      "  R [ S * ]\n",
      "(S\n",
      "  (NP John)\n",
      "  (VP\n",
      "    (V saw)\n",
      "    (NP\n",
      "      (NP (NP (Det a) (N man)) (PP (P on) (NP (Det the) (N hill))))\n",
      "      (PP (P with) (NP (Det a) (N telescope))))\n",
      "    end))\n",
      "Parsing 'Mary knows men and women end'\n",
      "    [ * Mary knows men and women end]\n",
      "  S [ 'Mary' * knows men and women end]\n",
      "  R [ NP * knows men and women end]\n",
      "  S [ NP 'knows' * men and women end]\n",
      "  R [ NP V * men and women end]\n",
      "  S [ NP V 'men' * and women end]\n",
      "  R [ NP V N * and women end]\n",
      "  S [ NP V N 'and' * women end]\n",
      "  R [ NP V N CONJ * women end]\n",
      "  S [ NP V N CONJ 'women' * end]\n",
      "  R [ NP V N CONJ N * end]\n",
      "  R [ NP V NP * end]\n",
      "  S [ NP V NP 'end' * ]\n",
      "  R [ NP VP * ]\n",
      "  R [ S * ]\n",
      "(S (NP Mary) (VP (V knows) (NP (N men) (CONJ and) (N women)) end))\n",
      "Parsing 'Mary knows men, children and women end'\n",
      "    [ * Mary knows men, children and women end]\n",
      "  S [ 'Mary' * knows men, children and women end]\n",
      "  R [ NP * knows men, children and women end]\n",
      "  S [ NP 'knows' * men, children and women end]\n",
      "  R [ NP V * men, children and women end]\n",
      "  S [ NP V 'men,' * children and women end]\n",
      "  R [ NP V N * children and women end]\n",
      "  S [ NP V N 'children' * and women end]\n",
      "  R [ NP V N N * and women end]\n",
      "  R [ NP V N * and women end]\n",
      "  S [ NP V N 'and' * women end]\n",
      "  R [ NP V N CONJ * women end]\n",
      "  S [ NP V N CONJ 'women' * end]\n",
      "  R [ NP V N CONJ N * end]\n",
      "  R [ NP V NP * end]\n",
      "  S [ NP V NP 'end' * ]\n",
      "  R [ NP VP * ]\n",
      "  R [ S * ]\n",
      "(S\n",
      "  (NP Mary)\n",
      "  (VP\n",
      "    (V knows)\n",
      "    (NP (N (N men,) (N children)) (CONJ and) (N women))\n",
      "    end))\n",
      "Parsing 'John and Mary eat bread end'\n",
      "    [ * John and Mary eat bread end]\n",
      "  S [ 'John' * and Mary eat bread end]\n",
      "  R [ NP * and Mary eat bread end]\n",
      "  S [ NP 'and' * Mary eat bread end]\n",
      "  R [ NP CONJ * Mary eat bread end]\n",
      "  S [ NP CONJ 'Mary' * eat bread end]\n",
      "  R [ NP CONJ NP * eat bread end]\n",
      "  R [ NP * eat bread end]\n",
      "  S [ NP 'eat' * bread end]\n",
      "  R [ NP V * bread end]\n",
      "  S [ NP V 'bread' * end]\n",
      "  R [ NP V NP * end]\n",
      "  S [ NP V NP 'end' * ]\n",
      "  R [ NP VP * ]\n",
      "  R [ S * ]\n",
      "(S (NP (NP John) (CONJ and) (NP Mary)) (VP (V eat) (NP bread) end))\n",
      "Parsing 'John and Mary eat bread with cheese end'\n",
      "    [ * John and Mary eat bread with cheese end]\n",
      "  S [ 'John' * and Mary eat bread with cheese end]\n",
      "  R [ NP * and Mary eat bread with cheese end]\n",
      "  S [ NP 'and' * Mary eat bread with cheese end]\n",
      "  R [ NP CONJ * Mary eat bread with cheese end]\n",
      "  S [ NP CONJ 'Mary' * eat bread with cheese end]\n",
      "  R [ NP CONJ NP * eat bread with cheese end]\n",
      "  R [ NP * eat bread with cheese end]\n",
      "  S [ NP 'eat' * bread with cheese end]\n",
      "  R [ NP V * bread with cheese end]\n",
      "  S [ NP V 'bread' * with cheese end]\n",
      "  R [ NP V NP * with cheese end]\n",
      "  S [ NP V NP 'with' * cheese end]\n",
      "  R [ NP V NP P * cheese end]\n",
      "  S [ NP V NP P 'cheese' * end]\n",
      "  R [ NP V NP P NP * end]\n",
      "  R [ NP V NP PP * end]\n",
      "  R [ NP V NP * end]\n",
      "  S [ NP V NP 'end' * ]\n",
      "  R [ NP VP * ]\n",
      "  R [ S * ]\n",
      "(S\n",
      "  (NP (NP John) (CONJ and) (NP Mary))\n",
      "  (VP (V eat) (NP (NP bread) (PP (P with) (NP cheese))) end))\n"
     ]
    }
   ],
   "source": [
    "sg = \"\"\"\n",
    "S -> NP VP\n",
    "VP -> V NP 'end'\n",
    "NP -> 'John' | Det N | NP PP | N CONJ N | 'Mary' | NP CONJ NP | 'bread' | 'cheese'\n",
    "V -> 'saw' | 'knows' | 'eat'\n",
    "Det -> 'a' | 'the'\n",
    "N -> 'man' | 'telescope' | 'hill' | 'men' | 'women' | 'men,' | 'children' | N N \n",
    "P -> 'with' | 'on'\n",
    "PP -> P NP | PP PP\n",
    "CONJ -> 'and'\n",
    "\"\"\"\n",
    "g = nltk.CFG.fromstring(sg)\n",
    "\n",
    "# Bottom-up  parser\n",
    "sr_parser = nltk.ShiftReduceParser(g, trace=2)\n",
    "\n",
    "sents = ['John saw a man with a telescope',\n",
    "        'John saw a man on the hill with a telescope',\n",
    "        'Mary knows men and women',\n",
    "        'Mary knows men, children and women',\n",
    "        'John and Mary eat bread',\n",
    "        'John and Mary eat bread with cheese']\n",
    "for s in sents:\n",
    "    s = s + ' end'\n",
    "    parse_sentence(s)"
   ]
  },
  {
   "cell_type": "markdown",
   "metadata": {},
   "source": [
    "For the above sentences, we had to add the \"end trick\". We concatenated 'end' at the end of each sentence, and allow the reduction to S only after 'end' is observed. 'John and Mary eat bread' is included in  'John and Mary eat bread with cheese', and so the shift-reduce parser cannot work for them both. We have to force it to reduce the sentence only after reading it all, and the \"end trick\" allows that. Another possibility to solve this problem is to use a different parser."
   ]
  },
  {
   "cell_type": "code",
   "execution_count": 6,
   "metadata": {},
   "outputs": [
    {
     "name": "stdout",
     "output_type": "stream",
     "text": [
      "Parsing 'John and a telescope saw a man on the hill end'\n",
      "    [ * John and a telescope saw a man on the hill end]\n",
      "  S [ 'John' * and a telescope saw a man on the hill end]\n",
      "  R [ NP * and a telescope saw a man on the hill end]\n",
      "  S [ NP 'and' * a telescope saw a man on the hill end]\n",
      "  R [ NP CONJ * a telescope saw a man on the hill end]\n",
      "  S [ NP CONJ 'a' * telescope saw a man on the hill end]\n",
      "  R [ NP CONJ Det * telescope saw a man on the hill end]\n",
      "  S [ NP CONJ Det 'telescope' * saw a man on the hill end]\n",
      "  R [ NP CONJ Det N * saw a man on the hill end]\n",
      "  R [ NP CONJ NP * saw a man on the hill end]\n",
      "  R [ NP * saw a man on the hill end]\n",
      "  S [ NP 'saw' * a man on the hill end]\n",
      "  R [ NP V * a man on the hill end]\n",
      "  S [ NP V 'a' * man on the hill end]\n",
      "  R [ NP V Det * man on the hill end]\n",
      "  S [ NP V Det 'man' * on the hill end]\n",
      "  R [ NP V Det N * on the hill end]\n",
      "  R [ NP V NP * on the hill end]\n",
      "  S [ NP V NP 'on' * the hill end]\n",
      "  R [ NP V NP P * the hill end]\n",
      "  S [ NP V NP P 'the' * hill end]\n",
      "  R [ NP V NP P Det * hill end]\n",
      "  S [ NP V NP P Det 'hill' * end]\n",
      "  R [ NP V NP P Det N * end]\n",
      "  R [ NP V NP P NP * end]\n",
      "  R [ NP V NP PP * end]\n",
      "  R [ NP V NP * end]\n",
      "  S [ NP V NP 'end' * ]\n",
      "  R [ NP VP * ]\n",
      "  R [ S * ]\n",
      "(S\n",
      "  (NP (NP John) (CONJ and) (NP (Det a) (N telescope)))\n",
      "  (VP\n",
      "    (V saw)\n",
      "    (NP (NP (Det a) (N man)) (PP (P on) (NP (Det the) (N hill))))\n",
      "    end))\n",
      "Parsing 'Mary knows a men end'\n",
      "    [ * Mary knows a men end]\n",
      "  S [ 'Mary' * knows a men end]\n",
      "  R [ NP * knows a men end]\n",
      "  S [ NP 'knows' * a men end]\n",
      "  R [ NP V * a men end]\n",
      "  S [ NP V 'a' * men end]\n",
      "  R [ NP V Det * men end]\n",
      "  S [ NP V Det 'men' * end]\n",
      "  R [ NP V Det N * end]\n",
      "  R [ NP V NP * end]\n",
      "  S [ NP V NP 'end' * ]\n",
      "  R [ NP VP * ]\n",
      "  R [ S * ]\n",
      "(S (NP Mary) (VP (V knows) (NP (Det a) (N men)) end))\n",
      "Parsing 'John and Mary knows on a hill end'\n",
      "    [ * John and Mary knows on a hill end]\n",
      "  S [ 'John' * and Mary knows on a hill end]\n",
      "  R [ NP * and Mary knows on a hill end]\n",
      "  S [ NP 'and' * Mary knows on a hill end]\n",
      "  R [ NP CONJ * Mary knows on a hill end]\n",
      "  S [ NP CONJ 'Mary' * knows on a hill end]\n",
      "  R [ NP CONJ NP * knows on a hill end]\n",
      "  R [ NP * knows on a hill end]\n",
      "  S [ NP 'knows' * on a hill end]\n",
      "  R [ NP V * on a hill end]\n",
      "  S [ NP V 'on' * a hill end]\n",
      "  R [ NP V P * a hill end]\n",
      "  S [ NP V P 'a' * hill end]\n",
      "  R [ NP V P Det * hill end]\n",
      "  S [ NP V P Det 'hill' * end]\n",
      "  R [ NP V P Det N * end]\n",
      "  R [ NP V P NP * end]\n",
      "  R [ NP V PP * end]\n",
      "  S [ NP V PP 'end' * ]\n"
     ]
    }
   ],
   "source": [
    "sents = ['John and a telescope saw a man on the hill',\n",
    "        'Mary knows a men',\n",
    "        'John and Mary knows on a hill']\n",
    "for s in sents:\n",
    "    s = s + ' end'\n",
    "    parse_sentence(s)"
   ]
  },
  {
   "cell_type": "markdown",
   "metadata": {},
   "source": [
    "The above three sentences demonstrate the grammer's over generation. The first sentence: 'John and a telescope saw a man on the hill' is accepted since the grammer allows noun-phrase+conjunction+noun-phrase, and 'a telescope' is a noun-phrase. There is no seperation between active and passive verbs, and so an item such as telescope is allowed to come in a sentence with an active verb such as 'saw'. The second sentence 'Mary knows a men' demonstrates how the grammer does not diffrentiate between singular and pluar. If we would divide the nouns to plural and singular, we can add a rule : \"NP -> 'a' SingN\", and so 'a men' would not be accepted. The problem with the last sentence 'John and Mary knows on a hill', is that the preposition 'on' is unlikely to come after the verb 'knows' (instead 'about' is the appropriate prepostion). So it is not enough to to accept a verb and a prepositional-phrase after it, but the preposition should match the specific verb."
   ]
  },
  {
   "cell_type": "markdown",
   "metadata": {},
   "source": [
    "## 2: Learning a PCFG from a Treebank\n",
    "### 2.1: Random PCFG Generation"
   ]
  },
  {
   "cell_type": "code",
   "execution_count": 7,
   "metadata": {},
   "outputs": [
    {
     "name": "stdout",
     "output_type": "stream",
     "text": [
      "(S (NP John) (VP (TV loves) (NP John)))\n"
     ]
    }
   ],
   "source": [
    "from nltk.probability import DictionaryProbDist\n",
    "from nltk import Tree\n",
    "\n",
    "def pcfg_generate(grammar):\n",
    "    start = grammar.start() # get the grammar's strating symbol\n",
    "    struct = list()\n",
    "    struct.append('(' + str(start))  \n",
    "    pcfg_generate_rec(start, grammar, struct)\n",
    "    last = struct[len(struct)-1]\n",
    "    last = last + ')'\n",
    "    struct[len(struct)-1] = last\n",
    "    tree = Tree.fromstring(' '.join(struct)) \n",
    "    return tree\n",
    "\n",
    "def pcfg_generate_rec(curr, grammar, struct):\n",
    "    \n",
    "    if isinstance(curr, nltk.grammar.Nonterminal):\n",
    "        curr_productions = grammar.productions(curr) # get all production that their lhs = curr\n",
    "\n",
    "        rule = sample(curr_productions)\n",
    "        \n",
    "        for token in rule:\n",
    "            if not isinstance(token, nltk.grammar.Nonterminal):\n",
    "                struct.append(str(token))\n",
    "            else:\n",
    "                struct.append(\"(\" + str(token)) \n",
    "                pcfg_generate_rec(token, grammar, struct)\n",
    "                last = struct[len(struct)-1]\n",
    "                last = last + ')'\n",
    "                struct[len(struct)-1] = last\n",
    "            \n",
    "def sample(productions):\n",
    "    \n",
    "     # create distribution of productions\n",
    "        dict = {}\n",
    "        for pr in productions: dict[pr.rhs()] = pr.prob()\n",
    "        curr_probDist = DictionaryProbDist(dict)\n",
    "\n",
    "        return curr_probDist.generate() # sample a production\n",
    "        \n",
    "demo_grammar = \"\"\"\n",
    "   S -> NP VP [1.0]\n",
    "    VP -> TV NP [0.8]\n",
    "    VP -> IV [0.2]\n",
    "    TV -> 'loves' [0.9]\n",
    "    TV -> 'hates' [0.1]\n",
    "    IV -> 'left' [1.0]\n",
    "    NP -> 'John' [0.5]\n",
    "    NP -> 'Mary' [0.5]\n",
    "\"\"\"\n",
    "grammar = nltk.PCFG.fromstring(demo_grammar)    \n",
    "t = pcfg_generate(grammar)\n",
    "print(t)"
   ]
  },
  {
   "cell_type": "code",
   "execution_count": 8,
   "metadata": {},
   "outputs": [],
   "source": [
    "from nltk.grammar import toy_pcfg2\n",
    "\n",
    "f = open('toy_pcfg2.gen', \"w\", encoding=\"utf-8\")\n",
    "for i in range(1000):\n",
    "    t = pcfg_generate(toy_pcfg2)\n",
    "    f.write(str(t) + '\\n')"
   ]
  },
  {
   "cell_type": "markdown",
   "metadata": {},
   "source": [
    "First we generate 1000 trees from toy_pcfg2's grammar and save them to a file."
   ]
  },
  {
   "cell_type": "code",
   "execution_count": 9,
   "metadata": {},
   "outputs": [],
   "source": [
    "f = open('toy_pcfg2.gen',encoding=\"utf8\")\n",
    "trees_as_text = f.read()\n",
    "trees =  ['(S' + t for t in trees_as_text.split('(S')] # split to 1000 trees\n",
    "trees = trees[1:]\n"
   ]
  },
  {
   "cell_type": "markdown",
   "metadata": {},
   "source": [
    "Next we estimate the non-terminal conditional distribution from the generated trees, and compare them to the true distributions using KL-divergence as the comparison metric."
   ]
  },
  {
   "cell_type": "code",
   "execution_count": 10,
   "metadata": {},
   "outputs": [
    {
     "name": "stdout",
     "output_type": "stream",
     "text": [
      "KL divergence for S symbol: 0.0\n",
      "KL divergence for NP symbol: 0.00042786770615690396\n",
      "KL divergence for Name symbol: 3.532720596349705e-05\n",
      "KL divergence for VP symbol: 0.0002503095021642032\n",
      "KL divergence for V symbol: 0.00035846428678317725\n",
      "KL divergence for Det symbol: 0.0012664145366377902\n",
      "KL divergence for N symbol: 0.0023370405619678146\n",
      "KL divergence for PP symbol: 0.0\n",
      "KL divergence for P symbol: 0.0008082100239442148\n"
     ]
    }
   ],
   "source": [
    "from nltk.probability import *\n",
    "import math\n",
    "from nltk.grammar import Production\n",
    "\n",
    "# computes KL-divergence\n",
    "# p, q : MLEProbDist objetc\n",
    "# size_p, size_q : int\n",
    "# X : iterable with all possible events\n",
    "def kl_divergence(p, size_p, q, size_q, X):\n",
    "    \n",
    "    # initialize smoothing parameters\n",
    "    eps = 0.000001\n",
    "    pc = eps * (len(X)-size_p) / size_p\n",
    "    qc = eps * (len(X)-size_q) / size_q\n",
    "    \n",
    "    kl = 0.0\n",
    "    for x in X:\n",
    "        pi = p.prob(x) - pc\n",
    "        if pi <= 0:\n",
    "            pi = eps\n",
    "        qi = q.prob(x) - pc\n",
    "        if qi <= 0:\n",
    "            qi = eps\n",
    "        kl += pi * math.log(pi/qi, 2)\n",
    "    \n",
    "    return kl\n",
    "\n",
    "# converts PCFG productions to MLEProbDist object\n",
    "def pcfg_to_mleprobdist(pcfg_productions):\n",
    "    f = FreqDist()\n",
    "    for p in pcfg_productions:\n",
    "        f[Production(p.lhs(), p.rhs())] = p.prob()\n",
    "    return MLEProbDist(f), len(f)\n",
    "\n",
    "# dictionaries with productions as keys and their counts as values\n",
    "pcount = {} \n",
    "lcount = {}  \n",
    "\n",
    "# compute counts from trees\n",
    "for t in trees:\n",
    "    t = Tree.fromstring(t)  \n",
    "    # update dictionaries according to observed productions\n",
    "    for prod in t.productions():  \n",
    "       # lcount[prod.lhs()] = lcount.get(prod.lhs(), 0) + 1 \n",
    "        pcount[prod] = pcount.get(prod, 0) + 1\n",
    "        if prod.rhs():\n",
    "            lcount[prod.lhs()] = lcount.get(prod.lhs(), 0) + 1\n",
    "        \n",
    "\n",
    "# for each non-terminal : estimate the conditional distribution of the productions based on the counts, and compare it to the true ditribution with KL-divergence       \n",
    "for lhs in lcount:\n",
    "   \n",
    "    # represent the conditional distribution with the MLEProbDist object of the samples trees\n",
    "    f = FreqDist() \n",
    "    lhs_productions = [p for p in pcount if p.lhs() == lhs]  \n",
    "    for p in lhs_productions:\n",
    "        f[p] = pcount[p] \n",
    "    q = MLEProbDist(f)\n",
    "    size_q = len(f)\n",
    "    \n",
    "    # represent the conditional distribution with the MLEProbDist object of the toy2_pcfg\n",
    "    p, size_p = pcfg_to_mleprobdist(toy_pcfg2.productions(lhs))\n",
    "    \n",
    "\n",
    "    # compute KL-Divergence with smoothing\n",
    "    X = [Production(p.lhs(), p.rhs()) for p in toy_pcfg2.productions(lhs)]     \n",
    "    kl = kl_divergence(p, size_p, q, size_q, X)\n",
    "    print('KL divergence for ' + str(lhs) + ' symbol: ' + str(kl))\n",
    "            "
   ]
  },
  {
   "cell_type": "code",
   "execution_count": 11,
   "metadata": {},
   "outputs": [
    {
     "name": "stdout",
     "output_type": "stream",
     "text": [
      "[S -> NP VP [1.0], VP -> V NP [0.59], VP -> V [0.4], VP -> VP PP [0.01], NP -> Det N [0.41], NP -> Name [0.28], NP -> NP PP [0.31], PP -> P NP [1.0], V -> 'saw' [0.21], V -> 'ate' [0.51], V -> 'ran' [0.28], N -> 'boy' [0.11], N -> 'cookie' [0.12], N -> 'table' [0.13], N -> 'telescope' [0.14], N -> 'hill' [0.5], Name -> 'Jack' [0.52], Name -> 'Bob' [0.48], P -> 'with' [0.61], P -> 'under' [0.39], Det -> 'the' [0.41], Det -> 'a' [0.31], Det -> 'my' [0.28]]\n"
     ]
    }
   ],
   "source": [
    "print(toy_pcfg2.productions())"
   ]
  },
  {
   "cell_type": "markdown",
   "metadata": {},
   "source": [
    "The non-terminals S and PP distributions were computed perfectly. This is very not surprising, since their production is deterministic. All other estimated distributions were very close to the true distributions but not equal. They were close because the sample size is large enough (1000 trees), but it is still a finite sample. hence the KL-divergence is greater than zero.\n",
    "<br>\n",
    "The highest KL-divergence was received for 'Det' symbol. This is because the true distributiom of 'Det' is very close to a uniform distribution, and so it's learning rate is slower. 'N' has the greatest support (4 different outcomes), which might also explain why it's KL-divergence is not so good compared to the others. P was the easiest distribution to estimate out of the non-deteministics, since it has only two outcomes, and altough it isn't peaky, it is not close to uniform."
   ]
  },
  {
   "cell_type": "markdown",
   "metadata": {},
   "source": [
    "### 2.2: Learn a PCFG from a Treebank"
   ]
  },
  {
   "cell_type": "code",
   "execution_count": 12,
   "metadata": {},
   "outputs": [],
   "source": [
    "from nltk.corpus import LazyCorpusLoader, BracketParseCorpusReader\n",
    "import nltk\n",
    "from nltk import Nonterminal\n",
    "\n",
    "# 'NONE' filltering\n",
    "def non_filtering(tree):\n",
    "    for ind, leaf in reversed(list(enumerate(tree.leaves()))):\n",
    "        postn = tree.leaf_treeposition(ind)\n",
    "        parentpos = postn[:-1]\n",
    "        parentpos_label = tree[parentpos].label()\n",
    "        if 'NONE' in parentpos_label:\n",
    "            while parentpos and len(tree[parentpos]) == 1:\n",
    "                postn = parentpos\n",
    "                parentpos = postn[:-1]\n",
    "            del tree[postn]\n",
    "\n",
    "def simplify_functional_tag(tag):\n",
    "    if '-' in tag:\n",
    "        tag = tag.split('-')[0]\n",
    "    return tag\n",
    "\n",
    "treebank = LazyCorpusLoader('treebank/combined', BracketParseCorpusReader, r'wsj_.*\\.mrg')\n",
    "\n",
    "# we need to transform the tree to remove NONE tags and simplify tags.\n",
    "def get_tag(tree):\n",
    "    if isinstance(tree, Tree):\n",
    "        return Nonterminal(simplify_functional_tag(tree.label()))\n",
    "    else:\n",
    "        return tree\n",
    "\n",
    "def tree_to_production(tree):\n",
    "    return Production(get_tag(tree), [get_tag(child) for child in tree])\n",
    "\n",
    "def tree_to_productions(tree):\n",
    "    non_filtering(tree)\n",
    "    yield tree_to_production(tree)\n",
    "    for child in tree:\n",
    "        if isinstance(child, Tree):\n",
    "            for prod in tree_to_productions(child):\n",
    "                yield prod"
   ]
  },
  {
   "cell_type": "code",
   "execution_count": 13,
   "metadata": {},
   "outputs": [
    {
     "name": "stdout",
     "output_type": "stream",
     "text": [
      "Number of productions: 2271\n"
     ]
    }
   ],
   "source": [
    "def pcfg_learn(treebank, n):\n",
    "    productions = []\n",
    "    for i in range(n):\n",
    "        for p in tree_to_productions(treebank.parsed_sents()[i]): productions.append(p)\n",
    "    start = Nonterminal('S')\n",
    "    return nltk.grammar.induce_pcfg(start, productions)\n",
    "\n",
    "pcfg = pcfg_learn(treebank, 200)\n",
    "productions = pcfg.productions()\n",
    "print('Number of productions: ' + str(len(productions)))"
   ]
  },
  {
   "cell_type": "code",
   "execution_count": 14,
   "metadata": {},
   "outputs": [
    {
     "name": "stdout",
     "output_type": "stream",
     "text": [
      "Number of interior nodes: 57\n"
     ]
    }
   ],
   "source": [
    "# compute number of interial nodes\n",
    "non_terminals = []\n",
    "for p in productions:\n",
    "    lhs = str(p.lhs()) # get production's left hand \n",
    "    lhs = lhs.split(' ')\n",
    "    for symbol in lhs:\n",
    "        non_terminals.append(symbol)\n",
    "        \n",
    "print('Number of interior nodes: ' + str(len(set(non_terminals))))"
   ]
  },
  {
   "cell_type": "code",
   "execution_count": 15,
   "metadata": {},
   "outputs": [
    {
     "data": {
      "text/plain": [
       "Text(0.5,1,'Rules Histogram')"
      ]
     },
     "execution_count": 15,
     "metadata": {},
     "output_type": "execute_result"
    },
    {
     "data": {
      "image/png": "[encoded data removed]",
      "text/plain": [
       "<Figure size 432x288 with 1 Axes>"
      ]
     },
     "metadata": {
      "needs_background": "light"
     },
     "output_type": "display_data"
    }
   ],
   "source": [
    "# plot rules frequencies\n",
    "from collections import Counter\n",
    "import matplotlib.pyplot as plt\n",
    "import numpy as np\n",
    "\n",
    "# get frequency of each rule \n",
    "def rules_frequencies(treebank, n):\n",
    "    tree_productions = []\n",
    "    for i in range(n):\n",
    "        for p in tree_to_productions(treebank.parsed_sents()[i]): tree_productions.append(p)\n",
    "    prodcutions_counts = Counter(tree_productions)\n",
    "    freq = []\n",
    "    for p in prodcutions_counts:\n",
    "        freq.append(prodcutions_counts[p])\n",
    "    return freq\n",
    "\n",
    "# plot histogram \n",
    "freq = rules_frequencies(treebank, 200)\n",
    "hist = plt.hist(x=freq, bins=range(1,30), color='#0504aa', alpha=0.7, rwidth=0.85)\n",
    "plt.grid(axis='y', alpha=0.75)\n",
    "plt.xlabel('Number of Appearnces')\n",
    "plt.ylabel('Frequency')\n",
    "plt.title('Rules Histogram')"
   ]
  },
  {
   "cell_type": "markdown",
   "metadata": {},
   "source": [
    "The above histogram presents the distribution of productions according to their frequency. The vast majority of rules appears only once (more than 1500 rules), and only ~400 hundred rules appear twice. The decay is very fast, and there are no rules that appear more than 30 times in the first 200 trees of the treebank."
   ]
  },
  {
   "cell_type": "code",
   "execution_count": 16,
   "metadata": {},
   "outputs": [
    {
     "name": "stdout",
     "output_type": "stream",
     "text": [
      "KL-divergence between 200-trees and 400-trees: 0.8011812166698754\n"
     ]
    }
   ],
   "source": [
    "pcfg_400  = pcfg_learn(treebank, 400)\n",
    "p, size_p = pcfg_to_mleprobdist(pcfg.productions())\n",
    "q, size_q = pcfg_to_mleprobdist(pcfg_400.productions())\n",
    "all_productions = set(pcfg.productions() + pcfg_400.productions())\n",
    "X = [Production(prod.lhs(), prod.rhs()) for prod in all_productions]\n",
    "kl = kl_divergence(p, size_p, q, size_q, X)\n",
    "print('KL-divergence between 200-trees and 400-trees: ' + str(kl))"
   ]
  },
  {
   "cell_type": "code",
   "execution_count": null,
   "metadata": {},
   "outputs": [],
   "source": []
  },
  {
   "cell_type": "markdown",
   "metadata": {},
   "source": [
    "### 2.3: Induce a PCFG in Chomsky Normal Form\n",
    "\n",
    "We now want to learn a PCFG in Chomsky Normal Form from the treebank, with simplified tags, and with filtered NONE elements."
   ]
  },
  {
   "cell_type": "code",
   "execution_count": 2,
   "metadata": {},
   "outputs": [],
   "source": [
    "treebank = LazyCorpusLoader('treebank/combined', BracketParseCorpusReader, r'wsj_.*\\.mrg')"
   ]
  },
  {
   "cell_type": "code",
   "execution_count": 3,
   "metadata": {},
   "outputs": [],
   "source": [
    "# 'NONE' filltering\n",
    "def none_filtering(tree):\n",
    "    for ind, leaf in reversed(list(enumerate(tree.leaves()))):\n",
    "        postn = tree.leaf_treeposition(ind)\n",
    "        parentpos = postn[:-1]\n",
    "        parentpos_label = tree[parentpos].label()\n",
    "        if 'NONE' in parentpos_label:\n",
    "            while parentpos and len(tree[parentpos]) == 1:\n",
    "                postn = parentpos\n",
    "                parentpos = postn[:-1]\n",
    "            del tree[postn]\n",
    "\n",
    "def simplify_functional_tag(tag):\n",
    "    if '-' in tag:\n",
    "        tag = tag.split('-')[0]\n",
    "    return tag"
   ]
  },
  {
   "cell_type": "code",
   "execution_count": 4,
   "metadata": {},
   "outputs": [],
   "source": [
    "# we need to transform the tree to remove NONE tags and simplify tags.\n",
    "def get_tag(tree):\n",
    "    if isinstance(tree, Tree):\n",
    "        return Nonterminal(simplify_functional_tag(tree.label()))\n",
    "    else:\n",
    "        return tree\n",
    "\n",
    "def tree_to_production(tree):\n",
    "    return Production(get_tag(tree), [get_tag(child) for child in tree])\n",
    "\n",
    "def tree_to_productions(tree):\n",
    "    none_filtering(tree)\n",
    "    yield tree_to_production(tree)\n",
    "    for child in tree:\n",
    "        if isinstance(child, Tree):\n",
    "            for prod in tree_to_productions(child):\n",
    "                yield prod"
   ]
  },
  {
   "cell_type": "code",
   "execution_count": 13,
   "metadata": {},
   "outputs": [],
   "source": [
    "# This method adds the pos tags and words in the corpus to the productoions,\n",
    "# which enables the parser to handle unseen words in training time.\n",
    "def add_pos_tags_to_productions(treebank,productions):\n",
    "    for word,tag in treebank.tagged_words():\n",
    "        t = Tree.fromstring(\"(\"+tag+\" \"+word+\")\")\n",
    "        for production in t.productions():\n",
    "            productions.append(production)\n",
    "    return productions"
   ]
  },
  {
   "cell_type": "code",
   "execution_count": null,
   "metadata": {},
   "outputs": [],
   "source": []
  },
  {
   "cell_type": "code",
   "execution_count": 22,
   "metadata": {},
   "outputs": [],
   "source": [
    "def pcfg_cnf_learn(trees, n):\n",
    "    cnf_productions = []\n",
    "    for i in range(n):\n",
    "        tree = trees[i]\n",
    "        cnf_tree = deepcopy(tree)\n",
    "        cnf_tree.chomsky_normal_form(factor='right', horzMarkov=1, vertMarkov=1, childChar='|', parentChar='^')\n",
    "        for p in tree_to_productions(cnf_tree): cnf_productions.append(p)\n",
    "        #for p in tree_to_productions(tree): orig_productions.append(p)\n",
    "    #cnf_productions = add_pos_tags_to_productions(treebank,cnf_productions)\n",
    "    start = Nonterminal('S')\n",
    "    return nltk.grammar.induce_pcfg(start, cnf_productions)"
   ]
  },
  {
   "cell_type": "code",
   "execution_count": 28,
   "metadata": {},
   "outputs": [],
   "source": [
    "def pcfg_learn(trees, n):\n",
    "    productions = []\n",
    "    for i in range(n):\n",
    "        tree = trees[i]\n",
    "        for p in tree_to_productions(tree): productions.append(p)\n",
    "    start = Nonterminal('S')\n",
    "    return nltk.grammar.induce_pcfg(start, productions)"
   ]
  },
  {
   "cell_type": "code",
   "execution_count": 23,
   "metadata": {},
   "outputs": [],
   "source": [
    "parsed_sents = treebank.parsed_sents()\n",
    "pcfg_cnf = pcfg_cnf_learn(parsed_sents, 200)"
   ]
  },
  {
   "cell_type": "code",
   "execution_count": 24,
   "metadata": {},
   "outputs": [
    {
     "name": "stdout",
     "output_type": "stream",
     "text": [
      "Number of productions: 3004\n"
     ]
    }
   ],
   "source": [
    "productions = pcfg_cnf.productions()\n",
    "print('Number of productions: ' + str(len(productions)))"
   ]
  },
  {
   "cell_type": "markdown",
   "metadata": {},
   "source": [
    "We see that we now have 3004 productions, for a pcfg generaged from 200 sentences. This is in respect to the 2271 we previously had, and is expected since we are now working with a CNF version of the trees, which breaks down the productions into binary productions and add more options."
   ]
  },
  {
   "cell_type": "markdown",
   "metadata": {},
   "source": [
    "Now let's compare the amount of inner nodes (which based on the previous remark, should be more than what we had before).<br>\n",
    "Previously we had 57 interior nodes. Now we have:"
   ]
  },
  {
   "cell_type": "code",
   "execution_count": 25,
   "metadata": {},
   "outputs": [
    {
     "name": "stdout",
     "output_type": "stream",
     "text": [
      "Number of interior nodes: 345\n"
     ]
    }
   ],
   "source": [
    "# compute number of interial nodes\n",
    "non_terminals = []\n",
    "for p in productions:\n",
    "    lhs = str(p.lhs()) # get production's left hand \n",
    "    lhs = lhs.split(' ')\n",
    "    for symbol in lhs:\n",
    "        non_terminals.append(symbol)\n",
    "        \n",
    "print('Number of interior nodes: ' + str(len(set(non_terminals))))"
   ]
  },
  {
   "cell_type": "code",
   "execution_count": 41,
   "metadata": {},
   "outputs": [],
   "source": [
    "# plot rules frequencies\n",
    "\n",
    "# get frequency of each rule \n",
    "def rules_frequencies(treebank, n):\n",
    "    tree_productions = []\n",
    "    for i in range(n):\n",
    "        tree = treebank.parsed_sents()[i]\n",
    "        tree.chomsky_normal_form(factor='right', horzMarkov=1, vertMarkov=1, childChar='|', parentChar='^')\n",
    "        for p in tree_to_productions(tree): tree_productions.append(p)\n",
    "    prodcutions_counts = Counter(tree_productions)\n",
    "    freq = []\n",
    "    for p in prodcutions_counts:\n",
    "        freq.append(prodcutions_counts[p])\n",
    "    return freq\n"
   ]
  },
  {
   "cell_type": "code",
   "execution_count": 42,
   "metadata": {},
   "outputs": [
    {
     "data": {
      "text/plain": [
       "Text(0.5,1,'Rules Histogram')"
      ]
     },
     "execution_count": 42,
     "metadata": {},
     "output_type": "execute_result"
    },
    {
     "data": {
      "image/png": "[encoded data removed]",
      "text/plain": [
       "<Figure size 432x288 with 1 Axes>"
      ]
     },
     "metadata": {
      "needs_background": "light"
     },
     "output_type": "display_data"
    }
   ],
   "source": [
    "# plot histogram \n",
    "freq = rules_frequencies(treebank, 200)\n",
    "hist = plt.hist(x=freq, bins=range(1,30), color='#0504aa', alpha=0.7, rwidth=0.85)\n",
    "plt.grid(axis='y', alpha=0.75)\n",
    "plt.xlabel('Number of Appearnces')\n",
    "plt.ylabel('Frequency')\n",
    "plt.title('Rules Histogram')"
   ]
  },
  {
   "cell_type": "code",
   "execution_count": 36,
   "metadata": {},
   "outputs": [
    {
     "data": {
      "text/plain": [
       "3004"
      ]
     },
     "execution_count": 36,
     "metadata": {},
     "output_type": "execute_result"
    }
   ],
   "source": [
    "len(productions)"
   ]
  },
  {
   "cell_type": "markdown",
   "metadata": {},
   "source": [
    "When comparing the corrent ratios with those previously calculated, we see that not much has changed, and we still get the power-law distribution, i.e. few rules have most of the occurencies. "
   ]
  },
  {
   "cell_type": "markdown",
   "metadata": {},
   "source": [
    "### 2.4: Test CFG Independence Assumptions"
   ]
  },
  {
   "cell_type": "code",
   "execution_count": 29,
   "metadata": {},
   "outputs": [],
   "source": [
    "pcfg = pcfg_learn(parsed_sents, 200)"
   ]
  },
  {
   "cell_type": "code",
   "execution_count": 125,
   "metadata": {},
   "outputs": [],
   "source": [
    "# Get frequency by rule \n",
    "def frequency_per_rule(treebank, n, rule, father=None):\n",
    "    tree_productions = []\n",
    "    if father is not None:\n",
    "        found_father = False\n",
    "    else:\n",
    "        found_father = True\n",
    "    for i in range(n):\n",
    "        tree = treebank.parsed_sents()[i]\n",
    "        products = tree_to_productions(tree)\n",
    "        for p in products:\n",
    "            if p.lhs() == rule and found_father:\n",
    "                tree_productions.append(p.rhs())\n",
    "                if father is not None:\n",
    "                    found_father = False\n",
    "            if father is not None:\n",
    "                if p.lhs() == father:\n",
    "                    found_father = True\n",
    "    prodcutions_counts = Counter(tree_productions)\n",
    "    freq = []\n",
    "    for p in prodcutions_counts:\n",
    "        freq.append(prodcutions_counts[p])\n",
    "    return freq, prodcutions_counts\n"
   ]
  },
  {
   "cell_type": "code",
   "execution_count": 107,
   "metadata": {},
   "outputs": [],
   "source": [
    "def filter_dict(counts, min_val):\n",
    "    relevant = { k: v for k, v in counts.items() if v >= min_val }\n",
    "    print(\"Before filtering, the dict length was: {}\".format(len(counts)))\n",
    "    print(\"And now is: {}\".format(len(relevant)))\n",
    "    return relevant"
   ]
  },
  {
   "cell_type": "code",
   "execution_count": 139,
   "metadata": {},
   "outputs": [],
   "source": [
    "def plot_dict(relevant):\n",
    "    objects = tuple(relevant.keys())\n",
    "    y_pos = np.arange(len(objects))\n",
    "    performance = relevant.values()\n",
    "\n",
    "    plt.bar(y_pos, performance, alpha=0.5)\n",
    "    plt.xticks(y_pos, objects)\n",
    "    plt.ylabel('occurrences')\n",
    "    plt.title('NP on the lhs')\n",
    "\n",
    "    plt.show()"
   ]
  },
  {
   "cell_type": "code",
   "execution_count": 130,
   "metadata": {},
   "outputs": [],
   "source": [
    "rule = Nonterminal('NP')\n",
    "rule_freq, counts = frequency_per_rule(treebank, 200, rule)"
   ]
  },
  {
   "cell_type": "markdown",
   "metadata": {},
   "source": [
    "We will now show the distribution of all rules which have NP on the lhs.<br>\n",
    "In order for the distribution to be more visually informative, we remove the rules which have a counts less than 45."
   ]
  },
  {
   "cell_type": "code",
   "execution_count": 153,
   "metadata": {},
   "outputs": [
    {
     "name": "stdout",
     "output_type": "stream",
     "text": [
      "Before filtering, the dict length was: 265\n",
      "And now is: 4\n"
     ]
    },
    {
     "data": {
      "text/plain": [
       "{(NNP, NNP): 83, (DT, NN): 137, (NP, PP): 177, (NNP,): 70}"
      ]
     },
     "execution_count": 153,
     "metadata": {},
     "output_type": "execute_result"
    }
   ],
   "source": [
    "relevant = filter_dict(counts, 70)\n",
    "relevant"
   ]
  },
  {
   "cell_type": "code",
   "execution_count": 154,
   "metadata": {},
   "outputs": [
    {
     "data": {
      "image/png": "[encoded data removed]",
      "text/plain": [
       "<Figure size 432x288 with 1 Axes>"
      ]
     },
     "metadata": {
      "needs_background": "light"
     },
     "output_type": "display_data"
    }
   ],
   "source": [
    "plot_dict(relevant)"
   ]
  },
  {
   "cell_type": "markdown",
   "metadata": {},
   "source": [
    "We now plot the same distribution only for NPs that appear directly below a S node."
   ]
  },
  {
   "cell_type": "code",
   "execution_count": 133,
   "metadata": {},
   "outputs": [],
   "source": [
    "father = Nonterminal('S')\n",
    "rule_freq1, counts1 = frequency_per_rule(treebank, 200, rule, father)"
   ]
  },
  {
   "cell_type": "code",
   "execution_count": 143,
   "metadata": {},
   "outputs": [
    {
     "name": "stdout",
     "output_type": "stream",
     "text": [
      "Before filtering, the dict length was: 99\n",
      "And now is: 4\n"
     ]
    },
    {
     "data": {
      "text/plain": [
       "{(NNP, NNP): 25, (NP, PP): 56, (PRP,): 50, (DT, NN): 29}"
      ]
     },
     "execution_count": 143,
     "metadata": {},
     "output_type": "execute_result"
    }
   ],
   "source": [
    "relevant1 = filter_dict(counts1, 20)\n",
    "relevant1"
   ]
  },
  {
   "cell_type": "code",
   "execution_count": 144,
   "metadata": {
    "scrolled": true
   },
   "outputs": [
    {
     "data": {
      "image/png": "[encoded data removed]",
      "text/plain": [
       "<Figure size 432x288 with 1 Axes>"
      ]
     },
     "metadata": {
      "needs_background": "light"
     },
     "output_type": "display_data"
    }
   ],
   "source": [
    "plot_dict(relevant1)"
   ]
  },
  {
   "cell_type": "markdown",
   "metadata": {},
   "source": [
    "We now plot the same distribution only for NPs that appear directly below a VP node."
   ]
  },
  {
   "cell_type": "code",
   "execution_count": 136,
   "metadata": {},
   "outputs": [],
   "source": [
    "father = Nonterminal('VP')\n",
    "rule_freq2, counts2 = frequency_per_rule(treebank, 200, rule, father)"
   ]
  },
  {
   "cell_type": "code",
   "execution_count": 145,
   "metadata": {},
   "outputs": [
    {
     "name": "stdout",
     "output_type": "stream",
     "text": [
      "Before filtering, the dict length was: 110\n",
      "And now is: 4\n"
     ]
    },
    {
     "data": {
      "text/plain": [
       "{(DT, NN): 32, (NP, PP): 82, (PRP,): 26, (NN,): 18}"
      ]
     },
     "execution_count": 145,
     "metadata": {},
     "output_type": "execute_result"
    }
   ],
   "source": [
    "relevant2 = filter_dict(counts2, 15)\n",
    "relevant2"
   ]
  },
  {
   "cell_type": "code",
   "execution_count": 146,
   "metadata": {},
   "outputs": [
    {
     "data": {
      "image/png": "[encoded data removed]",
      "text/plain": [
       "<Figure size 432x288 with 1 Axes>"
      ]
     },
     "metadata": {
      "needs_background": "light"
     },
     "output_type": "display_data"
    }
   ],
   "source": [
    "plot_dict(relevant2)"
   ]
  },
  {
   "cell_type": "markdown",
   "metadata": {},
   "source": [
    "So we see that our distributions differ on the change of the father node. For example we see that the top 4 most probable rules for S->NP doesnt contain 'NN' whereas the top 4 most probable rules for VP->NP doesnt contain 'NNP,NNP'<br>\n",
    "We now compare the distributions above, using KL-divergence, which we will compute using 400 trees."
   ]
  },
  {
   "cell_type": "code",
   "execution_count": 209,
   "metadata": {},
   "outputs": [],
   "source": [
    "# computes KL-divergence\n",
    "# p, q : MLEProbDist object\n",
    "# size_p, size_q : int\n",
    "# X : iterable with all possible events\n",
    "def kl_divergence(p, size_p, q, size_q, X):\n",
    "    \n",
    "    # initialize smoothing parameters\n",
    "    eps = 0.000001\n",
    "    pc = eps * (len(X)-size_p) / size_p\n",
    "    qc = eps * (len(X)-size_q) / size_q\n",
    "    \n",
    "    kl = 0.0\n",
    "    for x in X:\n",
    "        pi = p.prob(x) - pc\n",
    "        if pi <= 0:\n",
    "            pi = eps\n",
    "        qi = q.prob(x) - pc\n",
    "        if qi <= 0:\n",
    "            qi = eps\n",
    "        kl += pi * math.log(pi/qi, 2)\n",
    "    \n",
    "    return kl"
   ]
  },
  {
   "cell_type": "code",
   "execution_count": 210,
   "metadata": {},
   "outputs": [],
   "source": [
    "# Get frequency by rule \n",
    "def get_productions_by_rule(treebank, n, rule, father=None):\n",
    "    tree_productions = []\n",
    "    if father is not None:\n",
    "        found_father = False\n",
    "    else:\n",
    "        found_father = True\n",
    "    for i in range(n):\n",
    "        tree = treebank.parsed_sents()[i]\n",
    "        products = tree_to_productions(tree)\n",
    "        for p in products:\n",
    "            if p.lhs() == rule and found_father:\n",
    "                tree_productions.append(p)\n",
    "                if father is not None:\n",
    "                    found_father = False\n",
    "            if father is not None:\n",
    "                if p.lhs() == father:\n",
    "                    found_father = True\n",
    "    prodcutions_counts = Counter(tree_productions)\n",
    "    return tree_productions, prodcutions_counts\n"
   ]
  },
  {
   "cell_type": "code",
   "execution_count": 215,
   "metadata": {},
   "outputs": [],
   "source": [
    "prod3, counts3 = get_productions_by_rule(treebank, 200, rule, Nonterminal('S'))\n",
    "prod4, counts4 = get_productions_by_rule(treebank, 200, rule, Nonterminal('VP'))"
   ]
  },
  {
   "cell_type": "code",
   "execution_count": 216,
   "metadata": {},
   "outputs": [
    {
     "name": "stdout",
     "output_type": "stream",
     "text": [
      "KL divergence for NP symbol: 1.3897824004504609\n"
     ]
    }
   ],
   "source": [
    "p = MLEProbDist(FreqDist(counts3))\n",
    "size_p = len(counts3)\n",
    "q = MLEProbDist(FreqDist(counts4))\n",
    "size_q = len(counts4)\n",
    "\n",
    "\n",
    "# compute KL-Divergence with smoothing\n",
    "X = [Production(p.lhs(), p.rhs()) for p in pcfg.productions(rule)]     \n",
    "kl = kl_divergence(p, size_p, q, size_q, X)\n",
    "print('KL divergence for ' + str(rule) + ' symbol: ' + str(kl))"
   ]
  },
  {
   "cell_type": "markdown",
   "metadata": {},
   "source": [
    "The KL divergence tells us that for the different NP types there is a clear difference in the distributions, and so we can conclude that the data in the treebank does not confirm the CFG hypothesis for each configuration."
   ]
  },
  {
   "cell_type": "markdown",
   "metadata": {},
   "source": [
    "## 3: Building and Evaluating a Simple PCFG Parser\n",
    "\n",
    "### 3.1: Build a Parser\n",
    "\n",
    "Split the NLTK treebank corpus into 80% training (about 3,200 trees) and 20% (about 800 trees) testing sets. "
   ]
  },
  {
   "cell_type": "code",
   "execution_count": 338,
   "metadata": {},
   "outputs": [],
   "source": [
    "train_trees, test_trees = train_test_split(parsed_sents, test_size=0.20, random_state=42)"
   ]
  },
  {
   "cell_type": "code",
   "execution_count": 339,
   "metadata": {},
   "outputs": [],
   "source": [
    "all_sents = treebank.sents()\n",
    "train_sents, test_sents = train_test_split(all_sents, test_size=0.20, random_state=42)"
   ]
  },
  {
   "cell_type": "code",
   "execution_count": 374,
   "metadata": {},
   "outputs": [],
   "source": [
    "pcfg_cnf_long = pcfg_cnf_learn(train_trees, len(train_trees))"
   ]
  },
  {
   "cell_type": "code",
   "execution_count": 375,
   "metadata": {},
   "outputs": [
    {
     "name": "stdout",
     "output_type": "stream",
     "text": [
      "Number of productions: 17798\n"
     ]
    }
   ],
   "source": [
    "productions = pcfg_cnf_long.productions()\n",
    "print('Number of productions: ' + str(len(productions)))"
   ]
  },
  {
   "cell_type": "markdown",
   "metadata": {},
   "source": [
    "We now move on to creating a Viterbi parser, and check how it does when parsing the first sentence in the test data."
   ]
  },
  {
   "cell_type": "code",
   "execution_count": 281,
   "metadata": {},
   "outputs": [],
   "source": [
    "parser = ViterbiParser(pcfg_cnf_long, trace=0)"
   ]
  },
  {
   "cell_type": "code",
   "execution_count": 282,
   "metadata": {},
   "outputs": [
    {
     "ename": "ValueError",
     "evalue": "Grammar does not cover some of the input words: \"'appropriators', '*U*', 'Overseas', '*-3', '*U*'\".",
     "output_type": "error",
     "traceback": [
      "\u001b[0;31m---------------------------------------------------------------------------\u001b[0m",
      "\u001b[0;31mValueError\u001b[0m                                Traceback (most recent call last)",
      "\u001b[0;32m<ipython-input-282-593af80b71fb>\u001b[0m in \u001b[0;36m<module>\u001b[0;34m\u001b[0m\n\u001b[0;32m----> 1\u001b[0;31m \u001b[0mparsed\u001b[0m\u001b[0;34m,\u001b[0m \u001b[0;34m=\u001b[0m \u001b[0mparser\u001b[0m\u001b[0;34m.\u001b[0m\u001b[0mparse\u001b[0m\u001b[0;34m(\u001b[0m\u001b[0mtest_sents\u001b[0m\u001b[0;34m[\u001b[0m\u001b[0;36m0\u001b[0m\u001b[0;34m]\u001b[0m\u001b[0;34m)\u001b[0m\u001b[0;34m\u001b[0m\u001b[0m\n\u001b[0m",
      "\u001b[0;32m~/anaconda3/lib/python3.6/site-packages/nltk/parse/viterbi.py\u001b[0m in \u001b[0;36mparse\u001b[0;34m(self, tokens)\u001b[0m\n\u001b[1;32m    110\u001b[0m \u001b[0;34m\u001b[0m\u001b[0m\n\u001b[1;32m    111\u001b[0m         \u001b[0mtokens\u001b[0m \u001b[0;34m=\u001b[0m \u001b[0mlist\u001b[0m\u001b[0;34m(\u001b[0m\u001b[0mtokens\u001b[0m\u001b[0;34m)\u001b[0m\u001b[0;34m\u001b[0m\u001b[0m\n\u001b[0;32m--> 112\u001b[0;31m         \u001b[0mself\u001b[0m\u001b[0;34m.\u001b[0m\u001b[0m_grammar\u001b[0m\u001b[0;34m.\u001b[0m\u001b[0mcheck_coverage\u001b[0m\u001b[0;34m(\u001b[0m\u001b[0mtokens\u001b[0m\u001b[0;34m)\u001b[0m\u001b[0;34m\u001b[0m\u001b[0m\n\u001b[0m\u001b[1;32m    113\u001b[0m \u001b[0;34m\u001b[0m\u001b[0m\n\u001b[1;32m    114\u001b[0m         \u001b[0;31m# The most likely constituent table.  This table specifies the\u001b[0m\u001b[0;34m\u001b[0m\u001b[0;34m\u001b[0m\u001b[0m\n",
      "\u001b[0;32m~/anaconda3/lib/python3.6/site-packages/nltk/grammar.py\u001b[0m in \u001b[0;36mcheck_coverage\u001b[0;34m(self, tokens)\u001b[0m\n\u001b[1;32m    658\u001b[0m             \u001b[0mmissing\u001b[0m \u001b[0;34m=\u001b[0m \u001b[0;34m', '\u001b[0m\u001b[0;34m.\u001b[0m\u001b[0mjoin\u001b[0m\u001b[0;34m(\u001b[0m\u001b[0;34m'%r'\u001b[0m \u001b[0;34m%\u001b[0m \u001b[0;34m(\u001b[0m\u001b[0mw\u001b[0m\u001b[0;34m,\u001b[0m\u001b[0;34m)\u001b[0m \u001b[0;32mfor\u001b[0m \u001b[0mw\u001b[0m \u001b[0;32min\u001b[0m \u001b[0mmissing\u001b[0m\u001b[0;34m)\u001b[0m\u001b[0;34m\u001b[0m\u001b[0m\n\u001b[1;32m    659\u001b[0m             raise ValueError(\"Grammar does not cover some of the \"\n\u001b[0;32m--> 660\u001b[0;31m                              \"input words: %r.\" % missing)\n\u001b[0m\u001b[1;32m    661\u001b[0m \u001b[0;34m\u001b[0m\u001b[0m\n\u001b[1;32m    662\u001b[0m     \u001b[0;32mdef\u001b[0m \u001b[0m_calculate_grammar_forms\u001b[0m\u001b[0;34m(\u001b[0m\u001b[0mself\u001b[0m\u001b[0;34m)\u001b[0m\u001b[0;34m:\u001b[0m\u001b[0;34m\u001b[0m\u001b[0m\n",
      "\u001b[0;31mValueError\u001b[0m: Grammar does not cover some of the input words: \"'appropriators', '*U*', 'Overseas', '*-3', '*U*'\"."
     ]
    }
   ],
   "source": [
    "parsed, = parser.parse(test_sents[0])"
   ]
  },
  {
   "cell_type": "markdown",
   "metadata": {},
   "source": [
    "Oh no! Our grammer doesn't cover some words in the test data.<br>\n",
    "So let's add the missing words and try not to blow up our existing grammer too much in the process."
   ]
  },
  {
   "cell_type": "markdown",
   "metadata": {},
   "source": [
    "We will add all the missing test words to the trained productions.<br><br>\n",
    "First create a dictionary of all the words in the test set."
   ]
  },
  {
   "cell_type": "code",
   "execution_count": 289,
   "metadata": {},
   "outputs": [],
   "source": [
    "test_words_dict = {}\n",
    "for sent in test_sents:\n",
    "    for word in sent:\n",
    "        test_words_dict[word] = 0"
   ]
  },
  {
   "cell_type": "code",
   "execution_count": 290,
   "metadata": {},
   "outputs": [],
   "source": [
    "# go over all the words in the trained productions.\n",
    "# remove all the terminal rules which produce words not in the test sents.\n",
    "# add new rules for words in the test sents which were not seen.\n",
    "train_words_dict = {}\n",
    "for p in productions:\n",
    "    rhs = p.rhs()[0]\n",
    "    if type(rhs) is str:\n",
    "        if rhs not in test_words_dict:\n",
    "            productions.remove(p)\n",
    "        else:\n",
    "            train_words_dict[rhs] = 0"
   ]
  },
  {
   "cell_type": "code",
   "execution_count": 291,
   "metadata": {},
   "outputs": [
    {
     "name": "stdout",
     "output_type": "stream",
     "text": [
      "The number of relevant training words is 2723\n",
      "Number of productions: 12785\n"
     ]
    }
   ],
   "source": [
    "print(\"The number of relevant training words is {}\".format(len(train_words_dict)))\n",
    "print('Number of productions: ' + str(len(productions)))"
   ]
  },
  {
   "cell_type": "code",
   "execution_count": 292,
   "metadata": {},
   "outputs": [],
   "source": [
    "# This method adds the pos tags and words in the corpus to the productoions,\n",
    "# which enables the parser to handle unseen words in training time.\n",
    "def add_pos_tags_to_productions(treebank,productions,requested_words, existing_words):\n",
    "    for word,tag in treebank.tagged_words():\n",
    "        if word in requested_words and word not in existing_words:\n",
    "            t = Tree.fromstring(\"(\"+tag+\" \"+word+\")\")\n",
    "            for production in t.productions():\n",
    "                productions.append(production)\n",
    "    return productions"
   ]
  },
  {
   "cell_type": "code",
   "execution_count": 295,
   "metadata": {},
   "outputs": [],
   "source": [
    "# add all the pos tags and words in the corpus so that the parser can handle unseen words\n",
    "productions = add_pos_tags_to_productions(treebank,productions,test_words_dict,train_words_dict)"
   ]
  },
  {
   "cell_type": "code",
   "execution_count": 296,
   "metadata": {
    "scrolled": true
   },
   "outputs": [
    {
     "name": "stdout",
     "output_type": "stream",
     "text": [
      "Number of productions: 27374\n"
     ]
    }
   ],
   "source": [
    "print('Number of productions: ' + str(len(pcfg_cnf_long.productions())))"
   ]
  },
  {
   "cell_type": "code",
   "execution_count": 297,
   "metadata": {},
   "outputs": [],
   "source": [
    "# Now that we have all the productions we need, rebuild the grammer.\n",
    "pcfg_cnf_long = nltk.grammar.induce_pcfg(Nonterminal('S'), productions)"
   ]
  },
  {
   "cell_type": "code",
   "execution_count": 298,
   "metadata": {},
   "outputs": [],
   "source": [
    "parser = ViterbiParser(pcfg_cnf_long, trace=0)"
   ]
  },
  {
   "cell_type": "markdown",
   "metadata": {},
   "source": [
    "Now are vocabulary contains all the needed words in the test data.<br>\n",
    "Probalem is, it takes us a very (very...) long time to parse long sentences. (For the sentene which failed above, I stopped after it ran over a minute). Since there are 800 test sentences this is going to be an issue.<br>\n",
    "For this we will sort the test sentences by length, and only work with sentences up to length 9 (which is a descent size senteces that normal people can cope with)."
   ]
  },
  {
   "cell_type": "code",
   "execution_count": 350,
   "metadata": {},
   "outputs": [
    {
     "name": "stdout",
     "output_type": "stream",
     "text": [
      "2\n",
      "110\n"
     ]
    },
    {
     "data": {
      "text/plain": [
       "['Detroit', '--']"
      ]
     },
     "execution_count": 350,
     "metadata": {},
     "output_type": "execute_result"
    }
   ],
   "source": [
    "test_sents_lens = [len(x) for x in test_sents]\n",
    "_,test_sents, test_trees = (list(x) for x in zip(*sorted(zip(test_sents_lens,test_sents, test_trees))))\n",
    "print(len(test_sents[1]))\n",
    "print(len(test_sents[-1]))\n",
    "test_sents[1]"
   ]
  },
  {
   "cell_type": "code",
   "execution_count": 351,
   "metadata": {},
   "outputs": [
    {
     "data": {
      "image/png": "[encoded data removed]",
      "text/plain": [
       "Tree('NP-HLN', [Tree('NNP', ['Detroit']), Tree(':', ['--'])])"
      ]
     },
     "execution_count": 351,
     "metadata": {},
     "output_type": "execute_result"
    }
   ],
   "source": [
    "test_trees[1]"
   ]
  },
  {
   "cell_type": "code",
   "execution_count": 480,
   "metadata": {},
   "outputs": [],
   "source": [
    "upper_bound = 9\n",
    "relevant_sents = []\n",
    "relevant_trees = []\n",
    "for ind in range(len(test_sents)):\n",
    "    sent = test_sents[ind]\n",
    "    if len(sent) <= upper_bound:\n",
    "        relevant_sents.append(sent)\n",
    "        relevant_trees.append(test_trees[ind])\n",
    "        continue\n",
    "    break"
   ]
  },
  {
   "cell_type": "code",
   "execution_count": 481,
   "metadata": {},
   "outputs": [
    {
     "data": {
      "text/plain": [
       "51"
      ]
     },
     "execution_count": 481,
     "metadata": {},
     "output_type": "execute_result"
    }
   ],
   "source": [
    "len(relevant_sents)"
   ]
  },
  {
   "cell_type": "markdown",
   "metadata": {},
   "source": [
    "So are final test will have 51 sentences.<br>\n",
    "Let's remove the unnecessary words from our grammer."
   ]
  },
  {
   "cell_type": "code",
   "execution_count": 377,
   "metadata": {},
   "outputs": [],
   "source": [
    "test_words_dict = {}\n",
    "for sent in relevant_sents:\n",
    "    for word in sent:\n",
    "        test_words_dict[word] = 0"
   ]
  },
  {
   "cell_type": "code",
   "execution_count": 378,
   "metadata": {},
   "outputs": [],
   "source": [
    "# go over all the words in the trained productions.\n",
    "# remove all the terminal rules which produce words not in the test sents.\n",
    "# add new rules for words in the test sents which were not seen.\n",
    "train_words_dict = {}\n",
    "for p in productions:\n",
    "    rhs = p.rhs()[0]\n",
    "    if type(rhs) is str:\n",
    "        if rhs not in test_words_dict:\n",
    "            productions.remove(p)\n",
    "        else:\n",
    "            train_words_dict[rhs] = 0"
   ]
  },
  {
   "cell_type": "code",
   "execution_count": 379,
   "metadata": {
    "scrolled": true
   },
   "outputs": [
    {
     "name": "stdout",
     "output_type": "stream",
     "text": [
      "Number of productions: 10910\n"
     ]
    }
   ],
   "source": [
    "print('Number of productions: ' + str(len(pcfg_cnf_long.productions())))"
   ]
  },
  {
   "cell_type": "code",
   "execution_count": 380,
   "metadata": {},
   "outputs": [],
   "source": [
    "# add all the test pos tags and words in the from the whole corpus so that the parser can handle unseen words\n",
    "productions = add_pos_tags_to_productions(treebank,productions,test_words_dict,train_words_dict)"
   ]
  },
  {
   "cell_type": "code",
   "execution_count": 381,
   "metadata": {
    "scrolled": true
   },
   "outputs": [
    {
     "name": "stdout",
     "output_type": "stream",
     "text": [
      "Number of productions: 15189\n"
     ]
    }
   ],
   "source": [
    "print('Number of productions: ' + str(len(pcfg_cnf_long.productions())))"
   ]
  },
  {
   "cell_type": "markdown",
   "metadata": {},
   "source": [
    "We cut down in another 10K productions, which will take down the processing time needed to parse the sentences."
   ]
  },
  {
   "cell_type": "code",
   "execution_count": 383,
   "metadata": {},
   "outputs": [],
   "source": [
    "# Now that we have all the productions we need, rebuild the grammer.\n",
    "pcfg_cnf_long = nltk.grammar.induce_pcfg(Nonterminal('S'), productions)"
   ]
  },
  {
   "cell_type": "code",
   "execution_count": 384,
   "metadata": {},
   "outputs": [],
   "source": [
    "parser = ViterbiParser(pcfg_cnf_long, trace=0)"
   ]
  },
  {
   "cell_type": "code",
   "execution_count": 391,
   "metadata": {},
   "outputs": [],
   "source": [
    "parsed, = parser.parse(relevant_sents[-2])"
   ]
  },
  {
   "cell_type": "code",
   "execution_count": 389,
   "metadata": {},
   "outputs": [
    {
     "data": {
      "image/png": "[encoded data removed]",
      "text/plain": [
       "ProbabilisticTree('S', [ProbabilisticTree('VP^<S', [ProbabilisticTree('JJ', ['Total']) (p=0.0033222591362126247), ProbabilisticTree('VP^<VP>', [ProbabilisticTree('VB', ['return']) (p=0.00411522633744856), ProbabilisticTree('NP', [ProbabilisticTree('NNS', ['measures']) (p=0.0015455950540958269), ProbabilisticTree('NX^<NP', [ProbabilisticTree('NX^<NX>', [ProbabilisticTree('NN', ['price']) (p=0.039735099337748346), ProbabilisticTree('NNS', ['changes']) (p=0.0015455950540958269)]) (p=2.5589322087679253e-06), ProbabilisticTree('NX|<CC>^<NP', [ProbabilisticTree('CC', ['and']) (p=0.006134969325153374), ProbabilisticTree('NX^<NX>', [ProbabilisticTree('NN', ['interest']) (p=0.0006020469596628537), ProbabilisticTree('NN', ['income']) (p=0.025285972305839857)]) (p=6.343059478687502e-07)]) (p=3.891447532937118e-09)]) (p=4.978975215381636e-15)]) (p=2.88220204770021e-20)]) (p=6.082519885407218e-25)]) (p=1.8885707720083264e-29), ProbabilisticTree('.', ['.']) (p=0.023809523809523808)]) (p=3.7471642301752505e-33)"
      ]
     },
     "execution_count": 389,
     "metadata": {},
     "output_type": "execute_result"
    }
   ],
   "source": [
    "parsed"
   ]
  },
  {
   "cell_type": "markdown",
   "metadata": {},
   "source": [
    "Now the longest sentence takes only 10 seconds to parse!"
   ]
  },
  {
   "cell_type": "markdown",
   "metadata": {},
   "source": [
    "### 3.2: Evaluate the Parser"
   ]
  },
  {
   "cell_type": "markdown",
   "metadata": {},
   "source": [
    "create all the test trees"
   ]
  },
  {
   "cell_type": "code",
   "execution_count": 486,
   "metadata": {},
   "outputs": [],
   "source": [
    "learned_trees = []\n",
    "copy_relevant_trees = deepcopy(relevant_trees)\n",
    "ind = -1\n",
    "for sent in relevant_sents:\n",
    "    ind += 1\n",
    "    print(ind)\n",
    "    try:\n",
    "        parsed, = parser.parse(sent)\n",
    "        learned_trees.append(parsed)\n",
    "    except ValueError:\n",
    "        del copy_relevant_trees[ind]"
   ]
  },
  {
   "cell_type": "code",
   "execution_count": 483,
   "metadata": {},
   "outputs": [
    {
     "name": "stdout",
     "output_type": "stream",
     "text": [
      "44\n"
     ]
    }
   ],
   "source": [
    "print(len(learned_trees))"
   ]
  },
  {
   "cell_type": "code",
   "execution_count": 495,
   "metadata": {
    "scrolled": true
   },
   "outputs": [
    {
     "data": {
      "image/png": "[encoded data removed]",
      "text/plain": [
       "Tree('S', [Tree('NP-SBJ', [Tree('DT', ['Neither']), Tree('NN', ['company'])]), Tree('VP', [Tree('MD', ['would']), Tree('VP', [Tree('VB', ['disclose']), Tree('NP', [Tree('NP', [Tree('DT', ['the']), Tree('NN', ['program']), Tree('POS', [\"'s\"])]), Tree('NN', ['cost'])])])]), Tree('.', ['.'])])"
      ]
     },
     "execution_count": 495,
     "metadata": {},
     "output_type": "execute_result"
    }
   ],
   "source": [
    "copy_relevant_trees[39]\n",
    "#needed to delete the 37 value and the 44 value which caused clashes"
   ]
  },
  {
   "cell_type": "code",
   "execution_count": 494,
   "metadata": {},
   "outputs": [
    {
     "data": {
      "image/png": "[encoded data removed]",
      "text/plain": [
       "ProbabilisticTree('S', [ProbabilisticTree('NP', [ProbabilisticTree('DT', ['Neither']) (p=0.035211267605633804), ProbabilisticTree('NN', ['company']) (p=0.15653220951234195)]) (p=2.0643061865319137e-05), ProbabilisticTree('S|<VP>', [ProbabilisticTree('VP^<S>', [ProbabilisticTree('MD', ['would']) (p=0.0045662100456621), ProbabilisticTree('VP^<VP>', [ProbabilisticTree('VB', ['disclose']) (p=0.00411522633744856), ProbabilisticTree('NP', [ProbabilisticTree('NP^<NP', [ProbabilisticTree('DT', ['the']) (p=0.007042253521126761), ProbabilisticTree('NP|<NN>^<NP', [ProbabilisticTree('NN', ['program']) (p=0.07645996387718242), ProbabilisticTree('POS', [\"'s\"]) (p=1.0)]) (p=0.0042477757709545785)]) (p=1.7912523281414266e-07), ProbabilisticTree('NN', ['cost']) (p=0.0006020469596628537)]) (p=4.0390187945563826e-13)]) (p=8.523834113234954e-18)]) (p=2.1503655776470026e-22), ProbabilisticTree('.', ['.']) (p=0.023809523809523808)]) (p=7.314168631452389e-25)]) (p=1.2582236296037357e-31)"
      ]
     },
     "execution_count": 494,
     "metadata": {},
     "output_type": "execute_result"
    }
   ],
   "source": [
    "learned_trees[39]"
   ]
  },
  {
   "cell_type": "markdown",
   "metadata": {},
   "source": [
    "Till the 39th tree we have the same sentences, so we will use till 39"
   ]
  },
  {
   "cell_type": "markdown",
   "metadata": {},
   "source": [
    "Turn the tests trees into the cnf form in order to compare with what we've learned."
   ]
  },
  {
   "cell_type": "code",
   "execution_count": 712,
   "metadata": {},
   "outputs": [],
   "source": [
    "cnf_test = []\n",
    "for ind in range(40):\n",
    "    if ind%5 == 0:\n",
    "        print(ind)\n",
    "    t = copy_relevant_trees[ind]\n",
    "    cnf_tree = deepcopy(t)\n",
    "    cnf_tree.chomsky_normal_form(factor='right', horzMarkov=1, vertMarkov=1, childChar='|', parentChar='^')\n",
    "    cnf_test.append(cnf_tree)"
   ]
  },
  {
   "cell_type": "code",
   "execution_count": 502,
   "metadata": {},
   "outputs": [
    {
     "data": {
      "image/png": "[encoded data removed]",
      "text/plain": [
       "Tree('S', [Tree('NP-SBJ^<S>', [Tree('DT', ['Neither']), Tree('NN', ['company'])]), Tree('S|<VP>', [Tree('VP^<S>', [Tree('MD', ['would']), Tree('VP^<VP>', [Tree('VB', ['disclose']), Tree('NP^<VP>', [Tree('NP^<NP>', [Tree('DT', ['the']), Tree('NP|<NN>^<NP>', [Tree('NN', ['program']), Tree('POS', [\"'s\"])])]), Tree('NN', ['cost'])])])]), Tree('.', ['.'])])])"
      ]
     },
     "execution_count": 502,
     "metadata": {},
     "output_type": "execute_result"
    }
   ],
   "source": [
    "cnf_test[39]"
   ]
  },
  {
   "cell_type": "markdown",
   "metadata": {},
   "source": [
    "So we see we got learned the correct tree (more or less).<br>\n",
    "Now let's evaluate what we learned.<br>\n",
    "For each tree in test, we'll great a list of constituents for the learned trees and the real trees in cnf form. Then we'll compare the two lists."
   ]
  },
  {
   "cell_type": "code",
   "execution_count": 639,
   "metadata": {
    "scrolled": true
   },
   "outputs": [
    {
     "data": {
      "image/png": "[encoded data removed]",
      "text/plain": [
       "Tree('NP-HLN', [Tree('NP^<NP-HLN>', [Tree('NNP', ['Heiwado']), Tree('NP|<NNP>^<NP-HLN>', [Tree('NNP', ['Co']), Tree('.', ['.'])])]), Tree('NP-HLN|<PRN>', [Tree('PRN^<NP-HLN>', [Tree('-LRB-', ['-LRB-']), Tree('PRN|<NP-LOC>^<NP-HLN>', [Tree('NP-LOC^<PRN>', [Tree('NNP', ['Japan'])]), Tree('-RRB-', ['-RRB-'])])]), Tree(':', ['--'])])])"
      ]
     },
     "execution_count": 639,
     "metadata": {},
     "output_type": "execute_result"
    }
   ],
   "source": [
    "cnf_test[20]"
   ]
  },
  {
   "cell_type": "code",
   "execution_count": 583,
   "metadata": {
    "scrolled": true
   },
   "outputs": [
    {
     "data": {
      "image/png": "[encoded data removed]",
      "text/plain": [
       "ProbabilisticTree('S', [ProbabilisticTree('NP', [ProbabilisticTree('NP^<NP', [ProbabilisticTree('NNP', ['Heiwado']) (p=0.0006557377049180328), ProbabilisticTree('NP|<NNP>^<NP', [ProbabilisticTree('NNP', ['Co']) (p=0.0006557377049180328), ProbabilisticTree('.', ['.']) (p=0.023809523809523808)]) (p=9.184001469440234e-07)]) (p=3.6061652967272933e-12), ProbabilisticTree('NP', [ProbabilisticTree('PRN^<NP', [ProbabilisticTree('', ['-LRB-']) (p=0.5), ProbabilisticTree('PRN|<NP>^<NP', [ProbabilisticTree('NP^<PRN>', [ProbabilisticTree('NNP', ['Japan']) (p=0.04918032786885246)]) (p=0.001821493624772313), ProbabilisticTree('', ['-RRB-']) (p=0.5)]) (p=0.00022768670309653913)]) (p=6.696667738133504e-06), ProbabilisticTree(':', ['--']) (p=0.3333333333333333)]) (p=8.360384192426346e-09)]) (p=1.1291733086904618e-22)]) (p=9.409777572420514e-25)"
      ]
     },
     "execution_count": 583,
     "metadata": {},
     "output_type": "execute_result"
    }
   ],
   "source": [
    "learned_trees[20]"
   ]
  },
  {
   "cell_type": "markdown",
   "metadata": {},
   "source": [
    "But first we might need to do the cleaning up.<br>\n",
    "As can be seen in the trees above there are a few things we would like to fix in the learned trees, which dont effent the correctness of the tree, but will effect the similarity between trees.<br>\n",
    "1. we see that -LRB- doesnt have a parent node. We'll change the parent to be itself.\n",
    "2. we see that there is a missing '>' in \"NP^<NP\". So we'll remove also from the true trees.\n",
    "3. We will remove from the true trees the elements after a dash '-'.\n",
    "4. We see that there is a 'S' in the beginning of the learned trees, even if there isn't really a need (since it has a single child). In that case we'll remove the 'S'."
   ]
  },
  {
   "cell_type": "code",
   "execution_count": 911,
   "metadata": {},
   "outputs": [],
   "source": [
    "def clean_root(tree):\n",
    "    t = str(tree.label())\n",
    "    if t != \"\":\n",
    "        if t[0] != \"-\":\n",
    "            t = t.split('-')[0]\n",
    "        if t[-1] == \">\":\n",
    "            t = t[:-1]\n",
    "        t = t.split('^')[0]\n",
    "        t = t.split('|')[0]\n",
    "    else:\n",
    "        t = tree[0]\n",
    "    return t\n",
    "    \n",
    "def remove_useless_S(tree):\n",
    "    root = clean_tag(tree.label())\n",
    "    if root == 'S': #if S only has one son\n",
    "        if len(tree) < 2:\n",
    "            return tree.pop() #return the subtree without the S\n",
    "    return tree"
   ]
  },
  {
   "cell_type": "code",
   "execution_count": 913,
   "metadata": {},
   "outputs": [],
   "source": [
    "def get_all_constituents(tree):\n",
    "    constituents = []\n",
    "    copy = deepcopy(tree)\n",
    "    copy = remove_useless_S(copy)\n",
    "    constituents.append([clean_root(copy), copy.leaves()])\n",
    "    if (copy.height() == 2): #got to father of terminal\n",
    "        return constituents\n",
    "#     try:\n",
    "    constituents += get_all_constituents(copy[0]) # get lhs constituents\n",
    "    if len(copy) > 1:\n",
    "        constituents += get_all_constituents(copy[1]) # get rhs constituents\n",
    "#     except IndexError:\n",
    "#         print (copy)\n",
    "    return constituents"
   ]
  },
  {
   "cell_type": "markdown",
   "metadata": {},
   "source": [
    "Here's an exapmple where the constituents are the same:"
   ]
  },
  {
   "cell_type": "code",
   "execution_count": 914,
   "metadata": {},
   "outputs": [],
   "source": [
    "cons1 = get_all_constituents(learned_trees[10])\n",
    "cons2 = get_all_constituents(cnf_test[10])"
   ]
  },
  {
   "cell_type": "code",
   "execution_count": 915,
   "metadata": {},
   "outputs": [
    {
     "name": "stdout",
     "output_type": "stream",
     "text": [
      "True\n"
     ]
    }
   ],
   "source": [
    "print(cons1 == cons2)"
   ]
  },
  {
   "cell_type": "markdown",
   "metadata": {},
   "source": [
    "And here's an exapmple where they're not the same:"
   ]
  },
  {
   "cell_type": "code",
   "execution_count": 916,
   "metadata": {},
   "outputs": [],
   "source": [
    "cons1 = get_all_constituents(learned_trees[20])\n",
    "cons2 = get_all_constituents(cnf_test[20])"
   ]
  },
  {
   "cell_type": "code",
   "execution_count": 917,
   "metadata": {
    "scrolled": true
   },
   "outputs": [
    {
     "name": "stdout",
     "output_type": "stream",
     "text": [
      "True\n"
     ]
    }
   ],
   "source": [
    "print(cons1 == cons2)"
   ]
  },
  {
   "cell_type": "code",
   "execution_count": 918,
   "metadata": {},
   "outputs": [
    {
     "data": {
      "text/plain": [
       "[['NP', ['Heiwado', 'Co', '.', '-LRB-', 'Japan', '-RRB-', '--']],\n",
       " ['NP', ['Heiwado', 'Co', '.']],\n",
       " ['NNP', ['Heiwado']],\n",
       " ['NP', ['Co', '.']],\n",
       " ['NNP', ['Co']],\n",
       " ['.', ['.']],\n",
       " ['NP', ['-LRB-', 'Japan', '-RRB-', '--']],\n",
       " ['PRN', ['-LRB-', 'Japan', '-RRB-']],\n",
       " ['-LRB-', ['-LRB-']],\n",
       " ['PRN', ['Japan', '-RRB-']],\n",
       " ['NP', ['Japan']],\n",
       " ['NNP', ['Japan']],\n",
       " ['-RRB-', ['-RRB-']],\n",
       " [':', ['--']]]"
      ]
     },
     "execution_count": 918,
     "metadata": {},
     "output_type": "execute_result"
    }
   ],
   "source": [
    "cons1"
   ]
  },
  {
   "cell_type": "code",
   "execution_count": 919,
   "metadata": {},
   "outputs": [
    {
     "data": {
      "text/plain": [
       "[['NP', ['Heiwado', 'Co', '.', '-LRB-', 'Japan', '-RRB-', '--']],\n",
       " ['NP', ['Heiwado', 'Co', '.']],\n",
       " ['NNP', ['Heiwado']],\n",
       " ['NP', ['Co', '.']],\n",
       " ['NNP', ['Co']],\n",
       " ['.', ['.']],\n",
       " ['NP', ['-LRB-', 'Japan', '-RRB-', '--']],\n",
       " ['PRN', ['-LRB-', 'Japan', '-RRB-']],\n",
       " ['-LRB-', ['-LRB-']],\n",
       " ['PRN', ['Japan', '-RRB-']],\n",
       " ['NP', ['Japan']],\n",
       " ['NNP', ['Japan']],\n",
       " ['-RRB-', ['-RRB-']],\n",
       " [':', ['--']]]"
      ]
     },
     "execution_count": 919,
     "metadata": {},
     "output_type": "execute_result"
    }
   ],
   "source": [
    "cons2"
   ]
  },
  {
   "cell_type": "code",
   "execution_count": 920,
   "metadata": {
    "scrolled": true
   },
   "outputs": [],
   "source": [
    "learned_cons = []\n",
    "real_cons = []\n",
    "for ind in range(len(cnf_test)):\n",
    "    learned_cons.append(get_all_constituents(learned_trees[ind]))\n",
    "    real_cons.append(get_all_constituents(cnf_test[ind]))"
   ]
  },
  {
   "cell_type": "markdown",
   "metadata": {},
   "source": [
    "We now can finally calculate the precision, recall and f-scores."
   ]
  },
  {
   "cell_type": "code",
   "execution_count": 961,
   "metadata": {},
   "outputs": [],
   "source": [
    "def find_matching_constituents(t1,t2,labeled):\n",
    "    num_of_matches = 0\n",
    "    for ind1 in range(len(t1)):\n",
    "        constituent = t1[ind1]\n",
    "        for ind2 in range(len(t2)):\n",
    "            c2 = t2[ind2]\n",
    "            if labeled==False and constituent[1] == c2[1]:\n",
    "                    num_of_matches += 1\n",
    "                    break\n",
    "            elif constituent[0] == c2[0] and constituent[1] == c2[1]:\n",
    "                    num_of_matches += 1\n",
    "                    break\n",
    "    return num_of_matches "
   ]
  },
  {
   "cell_type": "code",
   "execution_count": 965,
   "metadata": {},
   "outputs": [],
   "source": [
    "\n",
    "num_real_cons = 0\n",
    "num_learned_cons = 0\n",
    "num_of_correct_cons = 0\n",
    "num_of_correct_labeled_cons = 0\n",
    "\n",
    "for tree_ind in range (len(cnf_test)):\n",
    "    c1 = real_cons[tree_ind]\n",
    "    num_real_cons += len(c1)\n",
    "    c2 = learned_cons[tree_ind]\n",
    "    num_learned_cons += len(c2)\n",
    "    crs = find_matching_constituents(c1,c2,labeled=False)\n",
    "    num_of_correct_cons += crs\n",
    "    num_of_correct_labeled_cons += find_matching_constituents(c1,c2,labeled=True)"
   ]
  },
  {
   "cell_type": "code",
   "execution_count": 966,
   "metadata": {},
   "outputs": [],
   "source": [
    "def compute_f_score(p, r):\n",
    "    return 2*p*r/(p+r)\n",
    "\n",
    "precision = num_of_correct_cons/float(num_learned_cons)\n",
    "recall = num_of_correct_cons/float(num_real_cons)\n",
    "f_score = compute_f_score(precision, recall)\n",
    "precision_labeled = num_of_correct_labeled_cons/float(num_learned_cons)\n",
    "recall_labeled = num_of_correct_labeled_cons/float(num_real_cons)\n",
    "f_score_labeled = compute_f_score(precision_labeled, recall_labeled)"
   ]
  },
  {
   "cell_type": "code",
   "execution_count": 967,
   "metadata": {},
   "outputs": [
    {
     "name": "stdout",
     "output_type": "stream",
     "text": [
      "317\n",
      "255\n"
     ]
    }
   ],
   "source": [
    "print(num_of_correct_cons)\n",
    "print(num_of_correct_labeled_cons)"
   ]
  },
  {
   "cell_type": "code",
   "execution_count": 968,
   "metadata": {},
   "outputs": [
    {
     "name": "stdout",
     "output_type": "stream",
     "text": [
      "Un-labelled:\n",
      "The precision is 0.6617954070981211\n",
      "The recall is 0.6716101694915254\n",
      "The f-score is 0.6666666666666666\n",
      "\n",
      "Labelled:\n",
      "The precision is 0.5323590814196242\n",
      "The recall is 0.5402542372881356\n",
      "The f-score is 0.5362776025236593\n"
     ]
    }
   ],
   "source": [
    "print(\"Un-labelled:\")\n",
    "print(\"The precision is {}\".format(precision))\n",
    "print(\"The recall is {}\".format(recall))\n",
    "print(\"The f-score is {}\".format(f_score))\n",
    "print()\n",
    "print(\"Labelled:\")\n",
    "print(\"The precision is {}\".format(precision_labeled))\n",
    "print(\"The recall is {}\".format(recall_labeled))\n",
    "print(\"The f-score is {}\".format(f_score_labeled))"
   ]
  },
  {
   "cell_type": "markdown",
   "metadata": {},
   "source": [
    "### 3.3: Accuracy per Distance\n",
    "\n",
    "Here we show a plot of the accuracy of constituents per constituent length."
   ]
  },
  {
   "cell_type": "code",
   "execution_count": 927,
   "metadata": {},
   "outputs": [],
   "source": [
    "def find_matching_constituents_per_length(t1,t2,labeled):\n",
    "    lengths = [0] * len(t1[0][1])\n",
    "    accs_per_legth = [0] * len(t1[0][1]) # number of words that the root covers\n",
    "    for ind1 in range(len(t1)):\n",
    "        constituent = t1[ind1]\n",
    "        c_len = len(constituent[1])\n",
    "        lengths[c_len-1] += 1\n",
    "        for ind2 in range(len(t2)):\n",
    "            c2 = t2[ind2]\n",
    "            if labeled==False and constituent[1] == c2[1]:\n",
    "                    accs_per_legth[c_len-1] += 1\n",
    "                    break\n",
    "            elif constituent[0] == c2[0] and constituent[1] == c2[1]:\n",
    "                    accs_per_legth[c_len-1] += 1\n",
    "                    break\n",
    "    return accs_per_legth, lengths "
   ]
  },
  {
   "cell_type": "code",
   "execution_count": 928,
   "metadata": {},
   "outputs": [],
   "source": [
    "def add_to_accs(accd_d, accs_l):\n",
    "    for ind in range(len(accs_l)):\n",
    "        length = ind+1\n",
    "        val = accs_l[ind]\n",
    "        if length not in accd_d:\n",
    "            accd_d[length] = val\n",
    "        else:\n",
    "            accd_d[length] += val"
   ]
  },
  {
   "cell_type": "code",
   "execution_count": 929,
   "metadata": {},
   "outputs": [],
   "source": [
    "all_lengths = {}\n",
    "accs_per_length = {}\n",
    "accs_per_length_labeled = {}\n",
    "\n",
    "for tree_ind in range (len(cnf_test)):\n",
    "    c1 = real_cons[tree_ind]\n",
    "    c2 = learned_cons[tree_ind]\n",
    "    correct_lengths, lengths = find_matching_constituents_per_length(c1,c2,labeled=False)\n",
    "    add_to_accs(accs_per_length, correct_lengths)\n",
    "    correct_lengths_labeled, lengths = find_matching_constituents_per_length(c1,c2,labeled=True)\n",
    "    add_to_accs(accs_per_length_labeled, correct_lengths_labeled)\n",
    "    add_to_accs(all_lengths, lengths)\n",
    "    \n",
    "final_acc = {}\n",
    "final_acc_labeled = {}\n",
    "for key, value in accs_per_length.items():\n",
    "    final_acc[key] = value/float(all_lengths[key])\n",
    "    final_acc_labeled[key] = accs_per_length_labeled[key]/float(all_lengths[key])"
   ]
  },
  {
   "cell_type": "code",
   "execution_count": 930,
   "metadata": {},
   "outputs": [
    {
     "data": {
      "text/plain": [
       "{1: 0.7582417582417582,\n",
       " 2: 0.625,\n",
       " 3: 0.4186046511627907,\n",
       " 4: 0.5625,\n",
       " 5: 0.4444444444444444,\n",
       " 6: 0.5625,\n",
       " 7: 0.5714285714285714,\n",
       " 8: 0.8571428571428571,\n",
       " 9: 0.6}"
      ]
     },
     "execution_count": 930,
     "metadata": {},
     "output_type": "execute_result"
    }
   ],
   "source": [
    "final_acc"
   ]
  },
  {
   "cell_type": "code",
   "execution_count": 931,
   "metadata": {},
   "outputs": [
    {
     "data": {
      "text/plain": [
       "{1: 0.6263736263736264,\n",
       " 2: 0.5,\n",
       " 3: 0.2558139534883721,\n",
       " 4: 0.3125,\n",
       " 5: 0.3888888888888889,\n",
       " 6: 0.5625,\n",
       " 7: 0.5,\n",
       " 8: 0.7142857142857143,\n",
       " 9: 0.6}"
      ]
     },
     "execution_count": 931,
     "metadata": {},
     "output_type": "execute_result"
    }
   ],
   "source": [
    "final_acc_labeled"
   ]
  },
  {
   "cell_type": "code",
   "execution_count": 945,
   "metadata": {},
   "outputs": [],
   "source": [
    "def plot_dict(relevant):\n",
    "    objects = tuple(relevant.keys())\n",
    "    y_pos = np.arange(len(objects))\n",
    "    performance = relevant.values()\n",
    "\n",
    "    plt.bar(y_pos, performance, alpha=0.5)\n",
    "    plt.xticks(y_pos, objects)\n",
    "    plt.ylabel('accuracy')\n",
    "\n",
    "    plt.show()"
   ]
  },
  {
   "cell_type": "code",
   "execution_count": 933,
   "metadata": {
    "scrolled": false
   },
   "outputs": [
    {
     "data": {
      "image/png": "[encoded data removed]",
      "text/plain": [
       "<Figure size 432x288 with 1 Axes>"
      ]
     },
     "metadata": {
      "needs_background": "light"
     },
     "output_type": "display_data"
    }
   ],
   "source": [
    "plot_dict(final_acc)"
   ]
  },
  {
   "cell_type": "code",
   "execution_count": 934,
   "metadata": {},
   "outputs": [
    {
     "data": {
      "image/png": "[encoded data removed]",
      "text/plain": [
       "<Figure size 432x288 with 1 Axes>"
      ]
     },
     "metadata": {
      "needs_background": "light"
     },
     "output_type": "display_data"
    }
   ],
   "source": [
    "plot_dict(final_acc_labeled)"
   ]
  },
  {
   "cell_type": "markdown",
   "metadata": {},
   "source": [
    "### 3.4: Accuracy per Label\n",
    "\n",
    "Here we will report the accuracy of constituents per label type"
   ]
  },
  {
   "cell_type": "code",
   "execution_count": 936,
   "metadata": {},
   "outputs": [],
   "source": [
    "def find_matching_constituents_per_label(t1,t2):\n",
    "    num_of_labels = {}\n",
    "    accs_per_label = {}\n",
    "    for ind1 in range(len(t1)):\n",
    "        constituent = t1[ind1]\n",
    "        label = constituent[0]\n",
    "        if label not in accs_per_label:\n",
    "            accs_per_label[label] = 0\n",
    "            num_of_labels[label] = 1\n",
    "        else:\n",
    "            num_of_labels[label] += 1\n",
    "        for ind2 in range(len(t2)):\n",
    "            c2 = t2[ind2]\n",
    "            if constituent[0] == c2[0] and constituent[1] == c2[1]:\n",
    "                    accs_per_label[label] += 1\n",
    "                    break\n",
    "    return accs_per_label, num_of_labels "
   ]
  },
  {
   "cell_type": "code",
   "execution_count": 937,
   "metadata": {},
   "outputs": [],
   "source": [
    "def add_dict_to_accs(accs, accs_n):\n",
    "    for key, value in accs_n.items():\n",
    "        if key not in accs:\n",
    "            accs[key] = value\n",
    "        else:\n",
    "            accs[key] += value"
   ]
  },
  {
   "cell_type": "code",
   "execution_count": 938,
   "metadata": {},
   "outputs": [],
   "source": [
    "accs_per_label = {}\n",
    "labels_amount = {}\n",
    "\n",
    "for tree_ind in range (len(cnf_test)):\n",
    "    c1 = real_cons[tree_ind]\n",
    "    c2 = learned_cons[tree_ind]\n",
    "    correct_labels, lengths = find_matching_constituents_per_label(c1,c2)\n",
    "    add_dict_to_accs(accs_per_label, correct_labels)\n",
    "    add_dict_to_accs(labels_amount, lengths)"
   ]
  },
  {
   "cell_type": "code",
   "execution_count": 947,
   "metadata": {},
   "outputs": [],
   "source": [
    "final_acc = {}\n",
    "for key, value in accs_per_label.items():\n",
    "    final_acc[key] = value/float(labels_amount[key])"
   ]
  },
  {
   "cell_type": "code",
   "execution_count": 948,
   "metadata": {
    "scrolled": true
   },
   "outputs": [
    {
     "data": {
      "image/png": "[encoded data removed]",
      "text/plain": [
       "<Figure size 432x288 with 1 Axes>"
      ]
     },
     "metadata": {
      "needs_background": "light"
     },
     "output_type": "display_data"
    }
   ],
   "source": [
    "plot_dict(final_acc)"
   ]
  },
  {
   "cell_type": "markdown",
   "metadata": {},
   "source": [
    "Since it is very hard to see what are the labels, we'll only show the plot for the following labels: S, NP, VP, PP."
   ]
  },
  {
   "cell_type": "code",
   "execution_count": 949,
   "metadata": {},
   "outputs": [],
   "source": [
    "chosen = [\"S\", \"NP\", \"VP\", \"PP\"]\n",
    "final_acc = {}\n",
    "for key, value in accs_per_label.items():\n",
    "    if key in chosen:\n",
    "        final_acc[key] = value/float(labels_amount[key])"
   ]
  },
  {
   "cell_type": "code",
   "execution_count": 950,
   "metadata": {
    "scrolled": true
   },
   "outputs": [
    {
     "data": {
      "image/png": "[encoded data removed]",
      "text/plain": [
       "<Figure size 432x288 with 1 Axes>"
      ]
     },
     "metadata": {
      "needs_background": "light"
     },
     "output_type": "display_data"
    }
   ],
   "source": [
    "plot_dict(final_acc)"
   ]
  },
  {
   "cell_type": "code",
   "execution_count": null,
   "metadata": {},
   "outputs": [],
   "source": []
  }
 ],
 "metadata": {
  "kernelspec": {
   "display_name": "Python 3",
   "language": "python",
   "name": "python3"
  },
  "language_info": {
   "codemirror_mode": {
    "name": "ipython",
    "version": 3
   },
   "file_extension": ".py",
   "mimetype": "text/x-python",
   "name": "python",
   "nbconvert_exporter": "python",
   "pygments_lexer": "ipython3",
   "version": "3.6.6"
  }
 },
 "nbformat": 4,
 "nbformat_minor": 2
}
