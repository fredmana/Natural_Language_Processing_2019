{
 "cells": [
  {
   "cell_type": "markdown",
   "metadata": {},
   "source": [
    "# Assignment 2"
   ]
  },
  {
   "cell_type": "markdown",
   "metadata": {},
   "source": [
    "# Q1. Word Classification"
   ]
  },
  {
   "cell_type": "markdown",
   "metadata": {},
   "source": [
    "## Q1.1 Implement the Evaluation Metrics"
   ]
  },
  {
   "cell_type": "code",
   "execution_count": 115,
   "metadata": {},
   "outputs": [],
   "source": [
    "## Calculates the precision of the predicted labels\n",
    "def get_precision(y_pred, y_true):\n",
    "    TP = 0\n",
    "    FP = 0\n",
    "    for i in range(len(y_pred)):\n",
    "        if y_pred[i]:\n",
    "            if y_true[i]:\n",
    "                TP += 1\n",
    "            else:\n",
    "                FP += 1\n",
    "    precision = float(TP/(TP + FP))\n",
    "    return precision\n",
    "\n",
    "\n",
    "## Calculates the recall of the predicted labels\n",
    "def get_recall(y_pred, y_true):\n",
    "    TP = 0\n",
    "    FN = 0\n",
    "    for i in range(len(y_pred)):\n",
    "        if y_true[i]:\n",
    "            if y_pred[i]:\n",
    "                TP += 1\n",
    "            else:\n",
    "                FN += 1\n",
    "    recall = float(TP/(TP + FN))\n",
    "    return recall\n",
    "\n",
    "\n",
    "## Calculates the f-score of the predicted labels\n",
    "def get_fscore(y_pred, y_true):\n",
    "    precision = get_precision(y_pred, y_true)\n",
    "    recall = get_recall(y_pred, y_true)\n",
    "    fscore = 2 * precision * recall / (precision + recall)\n",
    "    return fscore\n",
    "\n",
    "## Print the precision, recall and f-score of the predicted labels\n",
    "def test_predictions(y_pred, y_true):\n",
    "    print('precision: ' + str(get_precision(y_pred, y_true)))\n",
    "    print('recall: ' + str(get_recall(y_pred, y_true)))\n",
    "    print('f-score: ' + str(get_fscore(y_pred, y_true)))"
   ]
  },
  {
   "cell_type": "markdown",
   "metadata": {},
   "source": [
    "The above functions recive a vector of predictions and a vector of true labels, and compute a score that implies the quality of the predictions. The computed score are: precision, recall, and f-score."
   ]
  },
  {
   "cell_type": "markdown",
   "metadata": {},
   "source": [
    "## Q1.2 Baselines\n",
    "### 1.2.1 Majority Class Baseline"
   ]
  },
  {
   "cell_type": "code",
   "execution_count": 116,
   "metadata": {},
   "outputs": [
    {
     "name": "stdout",
     "output_type": "stream",
     "text": [
      "Training precision: 0.43275\n",
      "Training recall: 1.0\n",
      "Training f-score: 0.604083057058105\n",
      "Development precision: 0.418\n",
      "Development recall: 1.0\n",
      "Development f-score: 0.5895627644569816\n"
     ]
    }
   ],
   "source": [
    "import itertools\n",
    "## Loads in the words and labels of one of the datasets\n",
    "def load_file(data_file):\n",
    "    words = []\n",
    "    labels = []\n",
    "    with open(data_file, 'rt', encoding=\"utf8\") as f:\n",
    "        i = 0\n",
    "        for line in f:\n",
    "            if i > 0:\n",
    "                line_split = line[:-1].split(\"\\t\")\n",
    "                words.append(line_split[0].lower())\n",
    "                labels.append(int(line_split[1]))\n",
    "            i += 1\n",
    "    return words, labels\n",
    "\n",
    "\n",
    "### 1.2.1: A very simple baseline\n",
    "\n",
    "## Labels every word complex\n",
    "def all_complex(data_file):\n",
    "    _, y_true = load_file(data_file)\n",
    "    y_pred = list(itertools.repeat(1, len(y_true)))  # create list of complex labels\n",
    "    precision = get_precision(y_pred, y_true)\n",
    "    recall = get_recall(y_pred, y_true)\n",
    "    fscore = get_fscore(y_pred, y_true)\n",
    "    performance = [precision, recall, fscore]\n",
    "    return performance\n",
    "\n",
    "data_file = 'complex_words_training.txt'\n",
    "performance = all_complex(data_file)\n",
    "print('Training precision: ' + str(performance[0]))\n",
    "print('Training recall: ' + str(performance[1]))\n",
    "print('Training f-score: ' + str(performance[2]))\n",
    "\n",
    "data_file = 'complex_words_development.txt'\n",
    "performance = all_complex(data_file)\n",
    "print('Development precision: ' + str(performance[0]))\n",
    "print('Development recall: ' + str(performance[1]))\n",
    "print('Development f-score: ' + str(performance[2]))"
   ]
  },
  {
   "cell_type": "markdown",
   "metadata": {},
   "source": [
    "The above code computed the precision, recall and f-score for the training and develpoment datasets, when the predictions are all complex. The precision for both datasets is about 40%. Since we predicted all comlpex, this number is actually the number of coplex words in the dataset. The recall is naturally 1.0, since there are no \"negative\" predictions. "
   ]
  },
  {
   "cell_type": "markdown",
   "metadata": {},
   "source": [
    "### 1.2.2 Word Length Baseline"
   ]
  },
  {
   "cell_type": "code",
   "execution_count": 117,
   "metadata": {},
   "outputs": [
    {
     "name": "stdout",
     "output_type": "stream",
     "text": [
      "Best n for training set: 6\n",
      "Best n for development set: 6\n",
      "[0.6007401315789473, 0.8440207972270364, 0.7018976699495555]\n",
      "[0.6053511705685619, 0.8660287081339713, 0.7125984251968505]\n"
     ]
    },
    {
     "data": {
      "image/png": "[encoded data removed]",
      "text/plain": [
       "<Figure size 432x288 with 1 Axes>"
      ]
     },
     "metadata": {
      "needs_background": "light"
     },
     "output_type": "display_data"
    }
   ],
   "source": [
    "import matplotlib.pyplot as plt\n",
    "import matplotlib\n",
    "### 1.2.2: Word length thresholding\n",
    "\n",
    "## Finds the best length threshold by f-score, and uses this threshold to\n",
    "## classify the training and development set\n",
    "def word_length_threshold(training_file, development_file):\n",
    "    # compute predictions for training set\n",
    "    words_train, y_true_train = load_file(training_file)\n",
    "    max_length = len(max(words_train, key=len)) # the maximal length of a word\n",
    "    tfscore = 0\n",
    "    best_n = 0\n",
    "    tprecision_list = list()\n",
    "    trecall_list = list()\n",
    "    for n in range(2, max_length):\n",
    "        y_pred_train = list()\n",
    "        for i in range(len(words_train)):\n",
    "            y_pred_train.append(len(words_train[i]) > n)\n",
    "        tprecision_list.append(get_precision(y_pred_train, y_true_train))\n",
    "        trecall_list.append(get_recall(y_pred_train, y_true_train))\n",
    "        temp_fscore = get_fscore(y_pred_train, y_true_train)\n",
    "        if temp_fscore > tfscore:\n",
    "            tfscore = temp_fscore\n",
    "            best_n = n\n",
    "    print('Best n for training set: ' + str(best_n))\n",
    "    \n",
    "    # plot training set recall-precision curve\n",
    "    fig, ax = plt.subplots()\n",
    "    ax.plot(trecall_list, tprecision_list, label='training set', linewidth=2)\n",
    "    plt.xlabel('Recall')\n",
    "    plt.ylabel('Precision')\n",
    "        \n",
    "\n",
    "    # compute precision, recall and fscore for best n\n",
    "    y_pred_train = list()\n",
    "    for i in range(len(words_train)):\n",
    "        y_pred_train.append(len(words_train[i]) > best_n)\n",
    "    tprecision = get_precision(y_pred_train, y_true_train)\n",
    "    trecall = get_recall(y_pred_train, y_true_train)\n",
    "\n",
    "    # compute predictions for dev set\n",
    "    words_dev, y_true_dev = load_file(development_file)\n",
    "    max_length = len(max(words_dev, key=len))  # the maximal length of a word\n",
    "    dfscore = 0\n",
    "    best_n = 0\n",
    "    dprecision_list = list()\n",
    "    drecall_list = list()\n",
    "    for n in range(2, max_length):\n",
    "        y_pred_dev = list()\n",
    "        for i in range(len(words_dev)):\n",
    "            y_pred_dev.append(len(words_dev[i]) > n)\n",
    "        dprecision_list.append(get_precision(y_pred_dev, y_true_dev))\n",
    "        drecall_list.append(get_recall(y_pred_dev, y_true_dev))\n",
    "        temp_fscore = get_fscore(y_pred_dev, y_true_dev)\n",
    "        if temp_fscore > dfscore:\n",
    "            dfscore = temp_fscore\n",
    "            best_n = n\n",
    "    print('Best n for development set: ' + str(best_n))\n",
    "    \n",
    "    # plot training set recall-precision curve\n",
    "    ax.plot(drecall_list, dprecision_list, label='development set')\n",
    "    ax.legend(loc='upper right', fontsize='x-large')    \n",
    "\n",
    "    # compute precision, recall and fscore for best n\n",
    "    y_pred_dev = list()\n",
    "    for i in range(len(words_dev)):\n",
    "        y_pred_dev.append(len(words_dev[i]) > best_n)\n",
    "    dprecision = get_precision(y_pred_dev, y_true_dev)\n",
    "    drecall = get_recall(y_pred_dev, y_true_dev)\n",
    "\n",
    "    training_performance = [tprecision, trecall, tfscore]\n",
    "    development_performance = [dprecision, drecall, dfscore]\n",
    "    return training_performance, development_performance\n",
    "\n",
    "training_performance, development_performance = word_length_threshold('complex_words_training.txt', 'complex_words_development.txt')\n",
    "print(training_performance)\n",
    "print(development_performance)"
   ]
  },
  {
   "cell_type": "markdown",
   "metadata": {},
   "source": [
    "The above function tests different word lengths as calissification parameter, and chooses the length (n) which yields the highest f-score. We tested with word length between 2 and the length of the longest word in the dataset minus 1. Testing the length of the longest word as a threshold is equivalent to making only negative predictions, which leads to a problem in computing the precision and the recall (division in zero). The best f-score for both training and development sets was recived for n=6. The precision is about 0.6, and the recall 0.85.\n",
    "<br><br>\n",
    "We also plotted the precision-recall curve of the training and delopment datasets for the various word length. "
   ]
  },
  {
   "cell_type": "markdown",
   "metadata": {},
   "source": [
    "### 1.2.3 Word Frequency Baseline"
   ]
  },
  {
   "cell_type": "code",
   "execution_count": 118,
   "metadata": {},
   "outputs": [
    {
     "name": "stdout",
     "output_type": "stream",
     "text": [
      "[4167701       7       1       1       2       0       1       0       0\n",
      "       1]\n",
      "[4.00000000e+01 4.73768300e+09 9.47536596e+09 1.42130489e+10\n",
      " 1.89507319e+10 2.36884148e+10 2.84260978e+10 3.31637808e+10\n",
      " 3.79014637e+10 4.26391467e+10 4.73768297e+10]\n",
      "4737683001.1\n",
      "Best threshold for training set: 50000000\n",
      "Best threshold for development set: 14900000\n",
      "Training set performance: [0.5657051282051282, 0.8157134604274986, 0.6680861130825645]\n",
      "Development set performance: [0.5824742268041238, 0.8110047846889952, 0.6779999999999999]\n"
     ]
    },
    {
     "data": {
      "image/png": "[encoded data removed]",
      "text/plain": [
       "<Figure size 432x288 with 1 Axes>"
      ]
     },
     "metadata": {
      "needs_background": "light"
     },
     "output_type": "display_data"
    }
   ],
   "source": [
    "from collections import defaultdict\n",
    "import gzip\n",
    "import numpy as np\n",
    "### 1.2.3: Word frequency thresholding\n",
    "\n",
    "## Loads Google NGram counts\n",
    "def load_ngram_counts(ngram_counts_file):\n",
    "    counts = defaultdict(int)\n",
    "    with gzip.open(ngram_counts_file, 'rt', encoding=\"utf8\") as f:\n",
    "        for line in f:\n",
    "            token, count = line.strip().split('\\t')\n",
    "            if token[0].islower():\n",
    "                counts[token] = int(count)\n",
    "    return counts\n",
    "\n",
    "# Finds the best frequency threshold by f-score, and uses this threshold to\n",
    "## classify the training and development set\n",
    "def word_frequency_threshold(training_file, development_file, counts):\n",
    "    \n",
    "    thresholds = range(1000000, 50100000, 100000)\n",
    "    # compute predictions for training set\n",
    "    words_train, y_true_train = load_file(training_file)\n",
    "    tfscore = 0\n",
    "    best_threshold = 0\n",
    "    tprecision_list = list()\n",
    "    trecall_list = list()\n",
    "    for threshold in thresholds:\n",
    "        y_pred_train = list()\n",
    "        for word in words_train:\n",
    "            f = 0\n",
    "            if word in counts:\n",
    "                f = counts[word]\n",
    "            y_pred_train.append(f < threshold)\n",
    "        tprecision_list.append(get_precision(y_pred_train, y_true_train))\n",
    "        trecall_list.append(get_recall(y_pred_train, y_true_train))\n",
    "        temp_fscore = get_fscore(y_pred_train, y_true_train)\n",
    "        if temp_fscore > tfscore:\n",
    "            tfscore = temp_fscore\n",
    "            best_threshold = threshold\n",
    "    print('Best threshold for training set: ' + str(threshold))\n",
    "    \n",
    "    # get precision and recall for best threshold\n",
    "    tprecision = tprecision_list[thresholds.index(best_threshold)]\n",
    "    trecall = trecall_list[thresholds.index(best_threshold)]\n",
    "    \n",
    "    # plot training set recall-precision curve\n",
    "    fig, ax = plt.subplots()\n",
    "    ax.plot(trecall_list, tprecision_list, label='training set', linewidth=2)\n",
    "    plt.xlabel('Recall')\n",
    "    plt.ylabel('Precision')\n",
    "    \n",
    "          \n",
    "    # compute predictions for dev set\n",
    "    words_dev, y_true_dev = load_file(development_file)\n",
    "    dfscore = 0\n",
    "    best_threshold = 0\n",
    "    dprecision_list = list()\n",
    "    drecall_list = list()\n",
    "    for threshold in thresholds:\n",
    "        y_pred_dev = list()\n",
    "        for word in words_dev:\n",
    "            f = 0\n",
    "            if word in counts:\n",
    "                f = counts[word]\n",
    "            y_pred_dev.append(f < threshold)\n",
    "        dprecision_list.append(get_precision(y_pred_dev, y_true_dev))\n",
    "        drecall_list.append(get_recall(y_pred_dev, y_true_dev))\n",
    "        temp_fscore = get_fscore(y_pred_dev, y_true_dev)\n",
    "        if temp_fscore > dfscore:\n",
    "            dfscore = temp_fscore\n",
    "            best_threshold = threshold\n",
    "    print('Best threshold for development set: ' + str(best_threshold))\n",
    "    \n",
    "    # compute precision, recall and fscore for best n\n",
    "    dprecision = dprecision_list[thresholds.index(best_threshold)]\n",
    "    drecall = drecall_list[thresholds.index(best_threshold)]\n",
    "    \n",
    "    # plot precision-recall curve for development set\n",
    "    ax.plot(drecall_list, dprecision_list, label='development set')\n",
    "    ax.legend(loc='lower center', fontsize='x-large')\n",
    "\n",
    "    training_performance = [tprecision, trecall, tfscore]\n",
    "    development_performance = [dprecision, drecall, dfscore]\n",
    "    return training_performance, development_performance\n",
    "\n",
    "# print histogram of counts\n",
    "counts = load_ngram_counts('ngram_counts.txt.gz')  # load word frequencies\n",
    "data = list(counts.values())\n",
    "hist, bin_edges = np.histogram(data, bins=10)\n",
    "print(hist)\n",
    "print(bin_edges)\n",
    "print(bin_edges[1])\n",
    "\n",
    "\n",
    "training_performance, development_performance = word_frequency_threshold('complex_words_training.txt', 'complex_words_development.txt', counts)\n",
    "print('Training set performance: ' + str(training_performance))\n",
    "print('Development set performance: ' + str(development_performance))"
   ]
  },
  {
   "cell_type": "markdown",
   "metadata": {},
   "source": [
    "The above code computes the precision, recall and f-score of the training and development datasets, when the predictions are made using a threshold of frequencies. First, we look at the histogram and the bin edges of Google's word frequencies file. It is possible to see that the vast majority of the words are in the first bin of the histogram, which its upper edge it about 50 million. And so we use a threshold with skips of 100,000 up to 50 million. "
   ]
  },
  {
   "cell_type": "markdown",
   "metadata": {},
   "source": [
    "## Q1.3 Classifiers"
   ]
  },
  {
   "cell_type": "code",
   "execution_count": 41,
   "metadata": {},
   "outputs": [
    {
     "name": "stdout",
     "output_type": "stream",
     "text": [
      "Training set performance: [0.4950379451255108, 0.9797804737146159, 0.6577467519875897]\n",
      "Development set performance: [0.46929316338354576, 0.9688995215311005, 0.6323185011709602]\n"
     ]
    }
   ],
   "source": [
    "import numpy as np\n",
    "from sklearn.naive_bayes import GaussianNB\n",
    "\n",
    "def naive_bayes(training_file, development_file, counts):\n",
    "    \n",
    "    # build X_train\n",
    "    words_train, y_true_train = load_file(training_file)\n",
    "    X_train = list()\n",
    "    for word in words_train:\n",
    "        l = len(word)\n",
    "        f = 0\n",
    "        if word in counts:\n",
    "            f = counts[word]\n",
    "        X_train.append([l, f])\n",
    "    \n",
    "    # normalize X_train\n",
    "    X_train_matrix = np.matrix(X_train)\n",
    "    X_train_mean = X_train_matrix.mean(0)\n",
    "    X_train_std = X_train_matrix.std(0)\n",
    "    X_train_matrix = (X_train_matrix - X_train_mean) / X_train_std\n",
    "    \n",
    "    # learn classifier\n",
    "    Y = np.array(y_true_train)\n",
    "    clf = GaussianNB()\n",
    "    clf.fit(X_train_matrix, Y)\n",
    "    \n",
    "    # use classify to predict training set labels\n",
    "    Y_pred_train = clf.predict(X_train_matrix)\n",
    "    # compute precision, recall and f-score for the training predicted lables\n",
    "    tprecision = get_precision(Y_pred_train.tolist(), y_true_train)\n",
    "    trecall = get_recall(Y_pred_train.tolist(), y_true_train)\n",
    "    tfscore = get_fscore(Y_pred_train.tolist(), y_true_train)\n",
    "    training_performance = [tprecision, trecall, tfscore]\n",
    "    \n",
    "    # build X_dev\n",
    "    words_dev, y_true_dev = load_file(development_file)\n",
    "    X_dev = list()\n",
    "    for word in words_dev:\n",
    "        l = len(word)\n",
    "        f = 0\n",
    "        if word in counts:\n",
    "            f = counts[word]\n",
    "        X_dev.append([l, f])\n",
    "        \n",
    "    # normalize X_dev\n",
    "    X_dev_matrix = np.matrix(X_dev)\n",
    "    X_dev_matrix = (X_dev_matrix - X_train_mean) / X_train_std\n",
    "    \n",
    "    # use classifier to predict development set labels\n",
    "    Y_pred_dev = clf.predict(X_dev_matrix)\n",
    "    # compute precision, recall and f-score for the training predicted lables\n",
    "    dprecision = get_precision(Y_pred_dev.tolist(), y_true_dev)\n",
    "    drecall = get_recall(Y_pred_dev.tolist(), y_true_dev)\n",
    "    dfscore = get_fscore(Y_pred_dev.tolist(), y_true_dev)\n",
    "    development_performance = [dprecision, drecall, dfscore]\n",
    "    \n",
    "    return training_performance, development_performance\n",
    "        \n",
    "counts = load_ngram_counts('ngram_counts.txt.gz')  # load word frequencies\n",
    "training_performance, development_performance = naive_bayes('complex_words_training.txt', 'complex_words_development.txt', counts)\n",
    "print('Training set performance: ' + str(training_performance))\n",
    "print('Development set performance: ' + str(development_performance))   \n"
   ]
  },
  {
   "cell_type": "markdown",
   "metadata": {},
   "source": [
    "The above code learns a Naive Bayes classifier with the training set, and then computes the precision, recall and f-score of the labels predicted by the model for the training set and development set. The precision and recall of both training and developemnt sets are quite simillar to the performance of the majority class baseline. This means that the classifier has a strong bias towards the positive labels. "
   ]
  },
  {
   "cell_type": "markdown",
   "metadata": {},
   "source": [
    "## Q1.4. Ambiguity"
   ]
  },
  {
   "cell_type": "code",
   "execution_count": 46,
   "metadata": {},
   "outputs": [
    {
     "name": "stdout",
     "output_type": "stream",
     "text": [
      "['campaign', 'commissioner', 'district', 'element', 'hoverboard', 'indy', 'inspired', 'league', 'opponents', 'slavery', 'sprouts']\n"
     ]
    }
   ],
   "source": [
    "#  print context-sensitive words\n",
    "words, y_true = load_file('complex_words_training.txt')\n",
    "words_array = np.array(words)\n",
    "context_sensitive = list()\n",
    "for word in words:\n",
    "    searchval = word\n",
    "    inds = np.where(words_array == searchval)[0]\n",
    "    labels = [y_true[i] for i in inds.tolist()] # get all labels of the word\n",
    "    max_label = max(labels)\n",
    "    if sum(labels) != max_label*len(labels): # check if the word has different labels\n",
    "        context_sensitive.append(word)\n",
    "\n",
    "print(sorted(set(context_sensitive)))\n",
    " "
   ]
  },
  {
   "cell_type": "markdown",
   "metadata": {},
   "source": [
    "The above code prints all words in complex_words_training.txt that are labeled both complex and simple, meaning that their label is context-sensitive. Out of 3882 different words, 11 are context-sensitive. "
   ]
  },
  {
   "cell_type": "markdown",
   "metadata": {},
   "source": [
    "# Q2  Document Classification\n",
    "## Q2.1. Reuters Dataset"
   ]
  },
  {
   "cell_type": "code",
   "execution_count": 51,
   "metadata": {},
   "outputs": [],
   "source": [
    "# Authors: Eustache Diemert <eustache@diemert.fr>\n",
    "#          @FedericoV <https://github.com/FedericoV/>\n",
    "# License: BSD 3 clause\n",
    "\n",
    "from __future__ import print_function\n",
    "from glob import glob\n",
    "import itertools\n",
    "import os.path\n",
    "import re\n",
    "import tarfile\n",
    "import time\n",
    "import sys\n",
    "\n",
    "import numpy as np\n",
    "import matplotlib.pyplot as plt\n",
    "from matplotlib import rcParams\n",
    "\n",
    "from sklearn.externals.six.moves import html_parser\n",
    "from sklearn.externals.six.moves.urllib.request import urlretrieve\n",
    "from sklearn.datasets import get_data_home\n",
    "from sklearn.feature_extraction.text import HashingVectorizer\n",
    "from sklearn.linear_model import SGDClassifier\n",
    "from sklearn.linear_model import PassiveAggressiveClassifier\n",
    "from sklearn.linear_model import Perceptron\n",
    "from sklearn.naive_bayes import MultinomialNB\n",
    "\n",
    "\n",
    "def _not_in_sphinx():\n",
    "    # Hack to detect whether we are running by the sphinx builder\n",
    "    return '__file__' in globals()\n",
    "    "
   ]
  },
  {
   "cell_type": "code",
   "execution_count": 52,
   "metadata": {},
   "outputs": [],
   "source": [
    "class ReutersParser(html_parser.HTMLParser):\n",
    "    \"\"\"Utility class to parse a SGML file and yield documents one at a time.\"\"\"\n",
    "\n",
    "    def __init__(self, encoding='latin-1'):\n",
    "        html_parser.HTMLParser.__init__(self)\n",
    "        self._reset()\n",
    "        self.encoding = encoding\n",
    "\n",
    "    def handle_starttag(self, tag, attrs):\n",
    "        method = 'start_' + tag\n",
    "        getattr(self, method, lambda x: None)(attrs)\n",
    "\n",
    "    def handle_endtag(self, tag):\n",
    "        method = 'end_' + tag\n",
    "        getattr(self, method, lambda: None)()\n",
    "\n",
    "    def _reset(self):\n",
    "        self.in_title = 0\n",
    "        self.in_body = 0\n",
    "        self.in_topics = 0\n",
    "        self.in_topic_d = 0\n",
    "        self.title = \"\"\n",
    "        self.body = \"\"\n",
    "        self.topics = []\n",
    "        self.topic_d = \"\"\n",
    "\n",
    "    def parse(self, fd):\n",
    "        self.docs = []\n",
    "        for chunk in fd:\n",
    "            self.feed(chunk.decode(self.encoding))\n",
    "            for doc in self.docs:\n",
    "                yield doc\n",
    "            self.docs = []\n",
    "        self.close()\n",
    "\n",
    "    def handle_data(self, data):\n",
    "        if self.in_body:\n",
    "            self.body += data\n",
    "        elif self.in_title:\n",
    "            self.title += data\n",
    "        elif self.in_topic_d:\n",
    "            self.topic_d += data\n",
    "\n",
    "    def start_reuters(self, attributes):\n",
    "        pass\n",
    "\n",
    "    def end_reuters(self):\n",
    "        self.body = re.sub(r'\\s+', r' ', self.body)\n",
    "        self.docs.append({'title': self.title,\n",
    "                          'body': self.body,\n",
    "                          'topics': self.topics})\n",
    "        self._reset()\n",
    "\n",
    "    def start_title(self, attributes):\n",
    "        self.in_title = 1\n",
    "\n",
    "    def end_title(self):\n",
    "        self.in_title = 0\n",
    "\n",
    "    def start_body(self, attributes):\n",
    "        self.in_body = 1\n",
    "\n",
    "    def end_body(self):\n",
    "        self.in_body = 0\n",
    "\n",
    "    def start_topics(self, attributes):\n",
    "        self.in_topics = 1\n",
    "\n",
    "    def end_topics(self):\n",
    "        self.in_topics = 0\n",
    "\n",
    "    def start_d(self, attributes):\n",
    "        self.in_topic_d = 1\n",
    "\n",
    "    def end_d(self):\n",
    "        self.in_topic_d = 0\n",
    "        self.topics.append(self.topic_d)\n",
    "        self.topic_d = \"\"\n",
    "\n",
    "\n",
    "def stream_reuters_documents(data_path=None):\n",
    "    \"\"\"Iterate over documents of the Reuters dataset.\n",
    "\n",
    "    The Reuters archive will automatically be downloaded and uncompressed if\n",
    "    the `data_path` directory does not exist.\n",
    "\n",
    "    Documents are represented as dictionaries with 'body' (str),\n",
    "    'title' (str), 'topics' (list(str)) keys.\n",
    "\n",
    "    \"\"\"\n",
    "\n",
    "    DOWNLOAD_URL = ('http://archive.ics.uci.edu/ml/machine-learning-databases/'\n",
    "                    'reuters21578-mld/reuters21578.tar.gz')\n",
    "    ARCHIVE_FILENAME = 'reuters21578.tar.gz'\n",
    "\n",
    "    if data_path is None:\n",
    "        data_path = os.path.join(get_data_home(), \"reuters\")\n",
    "    if not os.path.exists(data_path):\n",
    "        \"\"\"Download the dataset.\"\"\"\n",
    "        print(\"downloading dataset (once and for all) into %s\" %\n",
    "              data_path)\n",
    "        os.mkdir(data_path)\n",
    "\n",
    "        def progress(blocknum, bs, size):\n",
    "            total_sz_mb = '%.2f MB' % (size / 1e6)\n",
    "            current_sz_mb = '%.2f MB' % ((blocknum * bs) / 1e6)\n",
    "            if _not_in_sphinx():\n",
    "                sys.stdout.write(\n",
    "                    '\\rdownloaded %s / %s' % (current_sz_mb, total_sz_mb))\n",
    "\n",
    "        archive_path = os.path.join(data_path, ARCHIVE_FILENAME)\n",
    "        urlretrieve(DOWNLOAD_URL, filename=archive_path,\n",
    "                    reporthook=progress)\n",
    "        if _not_in_sphinx():\n",
    "            sys.stdout.write('\\r')\n",
    "        print(\"untarring Reuters dataset...\")\n",
    "        tarfile.open(archive_path, 'r:gz').extractall(data_path)\n",
    "        print(\"done.\")\n",
    "\n",
    "    parser = ReutersParser()\n",
    "    for filename in glob(os.path.join(data_path, \"*.sgm\")):\n",
    "        for doc in parser.parse(open(filename, 'rb')):\n",
    "            yield doc"
   ]
  },
  {
   "cell_type": "code",
   "execution_count": 59,
   "metadata": {},
   "outputs": [
    {
     "name": "stdout",
     "output_type": "stream",
     "text": [
      "Number of documents: 21578\n",
      "Number of categories: 445\n",
      "Mean: 89.87191011235954\n",
      "Std: 644.6569094125375\n",
      "Min: 1.0\n",
      "Max: 12542.0\n"
     ]
    }
   ],
   "source": [
    "import pandas as pd\n",
    "# get iterator of Reuters-21578\n",
    "data_stream = stream_reuters_documents()\n",
    "\n",
    "topics = defaultdict(int)\n",
    "num_docs = 0\n",
    "for doc in data_stream:\n",
    "    num_docs += 1\n",
    "    for topic in doc['topics']:\n",
    "        topics[topic] += 1\n",
    "        \n",
    "print('Number of documents: ' + str(num_docs))\n",
    "print('Number of categories: ' + str(len(topics)))\n",
    "\n",
    "statistics = pd.Series(stats).describe()\n",
    "print('Mean: ' + str(statistics['mean']))\n",
    "print('Std: ' + str(statistics['std']))\n",
    "print('Min: ' + str(statistics['min']))\n",
    "print('Max: ' + str(statistics['max']))"
   ]
  },
  {
   "cell_type": "markdown",
   "metadata": {},
   "source": [
    "There are 21,578 different documents in the dataset, and 445 different topics/categories. The average number of documents per topic is ~90, and the most popular category has 12,542 documents assigned to."
   ]
  },
  {
   "cell_type": "code",
   "execution_count": 83,
   "metadata": {},
   "outputs": [
    {
     "name": "stdout",
     "output_type": "stream",
     "text": [
      "Number of characters: 16003823\n",
      "Number of words: 2638722\n"
     ]
    }
   ],
   "source": [
    "positive_class = 'acq'\n",
    "def get_minibatch(doc_iter, size, pos_class=positive_class):\n",
    "    \"\"\"Extract a minibatch of examples, return a tuple X_text, y.\n",
    "\n",
    "    Note: size is before excluding invalid docs with no topics assigned.\n",
    "\n",
    "    \"\"\"\n",
    "    data = [(u'{title}\\n\\n{body}'.format(**doc), pos_class in doc['topics'])\n",
    "            for doc in itertools.islice(doc_iter, size)\n",
    "            if doc['topics']]\n",
    "    if not len(data):\n",
    "        return np.asarray([], dtype=int), np.asarray([], dtype=int)\n",
    "    X_text, y = zip(*data)\n",
    "    return X_text, np.asarray(y, dtype=int)\n",
    "\n",
    "data_stream = stream_reuters_documents()\n",
    "\n",
    "num_chars = 0\n",
    "num_words = 0\n",
    "examps = get_minibatch(data_stream, 21578) # get all documents\n",
    "for doc in examps[0]:\n",
    "    num_chars += len(doc)\n",
    "    num_words += len(doc.split())\n",
    "\n",
    "print('Number of characters: ' + str(num_chars))\n",
    "print('Number of words: ' + str(num_words))"
   ]
  },
  {
   "cell_type": "markdown",
   "metadata": {},
   "source": [
    "The above code prints the number of characters and words in the corpus. We treat a word as a token with space before or after it."
   ]
  },
  {
   "cell_type": "markdown",
   "metadata": {},
   "source": [
    "The code discusses the following classifiers: stochastic gradient decent (SGD), perceptron, multinomial naive Bayes, and passive-agressive. All these classifiers allow to perform the training phase in batches, i.e. they don't have to see all the training data at once. This is why these classifiers support the 'partial-fit' method, which doesn't load all the data at once to the memory, but does so in batches."
   ]
  },
  {
   "cell_type": "markdown",
   "metadata": {},
   "source": [
    "Hashing vectorizer is a function of sklearn which is used for feature representation in online learning. Since the data is seen in batches, we cannot hold the entire vocabulary, and so the function allows to pick in advance the size of the feature space (with the argument n_features), and then all features in each batch wil be projected on this space."
   ]
  },
  {
   "cell_type": "markdown",
   "metadata": {},
   "source": [
    "### Q2.2 Spam Dataset"
   ]
  },
  {
   "cell_type": "code",
   "execution_count": 1,
   "metadata": {},
   "outputs": [
    {
     "name": "stdout",
     "output_type": "stream",
     "text": [
      "Percent: [##################################################] 100%"
     ]
    }
   ],
   "source": [
    "%matplotlib inline\n",
    "import os\n",
    "import sys\n",
    "import numpy\n",
    "from pandas import DataFrame\n",
    "from sklearn.feature_extraction.text import CountVectorizer\n",
    "from sklearn.naive_bayes import MultinomialNB\n",
    "from sklearn.pipeline import Pipeline\n",
    "from sklearn.model_selection import KFold\n",
    "from sklearn.metrics import confusion_matrix, f1_score\n",
    "\n",
    "def progress(i, end_val, bar_length=50):\n",
    "    '''\n",
    "    Print a progress bar of the form: Percent: [#####      ]\n",
    "    i is the current progress value expected in a range [0..end_val]\n",
    "    bar_length is the width of the progress bar on the screen.\n",
    "    '''\n",
    "    percent = float(i) / end_val\n",
    "    hashes = '#' * int(round(percent * bar_length))\n",
    "    spaces = ' ' * (bar_length - len(hashes))\n",
    "    sys.stdout.write(\"\\rPercent: [{0}] {1}%\".format(hashes + spaces, int(round(percent * 100))))\n",
    "    sys.stdout.flush()\n",
    "\n",
    "NEWLINE = '\\n'\n",
    "\n",
    "HAM = 'ham'\n",
    "SPAM = 'spam'\n",
    "\n",
    "SOURCES = [\n",
    "    ('spam',        SPAM),\n",
    "    ('easy_ham',    HAM),\n",
    "    ('hard_ham',    HAM),\n",
    "    ('beck-s',      HAM),\n",
    "    ('farmer-d',    HAM),\n",
    "    ('kaminski-v',  HAM),\n",
    "    ('kitchen-l',   HAM),\n",
    "    ('lokay-m',     HAM),\n",
    "    ('williams-w3', HAM),\n",
    "    ('BG',          SPAM),\n",
    "    ('GP',          SPAM),\n",
    "    ('SH',          SPAM)\n",
    "]\n",
    "\n",
    "SKIP_FILES = {'cmds'}\n",
    "\n",
    "\n",
    "def read_files(path):\n",
    "    '''\n",
    "    Generator of pairs (filename, filecontent)\n",
    "    for all files below path whose name is not in SKIP_FILES.\n",
    "    The content of the file is of the form:\n",
    "        header....\n",
    "        <emptyline>\n",
    "        body...\n",
    "    This skips the headers and returns body only.\n",
    "    '''\n",
    "    for root, dir_names, file_names in os.walk(path):\n",
    "        for path in dir_names:\n",
    "            read_files(os.path.join(root, path))\n",
    "        for file_name in file_names:\n",
    "            if file_name not in SKIP_FILES:\n",
    "                file_path = os.path.join(root, file_name)\n",
    "                if os.path.isfile(file_path):\n",
    "                    past_header, lines = False, []\n",
    "                    f = open(file_path, encoding=\"latin-1\")\n",
    "                    for line in f:\n",
    "                        if past_header:\n",
    "                            lines.append(line)\n",
    "                        elif line == NEWLINE:\n",
    "                            past_header = True\n",
    "                    f.close()\n",
    "                    content = NEWLINE.join(lines)\n",
    "                    yield file_path, content\n",
    "\n",
    "\n",
    "def build_data_frame(l, path, classification):\n",
    "    rows = []\n",
    "    index = []\n",
    "    for i, (file_name, text) in enumerate(read_files(path)):\n",
    "        if ((i+l) % 100 == 0):\n",
    "            progress(i+l, 58910, 50)\n",
    "        rows.append({'text': text, 'class': classification})\n",
    "        index.append(file_name)\n",
    "   \n",
    "    data_frame = DataFrame(rows, index=index)\n",
    "    return data_frame, len(rows)\n",
    "\n",
    "def load_data():\n",
    "    data = DataFrame({'text': [], 'class': []})\n",
    "    l = 0\n",
    "    for path, classification in SOURCES:\n",
    "        data_frame, nrows = build_data_frame(l, path, classification)\n",
    "        data = data.append(data_frame, sort=False)\n",
    "        l += nrows\n",
    "    data = data.reindex(numpy.random.permutation(data.index))\n",
    "    return data\n",
    "\n",
    "data=load_data()"
   ]
  },
  {
   "cell_type": "code",
   "execution_count": 20,
   "metadata": {},
   "outputs": [
    {
     "name": "stdout",
     "output_type": "stream",
     "text": [
      "Number of unigrams: 697570\n",
      "Number of bigrams: 3318380\n"
     ]
    }
   ],
   "source": [
    "count_vectorizer = CountVectorizer(ngram_range=(1, 2))\n",
    "counts_mat = count_vectorizer.fit_transform(data['text'].values)\n",
    "features = count_vectorizer.get_feature_names()\n",
    "num_bigrams = 0\n",
    "# if the feature contains space, it's a bigram\n",
    "for f in features:\n",
    "    if ' ' in f:\n",
    "        num_bigrams += 1\n",
    "num_unigrams = len(features) - num_bigrams\n",
    "print('Number of unigrams: ' + str(num_unigrams))\n",
    "print('Number of bigrams: ' + str(num_bigrams))"
   ]
  },
  {
   "cell_type": "code",
   "execution_count": 30,
   "metadata": {},
   "outputs": [
    {
     "name": "stdout",
     "output_type": "stream",
     "text": [
      "Top 50 unigrams and bigrams: ['font', '3d', 'the', 'br', 'td', 'to', 'and', 'nbsp', 'of', 'http', '20', 'size', 'tr', 'in', 'width', 'com', 'nbsp nbsp', 'you', 'br br', 'face', 'for', 'border', 'is', 'style', 'this', 'align', 'span', 'href', 'height', 'html', 'color', 'www', 'font size', 'td tr', 'http www', 'font face', 'that', 'on', 'td td', 'your', 'content', 'tr td', 'table', 'with', 'be', 'div', '3d http', 'arial', 'it', 'style 3d']\n"
     ]
    }
   ],
   "source": [
    "import heapq\n",
    "import numpy as np\n",
    "def top_n_unigrams_bigrams(counts_mat, features_names, n = 50):\n",
    "    counts_vec = counts_mat.sum(axis=0) # get counts for each feature\n",
    "    counts_vec = np.squeeze(np.asarray(counts_vec))\n",
    "    most_freq_inds = heapq.nlargest(n, range(len(counts_vec)), counts_vec.__getitem__) # get n most frequent features\n",
    "    most_freq_features = [features_names[i] for i in most_freq_inds]\n",
    "    return most_freq_features\n",
    "\n",
    "# get top 50 for the entire dataset\n",
    "n=50\n",
    "most_freq_features = top_n_unigrams_bigrams(counts_mat, features)\n",
    "print('Top ' + str(n) + ' unigrams and bigrams: ' + str(most_freq_features))"
   ]
  },
  {
   "cell_type": "code",
   "execution_count": 41,
   "metadata": {},
   "outputs": [
    {
     "name": "stdout",
     "output_type": "stream",
     "text": [
      "Top 50 unigrams and bigrams in spam data: ['corporate functions', '2220 pdt', 'apocalyptical adipescent', 'major ity', 'growth was', 'markets calm', 'leaden yesterday', 'miltuykjynqhaajdboefgfzesuyvkhg br', 'meteorology bargaininternational', '15 transmission', 'doors comes', '_nextpart_095_8247_18l6xskw z92s6715', 'gtooofsweii pq0de5kszbpkavs', 'now recognised', 'his brown', 'appointed administrators', 'competentba nk', 'antoine jacoutot', 'loud disruption', 'likely decrease', '99zjxhqbfw8eb2dmxotmpeurargwhe2lg rgcg6dvegzzknw9twphco5y5sqdcms8lw', 'bhwcpybz', 'edna consonant', 'bgfzig9yz2fuaxphy2lvbmvzihzpdmvuigvuihvuigvudg9ybm8gzgvtyxnpywrvigrpbuftawnv lcbwb3igbg8gcxvligvzig5ly2vzyxjpbybjb250yxigy29uigluzm9ybwfjafnuig9wb3j0dw5h', 'dog grew', 'or knows', 'correl', 'doctor cost', 'diatonic iconoclast', 'make molded', 'corporativos span', 'bonneville replied', 'make manual', 'englishman halpern', 'mdt01vy', 'oef91irqioazata4b9i5xz4omftjzmncrfgizbjnee br', 'canteen terna', 'mimicking commonweal', 'corwinsaskia bach', '24 swift', 'loud funny', 'ora2ll5ru3ltq92uzp7nm', 'drinking homebrew', 'ackehlxssrydgimzgvbfj 79286922', 'mag 15', 'bank president', 'correlation disappears', 'maommkwb54', 'mimiery font', 'doctor distiller']\n"
     ]
    }
   ],
   "source": [
    "# get top 50 for spam data\n",
    "spam_data = data[data['class'] == 'spam']\n",
    "spam_cv = CountVectorizer(ngram_range=(1, 2))\n",
    "spam_counts_mat = spam_cv.fit_transform(spam_data['text'].values)\n",
    "most_freq_features = top_n_unigrams_bigrams(spam_counts_mat, features)\n",
    "print('Top ' + str(n) + ' unigrams and bigrams in spam data: ' + str(most_freq_features))"
   ]
  },
  {
   "cell_type": "code",
   "execution_count": 40,
   "metadata": {},
   "outputs": [
    {
     "name": "stdout",
     "output_type": "stream",
     "text": [
      "Top 50 unigrams and bigrams in ham data: ['danger pass', 'dell until', '2924631', 'briefing charts', 'article 544', '666666 atenci', 'akemzs6irvdubnetivevy0v8hqt5safl', 'ac4tcxueeajgqssxu45wtkdvusdjjjm44 c9ufqkk', 'aufhaengevorrichtung', 'buiofe br', 'arachnophagous unintermittent', 'dach', 'eater spain', 'cwrl6zd5x byaaaa44xk02k', 'decdelmur iol', 'avec des', 'dunkirk so', '3d623 bgcolor', 'a_jimenezcrespo', '080e1813110307171e1b1c17001b1d1e1d3214131f1b1e0b5c061a171600131f131a1d0701175c111d1f0e43424b4b460e43410e400e404647434742430e08', 'dsm group', 'anne denne', 'alluum cl', 'dteriutcdvibagwslklubfbbaclhspa0ptvtrikrshxmswizvvibrstoz36isfiz7wlxm1u9 pry', 'e5yp7jh aasb0z9tzrrxva5kj', '374 3116', 'dovzh8ell8o1ctwjrm1 h7fzmlfehtftgn', '3d ak', 'architect braniff', '119 by', '3399 by', '4859009046597536 content', 'ajxuyzgmzzladxjkctglp6vmhxqsiltpwe8su7jcebam05lhrm7eufbw2brsxd6s6bxm1jcncxqk', 'bryanhoch gif', 'buyer such', 'details up', 'arget 3dhe', 'br specification', 'ebitda http', 'as playstation', '3y3dqxnm4bqajjoo3nt tkchbwsr', 'antivirus guide', '01 dolar', 'cotangent auschwitz', 'an analy', 'around picture', '279 o0', '02 2003', 'appropriable bluegrass', 'anglopho biaazw7vfc2roshpta']\n"
     ]
    }
   ],
   "source": [
    "# get top 50 for ham data\n",
    "ham_data = data[data['class'] == 'ham']\n",
    "ham_cv = CountVectorizer(ngram_range=(1, 2))\n",
    "ham_counts_mat = ham_cv.fit_transform(ham_data['text'].values)\n",
    "most_freq_features = top_n_unigrams_bigrams(ham_counts_mat, features)\n",
    "print('Top ' + str(n) + ' unigrams and bigrams in ham data: ' + str(most_freq_features))"
   ]
  },
  {
   "cell_type": "markdown",
   "metadata": {},
   "source": [
    "The above blocks prints the 50 most frequent unigrams and bigrams in the whole data, the spam data, and the ham data. The most frequent features in the entire dataset are mostly html code, which makes sense. We expect the content of spam and ham emails would be very different, and the commong attributes would be related to the fact that coth classes are email messages. The most frequent features in the spam data are mostly gibberish, which make sense. In the ham data we see also some gibberish, but also more meaningful expressions, such as: 'buyer such', 'avec des' (french), 'around picture', etc.."
   ]
  },
  {
   "cell_type": "markdown",
   "metadata": {},
   "source": [
    "Next, we train a naive Bayes classifier to classify spam and ham messages"
   ]
  },
  {
   "cell_type": "code",
   "execution_count": 82,
   "metadata": {},
   "outputs": [],
   "source": [
    "# train naive Bayes classifier with unigrams and ngrams as features\n",
    "nb = MultinomialNB()\n",
    "cv = CountVectorizer(ngram_range=(1, 2))\n",
    "counts = cv.fit_transform(data['text'].values)\n",
    "nb.fit(counts, data['class'].values) \n",
    "\n",
    "# get 20 top features\n",
    "probs = nb.feature_log_prob_ # get log conditional probabibilities\n",
    "k = 20\n",
    "features_names1 = cv.get_feature_names()\n",
    "features_names2 = cv.get_feature_names()\n",
    "class1_probs = probs[0] # log probabilities of the first class\n",
    "sorted_probs1 = sorted(zip(class1_probs, features_names1))\n",
    "top1 = sorted_probs1[:-(k + 1):-1] # 20 most important features and their probabilities of the first class\n",
    "class2_probs = probs[1] # log probabilities of the second class\n",
    "sorted_probs2 = sorted(zip(class2_probs, features_names2))\n",
    "top2 = sorted_probs2[:-(k + 1):-1] # 20 most important features and their probabilities of the first class"
   ]
  },
  {
   "cell_type": "code",
   "execution_count": 86,
   "metadata": {},
   "outputs": [
    {
     "name": "stdout",
     "output_type": "stream",
     "text": [
      "\tham:\t\t\tspam:\t\n",
      "\t-4.2286\tthe\t\t-4.2632\tfont\n",
      "\t-4.6092\tto\t\t-4.2940\t3d\n",
      "\t-5.0172\tand\t\t-4.4076\tbr\n",
      "\t-5.0764\tof\t\t-4.6910\ttd\n",
      "\t-5.3307\tin\t\t-4.9620\tnbsp\n",
      "\t-5.5690\tcom\t\t-5.0642\tthe\n",
      "\t-5.5769\tfor\t\t-5.2305\tsize\n",
      "\t-5.5848\tenron\t\t-5.2819\ttr\n",
      "\t-5.7376\tis\t\t-5.2999\tto\n",
      "\t-5.7526\ton\t\t-5.3275\t20\n",
      "\t-5.7700\thttp\t\t-5.3884\thttp\n",
      "\t-5.8141\tthat\t\t-5.3924\tand\n",
      "\t-5.9024\tyou\t\t-5.5075\tnbsp nbsp\n",
      "\t-5.9972\ttd\t\t-5.5114\twidth\n",
      "\t-6.0622\tthis\t\t-5.5179\tof\n",
      "\t-6.1127\tit\t\t-5.5466\tbr br\n",
      "\t-6.1510\twith\t\t-5.6205\tface\n",
      "\t-6.1732\tbe\t\t-5.7000\tborder\n",
      "\t-6.1842\tect\t\t-5.7171\tstyle\n",
      "\t-6.2129\t20\t\t-5.7663\tspan\n"
     ]
    }
   ],
   "source": [
    "# print\n",
    "top = zip(top1,top2)\n",
    "print(\"\\t%s\\t%s\\t\\t%s\\t%s\" %('ham:','','spam:',''))\n",
    "for (prob1, feature1), (prob2, feature2) in top:\n",
    "        print (\"\\t%.4f\\t%s\\t\\t%.4f\\t%s\" % (prob1, feature1, prob2, feature2))"
   ]
  },
  {
   "cell_type": "markdown",
   "metadata": {},
   "source": [
    "After training the NB model, we show the top 20 features per class with the highest log-probability. For example, given that the message is 'ham', the most probable feature is the word 'the'. The most probable features given that the message is 'ham' are connectors such as 'to', 'of', 'for', etc.. On the other hand, the most probable features given that the message is 'spam' are html words, such as 'font', 'br', 'nbsp', etc.."
   ]
  },
  {
   "cell_type": "markdown",
   "metadata": {},
   "source": [
    "When adding the message length as a feature, it must be normalized. The reason is that the model perform better in the training stage when all features have the same mean and variance. In the case of the email message representation, counts of words would be small numbers, while the length could be significantly larger. We would expect Logistic regression to perform better, if adding the length of the message as a feature, since the naive Bayes assumption does not hold anymore. There is a strong dependency between the length of the message, and the unigrams and bigrams appear in it."
   ]
  },
  {
   "cell_type": "code",
   "execution_count": 104,
   "metadata": {},
   "outputs": [],
   "source": [
    "from sklearn.preprocessing import FunctionTransformer\n",
    "from sklearn.pipeline import Pipeline\n",
    "from sklearn.linear_model import LogisticRegression\n",
    "from sklearn.pipeline import FeatureUnion\n",
    "from sklearn.base import TransformerMixin\n",
    "\n",
    "# first we define a length transfomer\n",
    "class LengthTransformer(TransformerMixin):\n",
    "    def __init__(self):\n",
    "        pass\n",
    "    \n",
    "    def fit(self, X, y=None):\n",
    "        return self\n",
    "    \n",
    "    def transform(self, X):\n",
    "        return DataFrame(len(item) for item in X)"
   ]
  },
  {
   "cell_type": "markdown",
   "metadata": {},
   "source": [
    "First, we define length transformer, so we would be able to use FeatureUnion."
   ]
  },
  {
   "cell_type": "code",
   "execution_count": 107,
   "metadata": {},
   "outputs": [],
   "source": [
    "def build_pipeline():\n",
    "    pipeline = Pipeline([\n",
    "  ('features', FeatureUnion([\n",
    "    ('ngram', Pipeline([\n",
    "      ('counts', CountVectorizer(ngram_range=(1, 2))),\n",
    "     ])),\n",
    "    ('length', LengthTransformer())\n",
    "   ])),\n",
    "  ('classifier', MultinomialNB())\n",
    "])\n",
    "    return pipeline\n",
    "\n",
    "def train(data = None, n_folds = 6):\n",
    "    if data is None:\n",
    "        print(\"Loading data...\")\n",
    "        data = load_data()\n",
    "        print(\"Data loaded\")\n",
    "    k_fold = KFold(n_splits = n_folds)\n",
    "    pipeline = build_pipeline()\n",
    "    scores = []\n",
    "    confusion = numpy.array([[0, 0], [0, 0]])\n",
    "    print(\"Training with %d folds\" % n_folds)\n",
    "    for i, (train_indices, test_indices) in enumerate(k_fold.split(data)):\n",
    "        train_text = data.iloc[train_indices]['text'].values\n",
    "        train_y = data.iloc[train_indices]['class'].values.astype(str)\n",
    "\n",
    "        test_text = data.iloc[test_indices]['text'].values\n",
    "        test_y = data.iloc[test_indices]['class'].values.astype(str)\n",
    "\n",
    "        print(\"Training for fold %d\" % i)\n",
    "        pipeline.fit(train_text, train_y)\n",
    "        print(\"Testing for fold %d\" % i)\n",
    "        predictions = pipeline.predict(test_text)\n",
    "\n",
    "        confusion += confusion_matrix(test_y, predictions)\n",
    "        score = f1_score(test_y, predictions, pos_label=SPAM)\n",
    "        scores.append(score)\n",
    "        print(\"Score for %d: %2.2f\" % (i, score))\n",
    "        print(\"Confusion matrix for %d: \" % i)\n",
    "        print(confusion)\n",
    "\n",
    "    print('Total emails classified:', len(data))\n",
    "    print('Score:', sum(scores)/len(scores))\n",
    "    print('Confusion matrix:')\n",
    "    print(confusion)\n",
    "    return pipeline"
   ]
  },
  {
   "cell_type": "markdown",
   "metadata": {},
   "source": [
    "Next, we train a naive Bayes model with the new length feature, and test it in kfold approach."
   ]
  },
  {
   "cell_type": "code",
   "execution_count": 108,
   "metadata": {},
   "outputs": [
    {
     "name": "stdout",
     "output_type": "stream",
     "text": [
      "Training with 6 folds\n",
      "Training for fold 0\n",
      "Testing for fold 0\n",
      "Score for 0: 0.98\n",
      "Confusion matrix for 0: \n",
      "[[3814   26]\n",
      " [ 214 5765]]\n",
      "Training for fold 1\n",
      "Testing for fold 1\n",
      "Score for 1: 0.98\n",
      "Confusion matrix for 1: \n",
      "[[ 7698    44]\n",
      " [  433 11463]]\n",
      "Training for fold 2\n",
      "Testing for fold 2\n",
      "Score for 2: 0.98\n",
      "Confusion matrix for 2: \n",
      "[[11612    64]\n",
      " [  631 17149]]\n",
      "Training for fold 3\n",
      "Testing for fold 3\n",
      "Score for 3: 0.98\n",
      "Confusion matrix for 3: \n",
      "[[15546    82]\n",
      " [  825 22821]]\n",
      "Training for fold 4\n",
      "Testing for fold 4\n",
      "Score for 4: 0.98\n",
      "Confusion matrix for 4: \n",
      "[[19491   100]\n",
      " [ 1055 28446]]\n",
      "Training for fold 5\n",
      "Testing for fold 5\n",
      "Score for 5: 0.98\n",
      "Confusion matrix for 5: \n",
      "[[23427   112]\n",
      " [ 1222 34149]]\n",
      "Total emails classified: 58910\n",
      "Score: 0.9808435583149474\n",
      "Confusion matrix:\n",
      "[[23427   112]\n",
      " [ 1222 34149]]\n"
     ]
    }
   ],
   "source": [
    "pipeline_nb = train(data)"
   ]
  },
  {
   "cell_type": "markdown",
   "metadata": {},
   "source": [
    "The score for the naive Bayes classifier with the length as feature is 0.9808. "
   ]
  },
  {
   "cell_type": "code",
   "execution_count": 112,
   "metadata": {},
   "outputs": [],
   "source": [
    "def build_pipeline2():\n",
    "    pipeline = Pipeline([\n",
    "        ('count_vectorizer',   CountVectorizer(ngram_range=(1, 2))),\n",
    "        ('classifier',         MultinomialNB())\n",
    "    ])\n",
    "    return pipeline\n",
    "\n",
    "def train2(data = None, n_folds = 4):\n",
    "    if data is None:\n",
    "        print(\"Loading data...\")\n",
    "        data = load_data()\n",
    "        print(\"Data loaded\")\n",
    "    k_fold = KFold(n_splits = n_folds)\n",
    "    pipeline = build_pipeline2()\n",
    "    scores = []\n",
    "    confusion = numpy.array([[0, 0], [0, 0]])\n",
    "    print(\"Training with %d folds\" % n_folds)\n",
    "    for i, (train_indices, test_indices) in enumerate(k_fold.split(data)):\n",
    "        train_text = data.iloc[train_indices]['text'].values\n",
    "        train_y = data.iloc[train_indices]['class'].values.astype(str)\n",
    "        test_text = data.iloc[test_indices]['text'].values\n",
    "        test_y = data.iloc[test_indices]['class'].values.astype(str)\n",
    "        \n",
    "        print(\"Training for fold %d\" % i)\n",
    "        pipeline.fit(train_text, train_y)\n",
    "        print(\"Testing for fold %d\" % i)\n",
    "        predictions = pipeline.predict(test_text)\n",
    "        \n",
    "        confusion += confusion_matrix(test_y, predictions)\n",
    "        score = f1_score(test_y, predictions, pos_label=SPAM)\n",
    "        scores.append(score)\n",
    "        \n",
    "        print(\"Score for %d: %2.2f\" % (i, score))\n",
    "        print(\"Confusion matrix for %d: \" % i)\n",
    "        print(confusion)\n",
    "\n",
    "    print('Total emails classified:', len(data))\n",
    "    print('Score:', sum(scores)/len(scores))\n",
    "    print('Confusion matrix:')\n",
    "    print(confusion)\n",
    "    return pipeline\n",
    "    confusion = confusion_matrix(test_y, predictions)\n",
    "    score = f1_score(test_y, predictions, pos_label=SPAM)\n",
    "    print(\"Score for %d: %2.2f\" % (i, score))\n",
    "    print(\"Confusion matrix for %d: \" % i)\n",
    "    print(confusion)\n",
    "    print('Total emails classified:', len(test_text))\n",
    "    return pipeline"
   ]
  },
  {
   "cell_type": "markdown",
   "metadata": {},
   "source": [
    "Last, we test the model without the length feature."
   ]
  },
  {
   "cell_type": "code",
   "execution_count": 113,
   "metadata": {},
   "outputs": [
    {
     "name": "stdout",
     "output_type": "stream",
     "text": [
      "Training with 4 folds\n",
      "Training for fold 0\n",
      "Testing for fold 0\n",
      "Score for 0: 0.98\n",
      "Confusion matrix for 0: \n",
      "[[5734   27]\n",
      " [ 388 8579]]\n",
      "Training for fold 1\n",
      "Testing for fold 1\n",
      "Score for 1: 0.98\n",
      "Confusion matrix for 1: \n",
      "[[11633    43]\n",
      " [  757 17023]]\n",
      "Training for fold 2\n",
      "Testing for fold 2\n",
      "Score for 2: 0.98\n",
      "Confusion matrix for 2: \n",
      "[[17549    64]\n",
      " [ 1124 25446]]\n",
      "Training for fold 3\n",
      "Testing for fold 3\n",
      "Score for 3: 0.98\n",
      "Confusion matrix for 3: \n",
      "[[23456    83]\n",
      " [ 1464 33907]]\n",
      "Total emails classified: 58910\n",
      "Score: 0.9777018018663246\n",
      "Confusion matrix:\n",
      "[[23456    83]\n",
      " [ 1464 33907]]\n"
     ]
    }
   ],
   "source": [
    "nb2_pipeline = train2(data)"
   ]
  },
  {
   "cell_type": "markdown",
   "metadata": {},
   "source": [
    "The score withouth the length feature is 0.9561, meaning the length feature did improve the prediction of the model."
   ]
  }
 ],
 "metadata": {
  "kernelspec": {
   "display_name": "Python 3",
   "language": "python",
   "name": "python3"
  },
  "language_info": {
   "codemirror_mode": {
    "name": "ipython",
    "version": 3
   },
   "file_extension": ".py",
   "mimetype": "text/x-python",
   "name": "python",
   "nbconvert_exporter": "python",
   "pygments_lexer": "ipython3",
   "version": "3.7.0"
  }
 },
 "nbformat": 4,
 "nbformat_minor": 2
}
