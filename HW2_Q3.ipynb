{
 "cells": [
  {
   "cell_type": "markdown",
   "metadata": {},
   "source": [
    "# Q3. Named Entity Recognition"
   ]
  },
  {
   "cell_type": "markdown",
   "metadata": {},
   "source": [
    "## Q3.1 Features"
   ]
  },
  {
   "cell_type": "markdown",
   "metadata": {},
   "source": [
    "We'll first import the libreries needed, and get the data."
   ]
  },
  {
   "cell_type": "code",
   "execution_count": 36,
   "metadata": {
    "collapsed": true
   },
   "outputs": [],
   "source": [
    "%matplotlib inline\n",
    "\n",
    "from itertools import chain\n",
    "import nltk\n",
    "from sklearn.metrics import classification_report, confusion_matrix\n",
    "from sklearn.preprocessing import LabelBinarizer\n",
    "from sklearn.linear_model import LogisticRegression\n",
    "from sklearn.feature_extraction import DictVectorizer\n",
    "from sklearn.metrics import accuracy_score\n",
    "import numpy as np\n",
    "from sklearn.metrics import mean_squared_error\n",
    "from sklearn.preprocessing import LabelEncoder\n",
    "from sklearn.preprocessing import OneHotEncoder\n",
    "import hashlib\n",
    "from sklearn.linear_model import SGDClassifier\n",
    "from sklearn.metrics import classification_report, confusion_matrix\n",
    "import pandas as pd\n",
    "import seaborn as sns\n",
    "import matplotlib.pyplot as plt\n",
    "from sklearn.metrics import confusion_matrix\n",
    "from sklearn.model_selection import train_test_split"
   ]
  },
  {
   "cell_type": "code",
   "execution_count": 2,
   "metadata": {},
   "outputs": [],
   "source": [
    "train_sents = list(nltk.corpus.conll2002.iob_sents('esp.train'))\n",
    "test_sents = list(nltk.corpus.conll2002.iob_sents('esp.testb'))"
   ]
  },
  {
   "cell_type": "markdown",
   "metadata": {},
   "source": [
    "### Feature extraction"
   ]
  },
  {
   "cell_type": "markdown",
   "metadata": {},
   "source": [
    "Here are our methods for extracting the word-features and lables from the senteses. "
   ]
  },
  {
   "cell_type": "code",
   "execution_count": 3,
   "metadata": {
    "collapsed": true
   },
   "outputs": [],
   "source": [
    "\n",
    "def word2featuresWithPadding(sent, i):\n",
    "    word = sent[i][0]\n",
    "    postag = sent[i][1]\n",
    "    features = [\n",
    "        #'bias',\n",
    "        'word.lower^' + word.lower(),\n",
    "        'word[-3:]^' + word[-3:],\n",
    "        'word[-2:]^' + word[-2:],\n",
    "        'word.isupper^%s' % word.isupper(),\n",
    "        'word.istitle^%s' % word.istitle(),\n",
    "        'word.isdigit^%s' % word.isdigit(),\n",
    "        'postag^' + postag,\n",
    "        'postag[:2]^' + postag[:2],\n",
    "    ]\n",
    "    word1 = None\n",
    "    postag1 = None\n",
    "    if i > 0:\n",
    "        word1 = sent[i-1][0]\n",
    "        postag1 = sent[i-1][1]\n",
    "    else: # padding\n",
    "        word1 = '&&'\n",
    "        postag1 = 'BOS'\n",
    "    features.extend([\n",
    "        '-1:word.lower^' + word1.lower(),\n",
    "        '-1:word.istitle^%s' % word1.istitle(),\n",
    "        '-1:word.isupper^%s' % word1.isupper(),\n",
    "        '-1:postag^' + postag1,\n",
    "        '-1:postag[:2]^' + postag1[:2],\n",
    "    ])\n",
    "    if i < len(sent)-1:\n",
    "        word1 = sent[i+1][0]\n",
    "        postag1 = sent[i+1][1]\n",
    "    else: # padding\n",
    "        word1 = '@@'\n",
    "        postag1 = 'EOS'\n",
    "    features.extend([\n",
    "        '+1:word.lower^' + word1.lower(),\n",
    "        '+1:word.istitle^%s' % word1.istitle(),\n",
    "        '+1:word.isupper^%s' % word1.isupper(),\n",
    "        '+1:postag^' + postag1,\n",
    "        '+1:postag[:2]^' + postag1[:2],\n",
    "    ])\n",
    "    return features\n",
    "\n",
    "\n",
    "def sent2featuresWithPadding(sent):\n",
    "    return [word2featuresWithPadding(sent, i) for i in range(len(sent))]\n",
    "\n",
    "def sent2labelsWithPadding(sent):\n",
    "    return [label for token, postag, label in sent]\n",
    "\n",
    "def sent2tokensWithPadding(sent):\n",
    "    return [token for token, postag, label in sent]    \n"
   ]
  },
  {
   "cell_type": "markdown",
   "metadata": {},
   "source": [
    "Get the features and the labels."
   ]
  },
  {
   "cell_type": "code",
   "execution_count": 45,
   "metadata": {
    "collapsed": true
   },
   "outputs": [],
   "source": [
    "X_train = [sent2featuresWithPadding(s) for s in train_sents]\n",
    "y_train = [sent2labelsWithPadding(s) for s in train_sents]\n",
    "\n",
    "X_test = [sent2featuresWithPadding(s) for s in test_sents]\n",
    "y_test = [sent2labelsWithPadding(s) for s in test_sents]"
   ]
  },
  {
   "cell_type": "markdown",
   "metadata": {},
   "source": [
    "Create a dictionary of the features for each word.<br>"
   ]
  },
  {
   "cell_type": "code",
   "execution_count": 5,
   "metadata": {
    "collapsed": true
   },
   "outputs": [],
   "source": [
    "final_x_train = []\n",
    "final_y_train = []\n",
    "for sentence_ind in range(int(len(X_train))):\n",
    "    #print(sentence_ind)\n",
    "    for word_ind in range(len(X_train[sentence_ind])):\n",
    "        featuresToDict = dict(item.split(\"^\") for item in X_train[sentence_ind][word_ind])\n",
    "        final_x_train.append(featuresToDict)\n",
    "        final_y_train.append(str(y_train[sentence_ind][word_ind]))"
   ]
  },
  {
   "cell_type": "code",
   "execution_count": 6,
   "metadata": {
    "collapsed": true
   },
   "outputs": [],
   "source": [
    "final_x_test = []\n",
    "final_y_test = []\n",
    "for sentence_ind in range(len(X_test)):\n",
    "    #print(sentence_ind)\n",
    "    for word_ind in range(len(X_test[sentence_ind])):\n",
    "        featuresToDict = dict(item.split(\"^\") for item in X_test[sentence_ind][word_ind])\n",
    "        final_x_test.append(featuresToDict)\n",
    "        final_y_test.append(str(y_test[sentence_ind][word_ind]))"
   ]
  },
  {
   "cell_type": "code",
   "execution_count": 7,
   "metadata": {
    "collapsed": true
   },
   "outputs": [],
   "source": [
    "y_train_encoded = final_y_train\n",
    "y_test_encoded = final_y_test"
   ]
  },
  {
   "cell_type": "code",
   "execution_count": 8,
   "metadata": {},
   "outputs": [
    {
     "name": "stdout",
     "output_type": "stream",
     "text": [
      "The different lables found in the training dataset are:\n",
      "['B-LOC', 'B-MISC', 'B-ORG', 'B-PER', 'I-LOC', 'I-MISC', 'I-ORG', 'I-PER', 'O']\n"
     ]
    }
   ],
   "source": [
    "classes = np.unique(final_y_train)\n",
    "classes = classes.tolist()\n",
    "print(\"The different lables found in the training dataset are:\\n{}\".format(classes))"
   ]
  },
  {
   "cell_type": "code",
   "execution_count": 46,
   "metadata": {
    "collapsed": true
   },
   "outputs": [],
   "source": [
    "from sklearn import preprocessing\n",
    "lb = preprocessing.LabelBinarizer()\n",
    "lb = lb.fit(classes)"
   ]
  },
  {
   "cell_type": "markdown",
   "metadata": {},
   "source": [
    "Transform the feature dictionaries into vectorized representations."
   ]
  },
  {
   "cell_type": "code",
   "execution_count": 9,
   "metadata": {
    "collapsed": true
   },
   "outputs": [],
   "source": [
    "vectorizer = DictVectorizer()"
   ]
  },
  {
   "cell_type": "code",
   "execution_count": 10,
   "metadata": {
    "collapsed": true
   },
   "outputs": [],
   "source": [
    "X_encoded = vectorizer.fit_transform(final_x_train+final_x_test)\n",
    "X_train_encoded = X_encoded[:len(final_x_train),:]\n",
    "X_test_encoded = X_encoded[len(final_x_train):,:]"
   ]
  },
  {
   "cell_type": "markdown",
   "metadata": {},
   "source": [
    "### Training"
   ]
  },
  {
   "cell_type": "markdown",
   "metadata": {},
   "source": [
    "We'll train using the logistic regression classifier.<br>\n",
    "First we'll try to learn the best value for the C parameter in the LogisticRegression function. (The default value is 1. It is log based so must be positive. Lower values = higher regularization = less overfitting)."
   ]
  },
  {
   "cell_type": "code",
   "execution_count": 49,
   "metadata": {},
   "outputs": [],
   "source": [
    "regs = {}\n",
    "xtrain, xval, ytrain, yval = train_test_split(X_train_encoded, y_train_encoded, test_size=0.2)\n",
    "for reg in [0.5, 1., 2.]:\n",
    "    classifier = LogisticRegression(multi_class='ovr', penalty='l2', C=reg, random_state=0)\n",
    "    logistic_clsf = classifier.fit(xtrain,ytrain) \n",
    "    yval_pred = logistic_clsf.predict(xval)\n",
    "    yv_pred = lb.transform(yval_pred)\n",
    "    yv_real = lb.transform(yval)\n",
    "    val_loss = mean_squared_error(yv_real, yv_pred)\n",
    "    val_acc = accuracy_score(yv_real, yv_pred)\n",
    "    regs[reg] = [val_loss, val_acc]"
   ]
  },
  {
   "cell_type": "code",
   "execution_count": 50,
   "metadata": {},
   "outputs": [
    {
     "name": "stdout",
     "output_type": "stream",
     "text": [
      "{0.5: [0.008827103362736025, 0.9602780348676879], 1.0: [0.00818070587445198, 0.9631868235649661], 2.0: [0.007828125426297045, 0.9647734355816633]}\n"
     ]
    }
   ],
   "source": [
    "print(regs)"
   ]
  },
  {
   "cell_type": "markdown",
   "metadata": {},
   "source": [
    "So we see that the lowest loss and highest accuracy are achieved for the C=2. \n",
    "Of course we could have continued investigating other values, but due to hardware limititaions, we will stop here."
   ]
  },
  {
   "cell_type": "code",
   "execution_count": 52,
   "metadata": {},
   "outputs": [],
   "source": [
    "classifier = LogisticRegression(multi_class='ovr', penalty='l2', C=2., random_state=0)\n",
    "logistic_clsf = classifier.fit(X_train_encoded,y_train_encoded) "
   ]
  },
  {
   "cell_type": "markdown",
   "metadata": {},
   "source": [
    "### Model evaluation"
   ]
  },
  {
   "cell_type": "markdown",
   "metadata": {},
   "source": [
    "First we'll show how our model performs on the training set (which should of course give excellent results).<br>\n",
    "Then we'll show how it performs on the test set. "
   ]
  },
  {
   "cell_type": "code",
   "execution_count": 53,
   "metadata": {
    "collapsed": true
   },
   "outputs": [],
   "source": [
    "y_pred = logistic_clsf.predict(X_train_encoded)"
   ]
  },
  {
   "cell_type": "code",
   "execution_count": 55,
   "metadata": {
    "collapsed": true
   },
   "outputs": [],
   "source": [
    "yt_real = lb.transform(y_train_encoded)\n",
    "yt_pred = lb.transform(y_pred)"
   ]
  },
  {
   "cell_type": "markdown",
   "metadata": {},
   "source": [
    "The training loss is:"
   ]
  },
  {
   "cell_type": "code",
   "execution_count": 56,
   "metadata": {},
   "outputs": [
    {
     "name": "stdout",
     "output_type": "stream",
     "text": [
      "0.003952258928365307\n"
     ]
    }
   ],
   "source": [
    "print(mean_squared_error(yt_real, yt_pred))"
   ]
  },
  {
   "cell_type": "markdown",
   "metadata": {},
   "source": [
    "#### Test evaluation"
   ]
  },
  {
   "cell_type": "code",
   "execution_count": 57,
   "metadata": {
    "collapsed": true
   },
   "outputs": [],
   "source": [
    "y_test_pred = logistic_clsf.predict(X_test_encoded)"
   ]
  },
  {
   "cell_type": "code",
   "execution_count": 58,
   "metadata": {},
   "outputs": [
    {
     "name": "stdout",
     "output_type": "stream",
     "text": [
      "the test error is: 0.008516657071951738\n",
      "the test accuracy is: 0.9616750431762172\n"
     ]
    }
   ],
   "source": [
    "yt_real = lb.transform(y_test_encoded)\n",
    "yt_pred = lb.transform(y_test_pred)\n",
    "print(\"the test error is: {}\".format(mean_squared_error(yt_real, yt_pred)))\n",
    "print(\"the test accuracy is: {}\".format(accuracy_score(yt_real, yt_pred)))"
   ]
  },
  {
   "cell_type": "markdown",
   "metadata": {},
   "source": [
    "So our model achieves 96.06% on the test data. Not bad. Or is it?<br>\n",
    "To really get a feal about the strenth of our model, let's compare it with a base model which gives every word the label 'O'. What is the percentage of O occurances?"
   ]
  },
  {
   "cell_type": "code",
   "execution_count": 59,
   "metadata": {},
   "outputs": [
    {
     "data": {
      "text/plain": [
       "[('B-LOC', 2.103506490986358),\n",
       " ('I-LOC', 0.6306638464673122),\n",
       " ('O', 88.01156540469213),\n",
       " ('B-ORG', 2.716705800166883),\n",
       " ('B-MISC', 0.657830904468981),\n",
       " ('B-PER', 1.4262705450876136),\n",
       " ('I-PER', 1.2302796266470029),\n",
       " ('I-ORG', 2.142316573845885),\n",
       " ('I-MISC', 1.0808608076378243)]"
      ]
     },
     "execution_count": 59,
     "metadata": {},
     "output_type": "execute_result"
    }
   ],
   "source": [
    "from collections import Counter\n",
    "c = Counter(y_test_encoded)\n",
    "[(i, c[i] / len(y_test_encoded) * 100.0) for i in c]"
   ]
  },
  {
   "cell_type": "markdown",
   "metadata": {},
   "source": [
    "So we see that a model which tags every word as 'O' will obtain 88% accuracy. Not to mention this will of course produce a bad f-score. So we can conclude that our model is quite good. <br>\n",
    "How about the model's f-score?"
   ]
  },
  {
   "cell_type": "code",
   "execution_count": 60,
   "metadata": {
    "collapsed": true
   },
   "outputs": [],
   "source": [
    "tagset = set(lb.classes_) - {'O'}\n",
    "tagset = sorted(tagset, key=lambda tag: tag.split('-', 1)[::-1])\n",
    "class_indices = {cls: idx for idx, cls in enumerate(lb.classes_)}"
   ]
  },
  {
   "cell_type": "code",
   "execution_count": 61,
   "metadata": {},
   "outputs": [
    {
     "name": "stdout",
     "output_type": "stream",
     "text": [
      "             precision    recall  f1-score   support\n",
      "\n",
      "      B-LOC       0.73      0.74      0.74      1084\n",
      "      I-LOC       0.75      0.45      0.57       325\n",
      "     B-MISC       0.56      0.45      0.50       339\n",
      "     I-MISC       0.63      0.31      0.42       557\n",
      "      B-ORG       0.78      0.82      0.80      1400\n",
      "      I-ORG       0.72      0.59      0.65      1104\n",
      "      B-PER       0.80      0.90      0.84       735\n",
      "      I-PER       0.84      0.91      0.87       634\n",
      "\n",
      "avg / total       0.74      0.70      0.71      6178\n",
      "\n"
     ]
    }
   ],
   "source": [
    "print(classification_report(\n",
    "        y_true = yt_real,\n",
    "        y_pred = yt_pred,\n",
    "        labels = [class_indices[cls] for cls in tagset],\n",
    "        target_names = tagset,\n",
    "    ))"
   ]
  },
  {
   "cell_type": "code",
   "execution_count": 62,
   "metadata": {
    "collapsed": true
   },
   "outputs": [],
   "source": [
    "def plot_confusion_matrix(cm,\n",
    "                          target_names,\n",
    "                          title='Confusion matrix',\n",
    "                          cmap=None,\n",
    "                          normalize=True):\n",
    "    \n",
    "    import matplotlib.pyplot as plt\n",
    "    import numpy as np\n",
    "    import itertools\n",
    "\n",
    "    accuracy = np.trace(cm) / float(np.sum(cm))\n",
    "    misclass = 1 - accuracy\n",
    "\n",
    "    if cmap is None:\n",
    "        cmap = plt.get_cmap('Blues')\n",
    "\n",
    "    plt.figure(figsize=(8, 6))\n",
    "    plt.imshow(cm, interpolation='nearest', cmap=cmap)\n",
    "    plt.title(title)\n",
    "    plt.colorbar()\n",
    "\n",
    "    if target_names is not None:\n",
    "        tick_marks = np.arange(len(target_names))\n",
    "        plt.xticks(tick_marks, target_names, rotation=45)\n",
    "        plt.yticks(tick_marks, target_names)\n",
    "\n",
    "    if normalize:\n",
    "        cm = cm.astype('float') / cm.sum(axis=1)[:, np.newaxis]\n",
    "\n",
    "\n",
    "    thresh = cm.max() / 1.5 if normalize else cm.max() / 2\n",
    "    for i, j in itertools.product(range(cm.shape[0]), range(cm.shape[1])):\n",
    "        if normalize:\n",
    "            plt.text(j, i, \"{:0.4f}\".format(cm[i, j]),\n",
    "                     horizontalalignment=\"center\",\n",
    "                     color=\"white\" if cm[i, j] > thresh else \"black\")\n",
    "        else:\n",
    "            plt.text(j, i, \"{:,}\".format(cm[i, j]),\n",
    "                     horizontalalignment=\"center\",\n",
    "                     color=\"white\" if cm[i, j] > thresh else \"black\")\n",
    "\n",
    "\n",
    "    plt.tight_layout()\n",
    "    plt.ylabel('True label')\n",
    "    plt.xlabel('Predicted label\\naccuracy={:0.4f}; misclass={:0.4f}'.format(accuracy, misclass))\n",
    "    plt.show()"
   ]
  },
  {
   "cell_type": "markdown",
   "metadata": {},
   "source": [
    "Here is our confusion matrix:"
   ]
  },
  {
   "cell_type": "code",
   "execution_count": 63,
   "metadata": {},
   "outputs": [
    {
     "name": "stdout",
     "output_type": "stream",
     "text": [
      "[[  4486     11    204     23     19     14     47      5    104]\n",
      " [    37   1749     99     27      3     16     50      1    191]\n",
      " [   319     53   6836     18      2      6     44      0    112]\n",
      " [    28      3     12   4201      3      7     10      5     52]\n",
      " [    99     11     26     11   1415     21    124     23    161]\n",
      " [    97     52     69     10     20   1943    228     26    767]\n",
      " [   235     94    198      5    104     69   3909     26    352]\n",
      " [    28      6     18      9     11      9     19   3740     63]\n",
      " [    19     19     44      8      5     37     54      6 231728]]\n"
     ]
    }
   ],
   "source": [
    "labels = classes\n",
    "cm = confusion_matrix(y_train_encoded, y_pred, labels)\n",
    "print(cm)"
   ]
  },
  {
   "cell_type": "code",
   "execution_count": 64,
   "metadata": {},
   "outputs": [
    {
     "data": {
      "image/png": "[encoded data removed]",
      "text/plain": [
       "<matplotlib.figure.Figure at 0x7fa46e788be0>"
      ]
     },
     "metadata": {},
     "output_type": "display_data"
    }
   ],
   "source": [
    "plot_confusion_matrix(cm=cm, normalize = False, target_names = labels, title = \"\")"
   ]
  },
  {
   "cell_type": "markdown",
   "metadata": {},
   "source": [
    "### Understanding the results"
   ]
  },
  {
   "cell_type": "markdown",
   "metadata": {},
   "source": [
    "Let's see what our model learned.\n",
    "We'll start by comparing the first 10 named entities test lables, with the predicted lables:"
   ]
  },
  {
   "cell_type": "code",
   "execution_count": 65,
   "metadata": {},
   "outputs": [
    {
     "name": "stdout",
     "output_type": "stream",
     "text": [
      "['B-LOC' 'I-LOC' 'O' 'O' 'O' 'O' 'B-ORG' 'O' 'O' 'O']\n",
      "['B-LOC', 'I-LOC', 'O', 'O', 'O', 'O', 'B-ORG', 'O', 'O', 'O']\n"
     ]
    }
   ],
   "source": [
    "print(y_test_pred[:10])\n",
    "print(y_test_encoded[:10])"
   ]
  },
  {
   "cell_type": "markdown",
   "metadata": {},
   "source": [
    "Tough this seems promissing, we did not check that the BIO tags produced by the tagger is a legal sequence. \n",
    "We will now identify sequences of BIO tags which are illegal and report on the frequency of this problem for each type of illegal tags transition (O-IX, IX-IY, BX-IY)."
   ]
  },
  {
   "cell_type": "code",
   "execution_count": 66,
   "metadata": {
    "collapsed": true
   },
   "outputs": [],
   "source": [
    "def add_to_dict(illigal_map, bio_first, bio_second):\n",
    "    name = bio_first+'->'+bio_second\n",
    "    if not name in illigal_map:\n",
    "        illigal_map[name] = 1\n",
    "    else:\n",
    "        illigal_map[name] += 1\n",
    "\n",
    "def checkIsValid(illigal_map, bio_first, bio_second):\n",
    "    sep1 = bio_first.split('-')\n",
    "    sep2 = bio_second.split('-')\n",
    "    bad1 = (sep1[0] == 'O' and sep2[0] == 'I')\n",
    "    bad2 = (sep1[0] == 'I' and sep2[0] == 'I' and sep1[1] != sep2[1])\n",
    "    bad3 = (sep1[0] == 'B' and sep2[0] == 'I' and sep1[1] != sep2[1])\n",
    "    if bad1 or bad2 or bad3:\n",
    "        add_to_dict(illigal_map, bio_first, bio_second)\n"
   ]
  },
  {
   "cell_type": "code",
   "execution_count": 67,
   "metadata": {
    "collapsed": true
   },
   "outputs": [],
   "source": [
    "illigal_trans = {}\n",
    "for ind in range(len(y_test_pred)-1):\n",
    "    checkIsValid(illigal_trans, y_test_pred[ind], y_test_pred[ind+1])"
   ]
  },
  {
   "cell_type": "markdown",
   "metadata": {},
   "source": [
    "The illigal sequences of BIO tags and there accurances:"
   ]
  },
  {
   "cell_type": "code",
   "execution_count": 68,
   "metadata": {},
   "outputs": [
    {
     "data": {
      "text/plain": [
       "[('O->I-ORG', 96),\n",
       " ('O->I-MISC', 49),\n",
       " ('I-MISC->I-ORG', 32),\n",
       " ('O->I-LOC', 25),\n",
       " ('B-PER->I-ORG', 25),\n",
       " ('I-ORG->I-MISC', 21),\n",
       " ('B-LOC->I-ORG', 21),\n",
       " ('B-MISC->I-ORG', 17),\n",
       " ('I-ORG->I-PER', 16),\n",
       " ('B-ORG->I-MISC', 15),\n",
       " ('I-LOC->I-ORG', 13),\n",
       " ('B-MISC->I-PER', 13),\n",
       " ('O->I-PER', 12),\n",
       " ('B-ORG->I-LOC', 12),\n",
       " ('B-LOC->I-MISC', 11),\n",
       " ('B-ORG->I-PER', 11),\n",
       " ('B-LOC->I-PER', 10),\n",
       " ('I-ORG->I-LOC', 10),\n",
       " ('I-MISC->I-LOC', 7),\n",
       " ('B-PER->I-MISC', 6),\n",
       " ('I-PER->I-ORG', 5),\n",
       " ('I-LOC->I-PER', 5),\n",
       " ('I-PER->I-MISC', 4),\n",
       " ('I-LOC->I-MISC', 3),\n",
       " ('I-MISC->I-PER', 3),\n",
       " ('B-PER->I-LOC', 1)]"
      ]
     },
     "execution_count": 68,
     "metadata": {},
     "output_type": "execute_result"
    }
   ],
   "source": [
    "import operator\n",
    "sorted(illigal_trans.items(), key=operator.itemgetter(1), reverse=True)"
   ]
  },
  {
   "cell_type": "code",
   "execution_count": 69,
   "metadata": {},
   "outputs": [
    {
     "name": "stdout",
     "output_type": "stream",
     "text": [
      "There are a total of 443 illigal transitions.\n"
     ]
    }
   ],
   "source": [
    "print(\"There are a total of {} illigal transitions.\".format(sum(illigal_trans.values())))"
   ]
  },
  {
   "cell_type": "markdown",
   "metadata": {},
   "source": [
    "Since the DictVectorizer basically transforms the input into one-hot encoded vectors, then we loose the relashonship between similar words and words which should appear one after another. Changing this by using a word2vec model, might help us gain better results. <br>\n",
    "Let's try this approach in the next section."
   ]
  },
  {
   "cell_type": "markdown",
   "metadata": {},
   "source": [
    "## Q3.2 Using Word Embeddings"
   ]
  },
  {
   "cell_type": "markdown",
   "metadata": {},
   "source": [
    "We'll try to improve our greedy tagger for NER by using Word Embeddings as features. "
   ]
  },
  {
   "cell_type": "markdown",
   "metadata": {},
   "source": [
    "We'll first load a fixed amount of vectors from a pretrained spanish word2vec model."
   ]
  },
  {
   "cell_type": "code",
   "execution_count": 113,
   "metadata": {},
   "outputs": [],
   "source": [
    "from gensim.models.keyedvectors import KeyedVectors\n",
    "wordvectors_file_vec = '../data/wiki.es.vec'\n",
    "amount = 100000\n",
    "wordvectors = KeyedVectors.load_word2vec_format(wordvectors_file_vec, limit = amount)"
   ]
  },
  {
   "cell_type": "markdown",
   "metadata": {},
   "source": [
    "Now we want to create a vectorized form of our features. We'll break this task into two parts.<br>\n",
    "First we'll create the vectors as we did above, using the dictVectorizer. Only this time witout using the words in the sentence.<br>\n",
    "This will reduce the amount of features in the vectorized dictionary drastically. <br>\n",
    "(Since the values are strings, dictVec turns each string into a separate feature.)<br>\n",
    "After we did that, we will use the word2vec model to transform the words in the sentences to dense vectors. For each word we'll use the previous and following words, along with the words themselves. This method will use padding."
   ]
  },
  {
   "cell_type": "code",
   "execution_count": 72,
   "metadata": {
    "collapsed": true
   },
   "outputs": [],
   "source": [
    "\n",
    "def word2featuresNoWords(sent, i):\n",
    "    word = sent[i][0]\n",
    "    postag = sent[i][1]\n",
    "    features = [\n",
    "        'word.isupper^%s' % word.isupper(),\n",
    "        'word.istitle^%s' % word.istitle(),\n",
    "        'word.isdigit^%s' % word.isdigit(),\n",
    "        'postag^' + postag,\n",
    "        'postag[:2]^' + postag[:2],\n",
    "    ]\n",
    "    word1 = None\n",
    "    postag1 = None\n",
    "    if i > 0:\n",
    "        word1 = sent[i-1][0]\n",
    "        postag1 = sent[i-1][1]\n",
    "    else: # padding\n",
    "        word1 = '&&'\n",
    "        postag1 = 'BOS'\n",
    "    features.extend([\n",
    "        '-1:word.istitle^%s' % word1.istitle(),\n",
    "        '-1:word.isupper^%s' % word1.isupper(),\n",
    "        '-1:postag^' + postag1,\n",
    "        '-1:postag[:2]^' + postag1[:2],\n",
    "    ])\n",
    "    if i < len(sent)-1:\n",
    "        word1 = sent[i+1][0]\n",
    "        postag1 = sent[i+1][1]\n",
    "    else: # padding\n",
    "        word1 = '@@'\n",
    "        postag1 = 'EOS'\n",
    "    features.extend([\n",
    "        '+1:word.istitle^%s' % word1.istitle(),\n",
    "        '+1:word.isupper^%s' % word1.isupper(),\n",
    "        '+1:postag^' + postag1,\n",
    "        '+1:postag[:2]^' + postag1[:2],\n",
    "    ])\n",
    "    return features\n",
    "\n",
    "\n",
    "def sent2featuresNoWords(sent):\n",
    "    return [word2featuresNoWords(sent, i) for i in range(len(sent))]  \n"
   ]
  },
  {
   "cell_type": "code",
   "execution_count": 73,
   "metadata": {
    "collapsed": true
   },
   "outputs": [],
   "source": [
    "X_train = [sent2featuresNoWords(s) for s in train_sents]\n",
    "X_test = [sent2featuresNoWords(s) for s in test_sents]"
   ]
  },
  {
   "cell_type": "code",
   "execution_count": 74,
   "metadata": {
    "collapsed": true
   },
   "outputs": [],
   "source": [
    "final_x_train = []\n",
    "for sentence_ind in range(int(len(X_train))):\n",
    "    for word_ind in range(len(X_train[sentence_ind])):\n",
    "        featuresToDict = dict(item.split(\"^\") for item in X_train[sentence_ind][word_ind])\n",
    "        final_x_train.append(featuresToDict)"
   ]
  },
  {
   "cell_type": "code",
   "execution_count": 75,
   "metadata": {
    "collapsed": true
   },
   "outputs": [],
   "source": [
    "final_x_test = []\n",
    "for sentence_ind in range(len(X_test)):\n",
    "    for word_ind in range(len(X_test[sentence_ind])):\n",
    "        featuresToDict = dict(item.split(\"^\") for item in X_test[sentence_ind][word_ind])\n",
    "        final_x_test.append(featuresToDict)"
   ]
  },
  {
   "cell_type": "code",
   "execution_count": 76,
   "metadata": {
    "collapsed": true
   },
   "outputs": [],
   "source": [
    "vectorizer2 = DictVectorizer()\n",
    "X_encoded = vectorizer2.fit_transform(final_x_train+final_x_test)\n",
    "X_train_encoded1 = X_encoded[:len(final_x_train),:]\n",
    "X_test_encoded1 = X_encoded[len(final_x_train):,:]"
   ]
  },
  {
   "cell_type": "markdown",
   "metadata": {},
   "source": [
    "Now we'll create vectorized features using the gensin and the pretrained Spanish word2vec model.\n",
    "Since we cant load all the vectorized words to our memory, we'll load a large amount of words (100K), and for words which do not have a vectorized representation we give a special key."
   ]
  },
  {
   "cell_type": "code",
   "execution_count": 77,
   "metadata": {
    "collapsed": true
   },
   "outputs": [],
   "source": [
    "def word2featuresNew(sent, i):\n",
    "    word = sent[i][0]\n",
    "    if word.isdigit():\n",
    "        word = 'N'\n",
    "    postag = sent[i][1]\n",
    "    features = [\n",
    "        'word^' + word.lower(),\n",
    "    ]\n",
    "    word1 = None\n",
    "    postag1 = None\n",
    "    if i > 0:\n",
    "        word1 = sent[i-1][0]\n",
    "        if word1.isdigit():\n",
    "            word1 = 'N'\n",
    "        postag1 = sent[i-1][1]\n",
    "    else: # padding\n",
    "        word1 = 'BOS'\n",
    "    features.extend([\n",
    "        '-1:word^' + word1.lower(),\n",
    "    ])\n",
    "    if i < len(sent)-1:\n",
    "        word1 = sent[i+1][0]\n",
    "        if word1.isdigit():\n",
    "            word1 = 'N'\n",
    "        postag1 = sent[i+1][1]\n",
    "    else: # padding\n",
    "        word1 = 'EOS'\n",
    "    features.extend([\n",
    "        '+1:word^' + word1.lower(),\n",
    "    ])\n",
    "    return features\n",
    "\n",
    "\n",
    "def sent2featuresNew(sent):\n",
    "    return [word2featuresNew(sent, i) for i in range(len(sent))]  \n"
   ]
  },
  {
   "cell_type": "code",
   "execution_count": 78,
   "metadata": {
    "collapsed": true
   },
   "outputs": [],
   "source": [
    "# we already have the lables, so only need the new features\n",
    "X_train2 = [sent2featuresNew(s) for s in train_sents]\n",
    "X_test2 = [sent2featuresNew(s) for s in test_sents]"
   ]
  },
  {
   "cell_type": "code",
   "execution_count": 84,
   "metadata": {
    "collapsed": true
   },
   "outputs": [],
   "source": [
    "def get_vectorized_features(featureDict):\n",
    "    word_vectorized_features = []\n",
    "    for feature in featureDict.values():\n",
    "        if feature not in wordvectors:\n",
    "            feature = 'oops'\n",
    "        vectorized = list(wordvectors.word_vec(feature))\n",
    "        word_vectorized_features += vectorized\n",
    "    return word_vectorized_features"
   ]
  },
  {
   "cell_type": "code",
   "execution_count": 85,
   "metadata": {},
   "outputs": [],
   "source": [
    "X_train_encoded2 = []\n",
    "for sentence_ind in range(int(len(X_train2))):\n",
    "    for word_ind in range(len(X_train2[sentence_ind])):\n",
    "        featuresToDict = dict(item.split(\"^\") for item in X_train2[sentence_ind][word_ind])\n",
    "        word_vectorized_features = get_vectorized_features(featuresToDict)\n",
    "        X_train_encoded2.append(word_vectorized_features)"
   ]
  },
  {
   "cell_type": "code",
   "execution_count": 86,
   "metadata": {
    "collapsed": true
   },
   "outputs": [],
   "source": [
    "X_test_encoded2 = []\n",
    "for sentence_ind in range(len(X_test2)):\n",
    "    for word_ind in range(len(X_test2[sentence_ind])):\n",
    "        featuresToDict = dict(item.split(\"^\") for item in X_test2[sentence_ind][word_ind])\n",
    "        word_vectorized_features = get_vectorized_features(featuresToDict)\n",
    "        X_test_encoded2.append(word_vectorized_features)"
   ]
  },
  {
   "cell_type": "code",
   "execution_count": 87,
   "metadata": {
    "collapsed": true
   },
   "outputs": [],
   "source": [
    "X_train_encoded = np.concatenate([X_train_encoded1.toarray(), X_train_encoded2], axis=1)\n",
    "X_test_encoded = np.concatenate([X_test_encoded1.toarray(), X_test_encoded2], axis=1)"
   ]
  },
  {
   "cell_type": "code",
   "execution_count": 99,
   "metadata": {
    "collapsed": true
   },
   "outputs": [],
   "source": [
    "regs = {}\n",
    "xtrain, xval, ytrain, yval = train_test_split(X_train_encoded, y_train_encoded, test_size=0.2)\n",
    "for reg in [0.5, 1., 2.]:\n",
    "    classifier = LogisticRegression(multi_class='ovr', penalty='l2', C=reg, random_state=0)\n",
    "    logistic_clsf = classifier.fit(xtrain,ytrain) \n",
    "    yval_pred = logistic_clsf.predict(xval)\n",
    "    yv_pred = lb.transform(yval_pred)\n",
    "    yv_real = lb.transform(yval)\n",
    "    val_loss = mean_squared_error(yv_real, yv_pred)\n",
    "    val_acc = accuracy_score(yv_real, yv_pred)\n",
    "    regs[reg] = [val_loss, val_acc]"
   ]
  },
  {
   "cell_type": "code",
   "execution_count": 100,
   "metadata": {},
   "outputs": [
    {
     "name": "stdout",
     "output_type": "stream",
     "text": [
      "{0.5: [0.008159718943014184, 0.9632812647564362], 1.0: [0.008168113715589303, 0.9632434882798482], 2.0: [0.008184903260739538, 0.9631679353266721]}\n"
     ]
    }
   ],
   "source": [
    "print(regs)"
   ]
  },
  {
   "cell_type": "markdown",
   "metadata": {},
   "source": [
    "Interestingly, for the model in which we encorporate the pre-trained word2vec model, there seems to be more of an overfitting, for which we need to add more regularization into our model.<br>\n",
    "So we will use a C=0.5 regularizer (as opposed to C=2 we had before)."
   ]
  },
  {
   "cell_type": "code",
   "execution_count": 101,
   "metadata": {
    "collapsed": true
   },
   "outputs": [],
   "source": [
    "classifier_new = LogisticRegression(multi_class='ovr', penalty='l2', C=0.5, random_state=0)\n",
    "logistic_clsf_new = classifier_new.fit(X_train_encoded,y_train_encoded) "
   ]
  },
  {
   "cell_type": "code",
   "execution_count": 102,
   "metadata": {
    "collapsed": true
   },
   "outputs": [],
   "source": [
    "y_pred = logistic_clsf_new.predict(X_train_encoded)"
   ]
  },
  {
   "cell_type": "code",
   "execution_count": 103,
   "metadata": {},
   "outputs": [
    {
     "name": "stdout",
     "output_type": "stream",
     "text": [
      "The training loss is: 0.007213628073798445\n"
     ]
    }
   ],
   "source": [
    "yt_real = lb.transform(y_train_encoded)\n",
    "yt_pred = lb.transform(y_pred)\n",
    "print(\"The training loss is: {}\".format(mean_squared_error(yt_real, yt_pred)))"
   ]
  },
  {
   "cell_type": "code",
   "execution_count": 104,
   "metadata": {},
   "outputs": [
    {
     "name": "stdout",
     "output_type": "stream",
     "text": [
      "the test error is: 0.0085597793862401\n",
      "the test accuracy is: 0.9614809927619196\n"
     ]
    }
   ],
   "source": [
    "y_test_pred = logistic_clsf_new.predict(X_test_encoded)\n",
    "yt_real = lb.transform(y_test_encoded)\n",
    "yt_pred = lb.transform(y_test_pred)\n",
    "print(\"the test error is: {}\".format(mean_squared_error(yt_real, yt_pred)))\n",
    "print(\"the test accuracy is: {}\".format(accuracy_score(yt_real, yt_pred)))"
   ]
  },
  {
   "cell_type": "code",
   "execution_count": 105,
   "metadata": {
    "collapsed": true
   },
   "outputs": [],
   "source": [
    "tagset = set(lb.classes_) - {'O'}\n",
    "tagset = sorted(tagset, key=lambda tag: tag.split('-', 1)[::-1])\n",
    "class_indices = {cls: idx for idx, cls in enumerate(lb.classes_)}"
   ]
  },
  {
   "cell_type": "code",
   "execution_count": 106,
   "metadata": {},
   "outputs": [
    {
     "name": "stdout",
     "output_type": "stream",
     "text": [
      "             precision    recall  f1-score   support\n",
      "\n",
      "      B-LOC       0.76      0.76      0.76      1084\n",
      "      I-LOC       0.62      0.48      0.54       325\n",
      "     B-MISC       0.53      0.45      0.49       339\n",
      "     I-MISC       0.51      0.27      0.35       557\n",
      "      B-ORG       0.78      0.82      0.80      1400\n",
      "      I-ORG       0.73      0.55      0.62      1104\n",
      "      B-PER       0.83      0.89      0.86       735\n",
      "      I-PER       0.89      0.92      0.91       634\n",
      "\n",
      "avg / total       0.74      0.69      0.71      6178\n",
      "\n"
     ]
    }
   ],
   "source": [
    "print(classification_report(\n",
    "        y_true = yt_real,\n",
    "        y_pred = yt_pred,\n",
    "        labels = [class_indices[cls] for cls in tagset],\n",
    "        target_names = tagset,\n",
    "    ))"
   ]
  },
  {
   "cell_type": "code",
   "execution_count": 107,
   "metadata": {},
   "outputs": [
    {
     "name": "stdout",
     "output_type": "stream",
     "text": [
      "[[  4088     25    396    118     39     18     88     12    129]\n",
      " [    50   1234    281     65      8     45    108      4    378]\n",
      " [   453    122   6290    113      7     29     97      5    274]\n",
      " [    45     19     91   4015      6     10     26      8    101]\n",
      " [   192     21     53     42   1053     40    181    100    209]\n",
      " [   139    141    117     23     58   1216    430     57   1031]\n",
      " [   316    160    280     25    167    221   3188     76    559]\n",
      " [    29     12     29     37     30     13     44   3630     79]\n",
      " [    30     89    103     18     36     86    130     20 231408]]\n"
     ]
    }
   ],
   "source": [
    "labels = classes\n",
    "cm = confusion_matrix(y_train_encoded, y_pred, labels)\n",
    "print(cm)"
   ]
  },
  {
   "cell_type": "code",
   "execution_count": 108,
   "metadata": {},
   "outputs": [
    {
     "data": {
      "image/png": "[encoded data removed]",
      "text/plain": [
       "<matplotlib.figure.Figure at 0x7fa48d0db0f0>"
      ]
     },
     "metadata": {},
     "output_type": "display_data"
    }
   ],
   "source": [
    "plot_confusion_matrix(cm=cm, normalize = False, target_names = labels, title = \"\")"
   ]
  },
  {
   "cell_type": "code",
   "execution_count": 109,
   "metadata": {},
   "outputs": [
    {
     "name": "stdout",
     "output_type": "stream",
     "text": [
      "['B-LOC' 'I-LOC' 'O' 'O' 'O' 'O' 'B-ORG' 'O' 'O' 'O']\n",
      "['B-LOC', 'I-LOC', 'O', 'O', 'O', 'O', 'B-ORG', 'O', 'O', 'O']\n"
     ]
    }
   ],
   "source": [
    "print(y_test_pred[:10])\n",
    "print(y_test_encoded[:10])"
   ]
  },
  {
   "cell_type": "code",
   "execution_count": 110,
   "metadata": {
    "collapsed": true
   },
   "outputs": [],
   "source": [
    "illigal_trans = {}\n",
    "for ind in range(len(y_test_pred)-1):\n",
    "    checkIsValid(illigal_trans, y_test_pred[ind], y_test_pred[ind+1])"
   ]
  },
  {
   "cell_type": "code",
   "execution_count": 111,
   "metadata": {},
   "outputs": [
    {
     "data": {
      "text/plain": [
       "[('O->I-ORG', 97),\n",
       " ('I-ORG->I-MISC', 50),\n",
       " ('I-MISC->I-ORG', 49),\n",
       " ('O->I-LOC', 38),\n",
       " ('O->I-MISC', 31),\n",
       " ('B-MISC->I-ORG', 21),\n",
       " ('B-ORG->I-MISC', 20),\n",
       " ('I-ORG->I-LOC', 17),\n",
       " ('I-LOC->I-ORG', 17),\n",
       " ('B-LOC->I-ORG', 15),\n",
       " ('B-ORG->I-LOC', 13),\n",
       " ('O->I-PER', 12),\n",
       " ('B-LOC->I-MISC', 11),\n",
       " ('I-ORG->I-PER', 11),\n",
       " ('B-ORG->I-PER', 10),\n",
       " ('I-LOC->I-PER', 8),\n",
       " ('I-PER->I-MISC', 8),\n",
       " ('B-LOC->I-PER', 6),\n",
       " ('B-MISC->I-LOC', 6),\n",
       " ('I-PER->I-ORG', 6),\n",
       " ('B-PER->I-LOC', 6),\n",
       " ('I-MISC->I-LOC', 5),\n",
       " ('I-LOC->I-MISC', 5),\n",
       " ('I-PER->I-LOC', 5),\n",
       " ('B-PER->I-ORG', 5),\n",
       " ('B-MISC->I-PER', 4),\n",
       " ('I-MISC->I-PER', 3),\n",
       " ('B-PER->I-MISC', 1)]"
      ]
     },
     "execution_count": 111,
     "metadata": {},
     "output_type": "execute_result"
    }
   ],
   "source": [
    "import operator\n",
    "sorted(illigal_trans.items(), key=operator.itemgetter(1), reverse=True)"
   ]
  },
  {
   "cell_type": "code",
   "execution_count": 112,
   "metadata": {},
   "outputs": [
    {
     "name": "stdout",
     "output_type": "stream",
     "text": [
      "There are a total of 480 illigal transitions.\n"
     ]
    }
   ],
   "source": [
    "print(\"There are a total of {} illigal transitions.\".format(sum(illigal_trans.values())))"
   ]
  },
  {
   "cell_type": "markdown",
   "metadata": {},
   "source": [
    "So when comparing the hybrid model (based on word2vec + one-hot encoded vectors) with the model which only uses the one-hot vectors:<br>\n",
    "Although we were able to gain a bit better accuracy and recall for the dictVectorizer from the previous section. The F-score in both is the same.<br>\n",
    "Another thing to notice is that the hybrid model had even more illigal transitions.<br>\n",
    "A possible explanation for this might be that the word2vec based model has the ability to learn word similarities, and therefor gives tags to similar words which might cause an illigal transition. Another possibility is that the hybrid model gives too much importance to the word vectors, which take up a big amount of space. But this is only a hypothesis.   "
   ]
  },
  {
   "cell_type": "code",
   "execution_count": null,
   "metadata": {
    "collapsed": true
   },
   "outputs": [],
   "source": []
  }
 ],
 "metadata": {
  "kernelspec": {
   "display_name": "Python 3",
   "language": "python",
   "name": "python3"
  },
  "language_info": {
   "codemirror_mode": {
    "name": "ipython",
    "version": 3
   },
   "file_extension": ".py",
   "mimetype": "text/x-python",
   "name": "python",
   "nbconvert_exporter": "python",
   "pygments_lexer": "ipython3",
   "version": "3.6.1"
  }
 },
 "nbformat": 4,
 "nbformat_minor": 2
}
